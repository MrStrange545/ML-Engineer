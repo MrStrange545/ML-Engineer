{
 "cells": [
  {
   "cell_type": "markdown",
   "id": "ffc074d5-192e-4ccb-9043-73378dc04883",
   "metadata": {},
   "source": [
    "# Contents\n",
    "1. Introduction\n",
    "2. Creation of arrays(from list, tuple)\n",
    "3. Creation of arrays(from zeroes, ones, full, eye, arange, linspace, uniform distribution, normal dist, randint, empty)\n",
    "4. Attributes(ndim, shape, dtype, size\n",
    "5. Array Indexing (1-D, 2-D, 3-D)\n",
    "6. Array Slicing (1-D, 2-D, 3-D)\n",
    "7. Accessing rows and columns"
   ]
  },
  {
   "cell_type": "markdown",
   "id": "5bdfbe4e-ed31-40bd-bd98-64decea777a1",
   "metadata": {},
   "source": [
    "Numpy is a numerical python library. It helps us to numerical calculations in a much faster way than it can happened in pure python."
   ]
  },
  {
   "cell_type": "code",
   "execution_count": 10,
   "id": "30992c37-f243-4c03-92d9-eeeca06dc178",
   "metadata": {},
   "outputs": [
    {
     "data": {
      "text/plain": [
       "[15, 50, 60, 'dev']"
      ]
     },
     "execution_count": 10,
     "metadata": {},
     "output_type": "execute_result"
    }
   ],
   "source": [
    "arr = [15,50,60, \"dev\"]\n",
    "arr"
   ]
  },
  {
   "cell_type": "code",
   "execution_count": 11,
   "id": "81498da6-1c61-4acf-bf1a-68918a79adc5",
   "metadata": {},
   "outputs": [
    {
     "name": "stdout",
     "output_type": "stream",
     "text": [
      "15\n",
      "50\n",
      "60\n",
      "dev\n"
     ]
    }
   ],
   "source": [
    "for i in arr:\n",
    "    print(i)"
   ]
  },
  {
   "cell_type": "code",
   "execution_count": 13,
   "id": "46e4b24e-922c-49b8-9bc1-239d7ee9d73c",
   "metadata": {},
   "outputs": [
    {
     "name": "stdout",
     "output_type": "stream",
     "text": [
      "['15' '50' '60' 'dev']\n",
      "['15' '50' '60' 'dev']\n"
     ]
    },
    {
     "data": {
      "text/plain": [
       "array([2, 3, 5])"
      ]
     },
     "execution_count": 13,
     "metadata": {},
     "output_type": "execute_result"
    }
   ],
   "source": [
    "# Importing numpy \n",
    "import numpy as np\n",
    "\n",
    "# create numpy array from list\n",
    "arr1 = np.array([15,50,60,\"dev\"])\n",
    "print(arr1)\n",
    "arr2 = np.array(arr)\n",
    "print(arr2)\n",
    "\n",
    "# create numpy array from tuple\n",
    "arr3 = np.array((2,3,5))\n",
    "arr3"
   ]
  },
  {
   "cell_type": "code",
   "execution_count": 15,
   "id": "9ce79d2a-d62e-40ba-96a6-ff8558247c8a",
   "metadata": {},
   "outputs": [
    {
     "data": {
      "text/plain": [
       "array([[1, 2, 3],\n",
       "       [4, 5, 6],\n",
       "       [7, 8, 9]])"
      ]
     },
     "execution_count": 15,
     "metadata": {},
     "output_type": "execute_result"
    }
   ],
   "source": [
    "B = np.array([[1,2,3],\n",
    "              [4,5,6],\n",
    "              [7,8,9]])\n",
    "B"
   ]
  },
  {
   "cell_type": "markdown",
   "id": "7a5b1514-816d-4fa8-b250-b474ac3979ee",
   "metadata": {},
   "source": [
    "### zeros"
   ]
  },
  {
   "cell_type": "code",
   "execution_count": 16,
   "id": "05224c2f-25b0-4f78-81a5-dafb90c926c6",
   "metadata": {},
   "outputs": [
    {
     "data": {
      "text/plain": [
       "array([0., 0., 0., 0., 0.])"
      ]
     },
     "execution_count": 16,
     "metadata": {},
     "output_type": "execute_result"
    }
   ],
   "source": [
    "A = np.zeros(5) # it creates an array with 5 zeroes\n",
    "A"
   ]
  },
  {
   "cell_type": "code",
   "execution_count": 17,
   "id": "99cae6ee-f4bb-4582-aac3-ff41dbc63f8a",
   "metadata": {},
   "outputs": [
    {
     "data": {
      "text/plain": [
       "array([[0., 0., 0., 0.],\n",
       "       [0., 0., 0., 0.],\n",
       "       [0., 0., 0., 0.]])"
      ]
     },
     "execution_count": 17,
     "metadata": {},
     "output_type": "execute_result"
    }
   ],
   "source": [
    "A1 = np.zeros((3,4))\n",
    "A1"
   ]
  },
  {
   "cell_type": "markdown",
   "id": "6a7bb3ad-fa95-4e4a-934a-2914f4e208b4",
   "metadata": {},
   "source": [
    "### Ones"
   ]
  },
  {
   "cell_type": "code",
   "execution_count": 18,
   "id": "969514b6-fe34-4579-b1e0-18996bd070c4",
   "metadata": {},
   "outputs": [
    {
     "data": {
      "text/plain": [
       "array([1., 1., 1., 1., 1., 1., 1., 1., 1., 1.])"
      ]
     },
     "execution_count": 18,
     "metadata": {},
     "output_type": "execute_result"
    }
   ],
   "source": [
    "A = np.ones(10) \n",
    "A"
   ]
  },
  {
   "cell_type": "code",
   "execution_count": 20,
   "id": "8d57fe82-9b73-4bd2-a16c-012d40cb036b",
   "metadata": {},
   "outputs": [
    {
     "data": {
      "text/plain": [
       "array([[1., 1., 1., 1.],\n",
       "       [1., 1., 1., 1.],\n",
       "       [1., 1., 1., 1.]])"
      ]
     },
     "execution_count": 20,
     "metadata": {},
     "output_type": "execute_result"
    }
   ],
   "source": [
    "A1 = np.ones((3,4))\n",
    "A1"
   ]
  },
  {
   "cell_type": "markdown",
   "id": "9b34f325-cce5-4db9-8a5a-352429c7485e",
   "metadata": {},
   "source": [
    "### full"
   ]
  },
  {
   "cell_type": "code",
   "execution_count": 23,
   "id": "fd1d3841-8fb6-4321-9a28-628bde8d8e53",
   "metadata": {},
   "outputs": [
    {
     "data": {
      "text/plain": [
       "array([7, 7, 7, 7, 7, 7, 7, 7, 7, 7])"
      ]
     },
     "execution_count": 23,
     "metadata": {},
     "output_type": "execute_result"
    }
   ],
   "source": [
    "A = np.full(10,7)\n",
    "A"
   ]
  },
  {
   "cell_type": "code",
   "execution_count": 24,
   "id": "c54c2b55-04c9-4e1a-b129-b2fa19f71f35",
   "metadata": {},
   "outputs": [
    {
     "data": {
      "text/plain": [
       "array([[3, 3, 3, 3],\n",
       "       [3, 3, 3, 3],\n",
       "       [3, 3, 3, 3]])"
      ]
     },
     "execution_count": 24,
     "metadata": {},
     "output_type": "execute_result"
    }
   ],
   "source": [
    "A1 = np.full((3,4), 3)\n",
    "A1"
   ]
  },
  {
   "cell_type": "markdown",
   "id": "8f69a83e-1fb3-423a-b034-055fb9559ada",
   "metadata": {},
   "source": [
    "### arange"
   ]
  },
  {
   "cell_type": "code",
   "execution_count": 28,
   "id": "21d23511-4c2e-4057-b56e-edc42912c6d9",
   "metadata": {},
   "outputs": [
    {
     "data": {
      "text/plain": [
       "array([ 1,  4,  7, 10])"
      ]
     },
     "execution_count": 28,
     "metadata": {},
     "output_type": "execute_result"
    }
   ],
   "source": [
    "# range(start, stop, step) \n",
    "\n",
    "A = np.arange(1,11,3)\n",
    "A"
   ]
  },
  {
   "cell_type": "markdown",
   "id": "b97e2890-ef5b-4055-a5cb-937cacd3eb67",
   "metadata": {},
   "source": [
    "### eye"
   ]
  },
  {
   "cell_type": "code",
   "execution_count": 32,
   "id": "325745de-d872-4811-8c93-234380cf33df",
   "metadata": {},
   "outputs": [
    {
     "data": {
      "text/plain": [
       "array([[1., 0., 0., 0., 0.],\n",
       "       [0., 1., 0., 0., 0.],\n",
       "       [0., 0., 1., 0., 0.],\n",
       "       [0., 0., 0., 1., 0.],\n",
       "       [0., 0., 0., 0., 1.]])"
      ]
     },
     "execution_count": 32,
     "metadata": {},
     "output_type": "execute_result"
    }
   ],
   "source": [
    "A = np.eye(5) # N * N \n",
    "A"
   ]
  },
  {
   "cell_type": "markdown",
   "id": "74234dc2-1e25-4ed7-92a8-4068c8bd6893",
   "metadata": {},
   "source": [
    "### linspace"
   ]
  },
  {
   "cell_type": "code",
   "execution_count": 35,
   "id": "a7a8f0f4-caf9-4fee-acd6-3cee9d7b1e46",
   "metadata": {},
   "outputs": [
    {
     "data": {
      "text/plain": [
       "array([ 1.  ,  3.25,  5.5 ,  7.75, 10.  ])"
      ]
     },
     "execution_count": 35,
     "metadata": {},
     "output_type": "execute_result"
    }
   ],
   "source": [
    "A = np.linspace(1,10,5) # linspace(start of the range, end of the range, number of values)\n",
    "A"
   ]
  },
  {
   "cell_type": "markdown",
   "id": "5e0b5a2f-2253-4ad1-a543-fc51b8036ce1",
   "metadata": {},
   "source": [
    "### rand()"
   ]
  },
  {
   "cell_type": "code",
   "execution_count": 40,
   "id": "eb870677-43eb-4721-8ef6-b41abeb8ee94",
   "metadata": {},
   "outputs": [
    {
     "data": {
      "text/plain": [
       "array([0.78099023, 0.44539078, 0.35442551, 0.51871906, 0.4692445 ,\n",
       "       0.46364021, 0.62834194, 0.24664328, 0.19339405, 0.08806516])"
      ]
     },
     "execution_count": 40,
     "metadata": {},
     "output_type": "execute_result"
    }
   ],
   "source": [
    "A = np.random.rand(10)\n",
    "A"
   ]
  },
  {
   "cell_type": "code",
   "execution_count": 43,
   "id": "17367e02-6cd7-46f0-ad96-d889aaefd917",
   "metadata": {},
   "outputs": [
    {
     "data": {
      "text/plain": [
       "array([[0.19352577, 0.22358888, 0.43686345, 0.72038763],\n",
       "       [0.92323841, 0.36559683, 0.2502929 , 0.56168469],\n",
       "       [0.29522268, 0.91714728, 0.956436  , 0.96915251]])"
      ]
     },
     "execution_count": 43,
     "metadata": {},
     "output_type": "execute_result"
    }
   ],
   "source": [
    "A1 = np.random.rand(3,4)\n",
    "A1"
   ]
  },
  {
   "cell_type": "markdown",
   "id": "bc1fe905-d0db-4b6f-ad6f-adbb2db4b47a",
   "metadata": {},
   "source": [
    "### randn()"
   ]
  },
  {
   "cell_type": "code",
   "execution_count": 44,
   "id": "67eb5e21-55a8-480d-9c06-3b38b25b4a4e",
   "metadata": {},
   "outputs": [
    {
     "data": {
      "text/plain": [
       "array([-0.35550747,  0.52573992, -1.62350062,  0.1248245 ,  0.3500308 ,\n",
       "       -0.2357163 ,  0.4424158 , -1.22201103,  1.29497733, -0.48370925])"
      ]
     },
     "execution_count": 44,
     "metadata": {},
     "output_type": "execute_result"
    }
   ],
   "source": [
    "A = np.random.randn(10)\n",
    "A"
   ]
  },
  {
   "cell_type": "code",
   "execution_count": 45,
   "id": "00a35a40-f2ea-406b-8ffc-9e9922fd5dc8",
   "metadata": {},
   "outputs": [
    {
     "data": {
      "text/plain": [
       "array([[ 1.76532968, -0.79034528, -1.1603388 ,  0.48635941],\n",
       "       [-1.61405232, -0.34347933, -1.8466671 , -0.10094434],\n",
       "       [ 0.39919072, -0.00756274,  0.83046536, -1.32953754]])"
      ]
     },
     "execution_count": 45,
     "metadata": {},
     "output_type": "execute_result"
    }
   ],
   "source": [
    "A1 = np.random.randn(3,4)\n",
    "A1"
   ]
  },
  {
   "cell_type": "markdown",
   "id": "b6353795-a431-44a8-ba47-02e85621466f",
   "metadata": {},
   "source": [
    "### randint"
   ]
  },
  {
   "cell_type": "code",
   "execution_count": 50,
   "id": "ef90a494-fea6-436f-84bb-6a0cb0895e73",
   "metadata": {},
   "outputs": [
    {
     "data": {
      "text/plain": [
       "array([18,  6, 16, 17, 14,  4, 10, 10, 12,  4])"
      ]
     },
     "execution_count": 50,
     "metadata": {},
     "output_type": "execute_result"
    }
   ],
   "source": [
    "A = np.random.randint(1,20,10)\n",
    "A"
   ]
  },
  {
   "cell_type": "code",
   "execution_count": 52,
   "id": "0e984fe5-7b41-42f4-91fb-d9e9801e2751",
   "metadata": {},
   "outputs": [
    {
     "data": {
      "text/plain": [
       "array([[4, 2, 1, 2],\n",
       "       [1, 2, 5, 1],\n",
       "       [2, 2, 2, 2]])"
      ]
     },
     "execution_count": 52,
     "metadata": {},
     "output_type": "execute_result"
    }
   ],
   "source": [
    "A1 = np.random.randint(1,6,(3,4))\n",
    "A1"
   ]
  },
  {
   "cell_type": "code",
   "execution_count": 57,
   "id": "df947a63-13dd-4fa6-8bc9-c8d6d11fad0e",
   "metadata": {},
   "outputs": [
    {
     "data": {
      "text/plain": [
       "array([[9.9e-324, 1.5e-323, 4.9e-324, 4.9e-324],\n",
       "       [9.9e-324, 2.5e-323, 4.9e-324, 2.5e-323],\n",
       "       [1.5e-323, 2.5e-323, 2.0e-323, 4.9e-324]])"
      ]
     },
     "execution_count": 57,
     "metadata": {},
     "output_type": "execute_result"
    }
   ],
   "source": [
    "A = np.empty((3,4))\n",
    "A"
   ]
  },
  {
   "cell_type": "code",
   "execution_count": null,
   "id": "ce949618-f191-4970-a4d4-802d77240d3c",
   "metadata": {},
   "outputs": [],
   "source": []
  }
 ],
 "metadata": {
  "kernelspec": {
   "display_name": "Python 3 (ipykernel)",
   "language": "python",
   "name": "python3"
  },
  "language_info": {
   "codemirror_mode": {
    "name": "ipython",
    "version": 3
   },
   "file_extension": ".py",
   "mimetype": "text/x-python",
   "name": "python",
   "nbconvert_exporter": "python",
   "pygments_lexer": "ipython3",
   "version": "3.12.5"
  }
 },
 "nbformat": 4,
 "nbformat_minor": 5
}
