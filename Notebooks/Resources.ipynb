{
 "cells": [
  {
   "cell_type": "markdown",
   "id": "7928eada-bbd8-481a-b88b-e20d3bd029bc",
   "metadata": {},
   "source": [
    "# Deep Learning\n",
    "- [Deep learning short course - Computonix Academy](https://www.youtube.com/playlist?list=PLbhG8a6LeFDbklCmyDMT9oREEdDqeqPQR)\n",
    "- [Intro to Deep Learning](https://www.mlatuva.org/lectures)\n",
    "\n",
    "## Youtube Channels\n",
    "- [Must watch-1](https://www.youtube.com/@Siddhardhan/playlists)\n",
    "\n",
    "\n",
    "## Must Read Books [no matter what]\n",
    "\n",
    "\n",
    "### IITM\n",
    "- [BSc notes](https://bsc-iitm.github.io/karthikt/notes/)\n",
    "\n",
    "\n",
    "# youtube playlists to complete\n",
    "- [Advanced Algorithms - (Not Completed)](https://www.youtube.com/playlist?list=PLZ2ps__7DhBbq4xWFpP8kifZJ0wnVNJJ5)\n",
    "- [Speech Technology - (Not Completed)](https://www.youtube.com/playlist?list=PLZ2ps__7DhBaI_g3_V-CFrgFIf-0Yksiv)\n",
    "- [Statistical Computing - (Not Completed)](https://www.youtube.com/playlist?list=PLZ2ps__7DhBZxMmJF-AoxWfaZNsAtgtcz)\n",
    "- "
   ]
  },
  {
   "cell_type": "code",
   "execution_count": null,
   "id": "82c66d76-00b3-4633-bf66-2419df68c214",
   "metadata": {},
   "outputs": [],
   "source": []
  }
 ],
 "metadata": {
  "kernelspec": {
   "display_name": "Python 3 (ipykernel)",
   "language": "python",
   "name": "python3"
  },
  "language_info": {
   "codemirror_mode": {
    "name": "ipython",
    "version": 3
   },
   "file_extension": ".py",
   "mimetype": "text/x-python",
   "name": "python",
   "nbconvert_exporter": "python",
   "pygments_lexer": "ipython3",
   "version": "3.12.5"
  }
 },
 "nbformat": 4,
 "nbformat_minor": 5
}
