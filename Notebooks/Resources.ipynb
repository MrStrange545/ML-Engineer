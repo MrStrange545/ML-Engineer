{
 "cells": [
  {
   "cell_type": "markdown",
   "id": "7928eada-bbd8-481a-b88b-e20d3bd029bc",
   "metadata": {},
   "source": [
    "# Deep Learning\n",
    "- [Deep learning short course - Computonix Academy](https://www.youtube.com/playlist?list=PLbhG8a6LeFDbklCmyDMT9oREEdDqeqPQR)"
   ]
  },
  {
   "cell_type": "code",
   "execution_count": null,
   "id": "82c66d76-00b3-4633-bf66-2419df68c214",
   "metadata": {},
   "outputs": [],
   "source": []
  }
 ],
 "metadata": {
  "kernelspec": {
   "display_name": "Python 3 (ipykernel)",
   "language": "python",
   "name": "python3"
  },
  "language_info": {
   "codemirror_mode": {
    "name": "ipython",
    "version": 3
   },
   "file_extension": ".py",
   "mimetype": "text/x-python",
   "name": "python",
   "nbconvert_exporter": "python",
   "pygments_lexer": "ipython3",
   "version": "3.12.5"
  }
 },
 "nbformat": 4,
 "nbformat_minor": 5
}
