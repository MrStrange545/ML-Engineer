{
 "cells": [
  {
   "cell_type": "markdown",
   "id": "b3a45cd0-44bd-40c9-aa23-b44623880e2b",
   "metadata": {},
   "source": [
    "[![Open in Colab](https://colab.research.google.com/assets/colab-badge.svg)](https://colab.research.google.com/github/MrStrange545/ML-Engineer/blob/main/Notebooks/08_ML_cheatsheat.ipynb)\n",
    "# Table Of Contents\n",
    "- [1.ML Model Workflow](#1.ML-model-workflow)\n",
    "- [2.Best Advices](#2.Best-advices)"
   ]
  },
  {
   "cell_type": "markdown",
   "id": "631264d6-615a-44b7-a359-0649c53bd5a5",
   "metadata": {},
   "source": [
    "# 1.ML-model-workflow\n",
    "\n",
    "```There is no fized rule, you have to get your hands dirty, it is just that you must be able to explain everything and organize well```\n",
    "1. **Problem Statement:** what our model is intended to do.\n",
    "2. **Data Collection:** from sklearn datasets or from some other datasets.\n",
    "3. **Data Preprocessing:**\n",
    "    1. Cleaning: Handling missing values, remove duplicates, and correct inconsistencies\n",
    "    2. Transformation: Normalize, scale, or encode categorical variables as needed.\n",
    "    3. Splitting: Divide the data into training, validation, and test sets.\n",
    "4. **EDA:**\n",
    "   1. Visualization: Use plots and graphs to understand distributions and relationships.\n",
    "   2. Feature engineering: create new features or modify existing ones to improve model performance\n",
    "5. **Model Selection:**\n",
    "   1. Choose algorithms: select appropriate algorithms based on the problem type (classification, regression, etc)\n",
    "   2. Baseline Model: Implement a simple model to serve as a performance baseline.\n",
    "6. **Model Training:**\n",
    "   1. Training: Train the model on training datasets.\n",
    "   2. Hyperparameter tuning: Optimize hyperparameters using techniques grid search or random search.\n",
    "7. **Model Evaluation:**\n",
    "   1. Performance Metrics: Evaluate the model using appropraite metrics(accuracy, F1-score, RMSE, etc.).\n",
    "   2. Cross-Validation: Use cross-validation to ensure model stability and avoid overfitting.\n",
    "8. **Model Deployment:**\n",
    "   1. Integration: Deploy the model or integrate it into an application.\n",
    "   2. Monitoring: Set up monitoring to track model performance over time.\n",
    "9. **Maintenance:**\n",
    "    1. Model Updating: Regularly retrain the model with new data to ensure it remains accurate.\n",
    "    2. Feedback Loop: Use feedback from users and performance metrics to iterate and improve the model.\n",
    "10. **Documentation and Reporting:**\n",
    "    1. Document Process: Keep detailed records of the process, decision made, and outcomes.\n",
    "    2. Reporting: Create reports or presentations to share findings and results with stakeholders."
   ]
  },
  {
   "cell_type": "markdown",
   "id": "a87edfe7-58e7-4454-aab5-5cd119cbc244",
   "metadata": {},
   "source": [
    "## 2.Best-advices\n",
    "- Rather than wasting time to collect more data, Run some tests and figure out the actual problem, maybe we need to change the architecture or trying something else. (more data is not something that individually can make your model perfect)\n",
    "- Becoming really good at debugging machine learning algorithms is beneficial at getting something to work.\n",
    "- The only way to learn faster something is to \"do\" (project) rather than watching tutorials or video.\n",
    "- Get your hands Dirty. If something doesn't work really gets deep into why it doesn't work.\n",
    "- Take handwritten notes\n",
    "- you have to put 10,000 hours.\n",
    "- Always be a creater...( yeah! it is satisfying)\n",
    "- Reimplement things from scratch or sometimes from paper.\n",
    "- Focus on Cost Functions.\n",
    "- Don't listen too much advice"
   ]
  },
  {
   "cell_type": "markdown",
   "id": "04081fd5-b34f-4c81-86a2-ad6125c8668b",
   "metadata": {},
   "source": [
    "# Resources\n",
    "\n",
    "## Chatgpt prompt\n",
    "Suppose I am a machine learning engineer(novice) tell me several tips and tricks or best practices or you can say things or advices that only come by experience  in ML job or data science job, I want you tell me those insights and helpful things that can accelerate my working with projects, it can be library, or some efficient way of doing specific things, or achieving a outcome of task A in more efficient manner than a novice ML engineer or data scientist would do.\n",
    "\n",
    "## Awesome Websites\n",
    "1. **figjam:** A online whiteboard "
   ]
  },
  {
   "cell_type": "markdown",
   "id": "a13ad46c-8927-4a2e-9094-1d446dfac191",
   "metadata": {},
   "source": [
    "# Notes"
   ]
  },
  {
   "cell_type": "markdown",
   "id": "9a8b90ae-5520-41ef-bfff-cfbf08e0e4b2",
   "metadata": {},
   "source": [
    "## Machine Learning\n",
    "- **Batch learning** is like we have data and then we build a model and trained it on that data and we deploy the model, that's it. Once deployed, it typically doesn't learn from new data until we collect another batch, retrain, and redeploy.\n",
    "   - Useful, when data is quite static.\n",
    "- **Online Learning**, we build a pipeline and then data is coming on the fly, model is continously training along with users can use it.In this, model can learn from user behaviour in real-time.\n",
    "  - It is useful when data is continously changing.\n",
    "- **Performance Measure:** MAE, MSE, RMSE, R-Squared, Adjusted R-Squared, Manhattan norm, etc."
   ]
  },
  {
   "cell_type": "markdown",
   "id": "7f862f0d-13b3-479f-8873-2b394640c14c",
   "metadata": {},
   "source": [
    "## Pandas\n",
    "- `info()` is useful to check if there is any null values.\n",
    "- `series.value_counts()` is useful to count the frequency of values.\n",
    "\n",
    "### `describe()`\n",
    "- **count:** gives the count of non-null values.\n",
    "- **mean:** gives the average of series\n",
    "- **std:** measure that shows how much values are spreaded around mean\n",
    "- **min:** minimum value of the series\n",
    "- **25%:** 25% values in series are less than the value shown.\n",
    "- **50%:** 50% values in series are less than the value shown.\n",
    "- **75%:** 75% values in series are less than the value shown.\n",
    "- **max:** maximum value in the series\n",
    "\n",
    "### `corr()`\n",
    "What is correlation coefficient?\n",
    "- if you increase one thing, then other thing will increase or decrease, this is shown by correlation coefficient.\n",
    "- if cc = 1, then directly proptional\n",
    "- if cc = 0, then no relation\n",
    "- if cc = -1, then inversely proptional\n",
    ">Generally we have to find correlation of label with every other feature."
   ]
  },
  {
   "cell_type": "markdown",
   "id": "a93e4465-60f5-4822-bf35-08a8843cabee",
   "metadata": {},
   "source": [
    "## Seaborn\n",
    "\n",
    "### Boxplot\n",
    "A box plot (or box-and-whisker plot) is a standardized way of displaying the distribution of data based on a five-number summary: minimum, first quartile (Q1), median, third quartile (Q3), and maximum.\n",
    "\n",
    "#### Components of Box plot\n",
    "1. **Box**\n",
    "    - The box represents the IQR, this contains the middlw 50% of the data.\n",
    "    - The line inside the box indicates the median (the 50th percentile)\n",
    "2. **Whiskers**\n",
    "    - the whiskers extend from the box to the smallest and largest values within 1.5 times the IQR from the lower and upper quartiles, respectively.\n",
    "3. **Outliers**\n",
    "    - Any points that fall outside the whiskers are considered as outliers. These are plotted as individual points.\n",
    "  \n",
    "4. "
   ]
  },
  {
   "cell_type": "code",
   "execution_count": null,
   "id": "7b00ccb2-4ecb-4f45-8909-3b9086a02962",
   "metadata": {},
   "outputs": [],
   "source": []
  }
 ],
 "metadata": {
  "kernelspec": {
   "display_name": "Python 3 (ipykernel)",
   "language": "python",
   "name": "python3"
  },
  "language_info": {
   "codemirror_mode": {
    "name": "ipython",
    "version": 3
   },
   "file_extension": ".py",
   "mimetype": "text/x-python",
   "name": "python",
   "nbconvert_exporter": "python",
   "pygments_lexer": "ipython3",
   "version": "3.12.5"
  }
 },
 "nbformat": 4,
 "nbformat_minor": 5
}
