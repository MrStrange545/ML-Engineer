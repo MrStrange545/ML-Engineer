{
 "cells": [
  {
   "cell_type": "markdown",
   "id": "89322d84-2f89-453f-934c-5a33324342c3",
   "metadata": {},
   "source": [
    "# 1.Sentences"
   ]
  },
  {
   "cell_type": "markdown",
   "id": "ef117634-b696-4e4b-9de1-9c9765370510",
   "metadata": {},
   "source": [
    "- `secret sauce`: there is a secret sauce which does not make it procedural and what is that?\n",
    "- "
   ]
  }
 ],
 "metadata": {
  "kernelspec": {
   "display_name": "Python 3 (ipykernel)",
   "language": "python",
   "name": "python3"
  },
  "language_info": {
   "codemirror_mode": {
    "name": "ipython",
    "version": 3
   },
   "file_extension": ".py",
   "mimetype": "text/x-python",
   "name": "python",
   "nbconvert_exporter": "python",
   "pygments_lexer": "ipython3",
   "version": "3.12.5"
  }
 },
 "nbformat": 4,
 "nbformat_minor": 5
}
