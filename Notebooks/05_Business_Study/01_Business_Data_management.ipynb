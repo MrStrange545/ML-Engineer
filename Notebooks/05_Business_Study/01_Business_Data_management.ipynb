{
 "cells": [
  {
   "cell_type": "markdown",
   "id": "b0f8aaae-d26b-4ac1-bd5c-07218607887a",
   "metadata": {},
   "source": [
    "# Table-of-Contents"
   ]
  },
  {
   "cell_type": "markdown",
   "id": "256e6f41-48da-415a-8549-9f4c87d1321f",
   "metadata": {},
   "source": [
    "# 1.Introduction\n",
    "## 1.1. What is the need for this course?\n",
    "When we will be working in real life jobs then majority of the data sets and analyses that we will come across will be from the space of business.\n",
    "- from within companies\n",
    "- from the markets in which the companies operate\n",
    "\n",
    "# 2.Economics\n",
    "- Households buy goods and services from firms.\n",
    "- Households offer land, labour and capital to firms.\n",
    "- The flow of these from one side to another is studied in economics.\n",
    "\n",
    "## 2.1.Need-for-an-underlying-method-of-modeling\n",
    "- Where do we start if we have to understand what companies do?\n",
    "- What model do we use to interpret the data that is generated from their operations?\n",
    "- What does the consumption data indicate in terms of future consumption trends?\n",
    "- What does the data about trade in goods and services tell us?\n",
    "\n",
    " >Economics tries to create mathematical models that can be used to explain the economic behaviour of people and firms.\n",
    "\n",
    "## 2.2.Trade creates value\n",
    "\n",
    "\n",
    "\n"
   ]
  }
 ],
 "metadata": {
  "kernelspec": {
   "display_name": "Python 3 (ipykernel)",
   "language": "python",
   "name": "python3"
  },
  "language_info": {
   "codemirror_mode": {
    "name": "ipython",
    "version": 3
   },
   "file_extension": ".py",
   "mimetype": "text/x-python",
   "name": "python",
   "nbconvert_exporter": "python",
   "pygments_lexer": "ipython3",
   "version": "3.12.5"
  }
 },
 "nbformat": 4,
 "nbformat_minor": 5
}
