{
 "cells": [
  {
   "cell_type": "markdown",
   "id": "b0f8aaae-d26b-4ac1-bd5c-07218607887a",
   "metadata": {},
   "source": [
    "# Table-of-Contents"
   ]
  },
  {
   "attachments": {},
   "cell_type": "markdown",
   "id": "256e6f41-48da-415a-8549-9f4c87d1321f",
   "metadata": {},
   "source": [
    "# 1.Introduction\n",
    "## 1.1. What is the need for this course?\n",
    "When we will be working in real life jobs then majority of the data sets and analyses that we will come across will be from the space of business.\n",
    "- from within companies\n",
    "- from the markets in which the companies operate\n",
    "\n",
    "# 2.Economics\n",
    "- Households buy goods and services from firms.\n",
    "- Households offer land, labour and capital to firms.\n",
    "- The flow of these from one side to another is studied in economics.\n",
    "\n",
    "## 2.1.Need-for-an-underlying-method-of-modeling\n",
    "- Where do we start if we have to understand what companies do?\n",
    "- What model do we use to interpret the data that is generated from their operations?\n",
    "- What does the consumption data indicate in terms of future consumption trends?\n",
    "- What does the data about trade in goods and services tell us?\n",
    "\n",
    " >Economics tries to create mathematical models that can be used to explain the economic behaviour of people and firms.\n",
    "\n",
    "## 2.2.Trade creates value\n",
    "Let's understand what is trade with the help of an example.\n",
    "- Punjab produces excess wheat that they cannot consume locally.\n",
    "- Tamil Nadu produces more mobile phones than what is needed locally.\n",
    "- People in Pubjab need mobile phones which are not made locally.\n",
    "- People in Tamil Nadu need wheat which is not grown in adequate quantities locally.\n",
    "- So, There can be a exchange system between Punjab and Tamil Nadu.\n",
    "- This exchange system is known as `Trade` and it creates value.\n",
    "- The excess wheat in punjab was not having any value in punjab but when it is transferred from punjab to Tamil Nadu a value created because Tamil Nadu need wheat and they are willing to pay high prices for wheat. Similarly, people in punjab have much higher value for phones that are manufactured in Tamil Nadu, When these excessive phones which do not have much value will be exported to punjab it will give high value.\n",
    "- The barter trade between Punjab and Tamil Nadu increases value for both.\n",
    "\n",
    "Typically, we don't do barter, we have currency so `Trade is settled using money`.\n",
    "\n",
    "## 2.3. Circular flow model\n",
    ">Firms <-> Households\n",
    " \n",
    "- Firms can include Banks, Factories, Manufacturing companies, component manufacturing units, real estate business, retailers, whole salers and everyone who is selling something.\n",
    "\n",
    "![Circular Flow Model](attachments/01.png)\n",
    "\n",
    "![Circular Flow Model](attachments/02.png)\n",
    "\n"
   ]
  },
  {
   "cell_type": "code",
   "execution_count": null,
   "id": "cdba7e3b-4eaf-4183-a956-3c56b002b4ab",
   "metadata": {},
   "outputs": [],
   "source": []
  }
 ],
 "metadata": {
  "kernelspec": {
   "display_name": "Python 3 (ipykernel)",
   "language": "python",
   "name": "python3"
  },
  "language_info": {
   "codemirror_mode": {
    "name": "ipython",
    "version": 3
   },
   "file_extension": ".py",
   "mimetype": "text/x-python",
   "name": "python",
   "nbconvert_exporter": "python",
   "pygments_lexer": "ipython3",
   "version": "3.12.5"
  }
 },
 "nbformat": 4,
 "nbformat_minor": 5
}
