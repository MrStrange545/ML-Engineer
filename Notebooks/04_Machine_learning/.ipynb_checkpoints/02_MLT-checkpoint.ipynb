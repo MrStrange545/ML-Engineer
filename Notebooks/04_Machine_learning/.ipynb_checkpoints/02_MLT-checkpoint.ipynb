{
 "cells": [
  {
   "cell_type": "markdown",
   "id": "7d17bdcb-3e68-42f6-a69b-9a6104481e98",
   "metadata": {},
   "source": [
    "# 1.Introduction"
   ]
  },
  {
   "cell_type": "markdown",
   "id": "6b82258d-c215-4fc2-911b-879e5fe9e701",
   "metadata": {},
   "source": [
    "## 1.1.Top-10-digital-transformation-trends\n",
    "- 5G\n",
    "- A faster WiFi\n",
    "- `Analytics`\n",
    "- `AI and Machine Learning`\n",
    "- Blockchain\n",
    "- RPA\n",
    "- `Conversational AI`\n",
    "- Connected vehicles, `autonomous drones` and smart cities\n",
    "- Xaas, UX/CX, and privacy\n",
    "\n",
    "Machine Learning is used in most of the digital things especially in the above highlighted things."
   ]
  },
  {
   "cell_type": "markdown",
   "id": "654d9cb2-766f-4b85-a9d2-f9ee40248b83",
   "metadata": {},
   "source": [
    "## 1.2.Where-can-we-apply-ml\n",
    "The main application of ML is to `mimic human capabilities`.\n",
    "### 1.2.1.Vision\n",
    "Humans can see and interpret, we want same capability for machines.\n",
    "For this we have Computer vision. The whole task of computer vision is to provide the ability to see to machines.\n",
    "\n",
    "### 1.2.2.Speech\n",
    "Speech is another capability that a human can do, we want machines to speak, For this we have Natural language processing."
   ]
  },
  {
   "cell_type": "markdown",
   "id": "b7837e2b-7b1f-44c0-8cc3-7932980317cc",
   "metadata": {},
   "source": [
    "## 1.3.What-is-machine-learning\n",
    "Let's first see what is not machine learning.\n",
    "- `Procedure`: when we have some Input and this input goes through some algorithm and series of defined calculation (with no learning) then this procedure is not machine learning. Because, nothing is learnt here, algorithm does not enhanced itself.\n",
    "- `Memorize`: Machine learning is not memorization.\n",
    "- `Magic`: Machine learning is not magic. Although what machine learning does seems like magic but it is not.\n",
    "\n",
    "Now, Let's look what exactly is machine learning\n",
    "- `Data driven`: All machine learning algorithms are data driven, they work with data, they learn from the data, they find the pattern in the data. Here also we have algorithms, how these algorithms are different from standard computer science algorithms, that is a secret sauce and i.e. data.\n",
    "- `Generalize`: Generalize means, you actually learn, and you can predict the label well on unseen data.\n",
    "- `Math!`: Machine learning is all about Mathematics and Statistics. It is not the magic but the math what actually do things."
   ]
  },
  {
   "cell_type": "markdown",
   "id": "1c7de547-ea17-41a2-891f-9beda9b4ea45",
   "metadata": {},
   "source": [
    "## 1.4.Aplication-of-ml\n",
    "Let's see what are the concrete example of Machine learning.\n",
    "- Spam or Non-spam  ------------(Binary classification)\n",
    "- Forecasting rainfall----------(Regression)\n",
    "- Recommending movies-----------(Ordinal Classification)\n",
    "- Friend suggestions------------(Link Prediction)\n",
    "- Voice/Instrument separation---(Unsupervised learning)\n",
    "- Grouping pictures in phone----(Clustering)\n",
    "- Robot navigation--------------(Reinforcement learning)\n",
    "- Stock market prediction-------(online learning)\n",
    "- etc..."
   ]
  },
  {
   "cell_type": "markdown",
   "id": "6bc2d1ef-307c-4b67-9976-632a1ed8043c",
   "metadata": {},
   "source": [
    "## 1.5.Paradigms-of-ml\n",
    "### 1.5.1.Supervised-learning\n",
    "In this learning, with addition to data, we have some sort of supervision.\n",
    "\n",
    "For example: In Spam-detection problem, you might have lots of email with you, but with some teacher/labeller to tell you that these are the emails which are spams and these are not.\n",
    "\n",
    "After training, that which ones are spam and which ones are not we can label spam or not spam on a unseen email with high accuracy.\n",
    "\n",
    "In summary, in supervised, you do not only have data but also labels associated with them.\n",
    "\n",
    "Subcategories\n",
    "- Classification\n",
    "   - Binary\n",
    "   - Multiclass\n",
    "   - Ordinal\n",
    "- Regression\n",
    "- Ranking\n",
    "- Struture learning\n",
    "### 1.5.2.Unsupervised-learning\n",
    "In this learning, you are just given bunch of data, now your machine learning algorithm has to identify or recognize patterns in it, patterns can be based on different things, and multiple patterns can be drawn from the picture or data, once we fixed which pattern we have to look for then we can have different categories, and our data point can fall into one of those categories.\n",
    "\n",
    "Subcategories\n",
    "- Clustering\n",
    "- Representation learning\n",
    "\n",
    "### 1.5.3.Sequential-learning\n",
    "In sequential learning, algorithm does not learn in one shot but in sequential fashion.\n",
    "\n",
    "Subcategories\n",
    "- Online Learning\n",
    "- Multi-armed Bandits\n",
    "- Reinforcement learning"
   ]
  },
  {
   "cell_type": "markdown",
   "id": "e0f5fe9c-5f5e-47e1-8422-537c24f86a03",
   "metadata": {},
   "source": [
    "Pre Requisites\n",
    "- Linear Algebra----------------------(Structure of the model)\n",
    "- Probability/Stats---------------------(Uncertainity)\n",
    "- Basic high school calculus--------------(Decision)"
   ]
  },
  {
   "cell_type": "code",
   "execution_count": null,
   "id": "86a0f65f-719f-493d-9086-44849bb4bc17",
   "metadata": {},
   "outputs": [],
   "source": [
    "# 2."
   ]
  }
 ],
 "metadata": {
  "kernelspec": {
   "display_name": "Python 3 (ipykernel)",
   "language": "python",
   "name": "python3"
  },
  "language_info": {
   "codemirror_mode": {
    "name": "ipython",
    "version": 3
   },
   "file_extension": ".py",
   "mimetype": "text/x-python",
   "name": "python",
   "nbconvert_exporter": "python",
   "pygments_lexer": "ipython3",
   "version": "3.12.5"
  }
 },
 "nbformat": 4,
 "nbformat_minor": 5
}
