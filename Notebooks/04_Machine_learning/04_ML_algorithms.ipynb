{
 "cells": [
  {
   "cell_type": "markdown",
   "id": "2fef2dbe-7fbb-4bee-9159-38c643207cd0",
   "metadata": {},
   "source": [
    "# 1.Unsupervised Learning\n",
    "## 1.1. Principal Component Analysis\n",
    "\n",
    "### Aim of PCA\n",
    "The primary aim of PCA is to reduce the dimensionality of a dataset while preserving as much variance(information) as possible. This makes data visualization and analysis easier.\n",
    "\n",
    "### Objectives of PCA\n",
    "- **Dimensionality Reduction:** Reduce the number of features in a dataset while retaining significant information\n",
    "- **Data Visualization:** Enable visualization of high-dimensional data in 2D or 3D space.\n",
    "- **Noise Reduction:** Eliminate a less important features that might add noise to the data.\n",
    "- **Feature Extraction:** Create new features(principal components) that summarize the original features effectively.\n",
    "\n",
    "### Use-Cases\n",
    "- **Image Compression:** Reducing the size of image files while maintaining quality.\n",
    "- **Genomics:** Identifying patterns in high-dimensional genetic data.\n",
    "- **Finance:** Portfolio management by reducing the number of correlated assets.\n",
    "- **Social Media:** Analyzing user behaviour by reducing the number of features  in user data.\n",
    "\n",
    "### Terminology\n",
    "- **Principal Components:** New axes in the transformed space that represent the directions of maximum variance.\n",
    "- **Eigenvalues:** Indicate the amount of variance carried in each principal component.\n",
    "- **Eigenvectors:** Directions along which data varies the most.\n",
    "- **Covariance Matrix:** Represents how much dimensions vary together.\n",
    "\n",
    "### Advantages\n",
    "- **Simplifies Data:** Makes comples data easier to analyze.\n",
    "- **Removes Redundancy:** Combines correlated features, reducing multicollinearity.\n",
    "- **Enhances Visualization:** Helps visualize data trends and patterns in lower dimensions.\n",
    "\n",
    "### Limitations\n",
    "- **Linearity:** PCA assumes linear relationships among variables; it may not perform well with non-linear data.\n",
    "- **Interpretability:** Principal components may not always have clear interpretations in terms of original features.\n",
    "- **Scaling:** Sensitive to the scale of the data; features should be standadized\n",
    "- **Loss of Information:** Reducing dimesnsions can lead to loss of important information.\n",
    "\n",
    "### Practical Application of PCA on a Real-World Dataset\n",
    "### Example 1\n",
    "Let's apply PCA to **Iris Dataset**, which includes measurements of iris flowers from three different species. The dataset contains four features(sepal length, sepal width, petal length, petal width).\n",
    "\n",
    "#### Step 1: Load the Dataset"
   ]
  },
  {
   "cell_type": "code",
   "execution_count": 1,
   "id": "6ad1ec3e-fb65-44eb-93bc-3962079eed91",
   "metadata": {},
   "outputs": [
    {
     "data": {
      "text/html": [
       "<div>\n",
       "<style scoped>\n",
       "    .dataframe tbody tr th:only-of-type {\n",
       "        vertical-align: middle;\n",
       "    }\n",
       "\n",
       "    .dataframe tbody tr th {\n",
       "        vertical-align: top;\n",
       "    }\n",
       "\n",
       "    .dataframe thead th {\n",
       "        text-align: right;\n",
       "    }\n",
       "</style>\n",
       "<table border=\"1\" class=\"dataframe\">\n",
       "  <thead>\n",
       "    <tr style=\"text-align: right;\">\n",
       "      <th></th>\n",
       "      <th>sepal length (cm)</th>\n",
       "      <th>sepal width (cm)</th>\n",
       "      <th>petal length (cm)</th>\n",
       "      <th>petal width (cm)</th>\n",
       "      <th>species</th>\n",
       "    </tr>\n",
       "  </thead>\n",
       "  <tbody>\n",
       "    <tr>\n",
       "      <th>0</th>\n",
       "      <td>5.1</td>\n",
       "      <td>3.5</td>\n",
       "      <td>1.4</td>\n",
       "      <td>0.2</td>\n",
       "      <td>0</td>\n",
       "    </tr>\n",
       "    <tr>\n",
       "      <th>1</th>\n",
       "      <td>4.9</td>\n",
       "      <td>3.0</td>\n",
       "      <td>1.4</td>\n",
       "      <td>0.2</td>\n",
       "      <td>0</td>\n",
       "    </tr>\n",
       "    <tr>\n",
       "      <th>2</th>\n",
       "      <td>4.7</td>\n",
       "      <td>3.2</td>\n",
       "      <td>1.3</td>\n",
       "      <td>0.2</td>\n",
       "      <td>0</td>\n",
       "    </tr>\n",
       "    <tr>\n",
       "      <th>3</th>\n",
       "      <td>4.6</td>\n",
       "      <td>3.1</td>\n",
       "      <td>1.5</td>\n",
       "      <td>0.2</td>\n",
       "      <td>0</td>\n",
       "    </tr>\n",
       "    <tr>\n",
       "      <th>4</th>\n",
       "      <td>5.0</td>\n",
       "      <td>3.6</td>\n",
       "      <td>1.4</td>\n",
       "      <td>0.2</td>\n",
       "      <td>0</td>\n",
       "    </tr>\n",
       "  </tbody>\n",
       "</table>\n",
       "</div>"
      ],
      "text/plain": [
       "   sepal length (cm)  sepal width (cm)  petal length (cm)  petal width (cm)  \\\n",
       "0                5.1               3.5                1.4               0.2   \n",
       "1                4.9               3.0                1.4               0.2   \n",
       "2                4.7               3.2                1.3               0.2   \n",
       "3                4.6               3.1                1.5               0.2   \n",
       "4                5.0               3.6                1.4               0.2   \n",
       "\n",
       "   species  \n",
       "0        0  \n",
       "1        0  \n",
       "2        0  \n",
       "3        0  \n",
       "4        0  "
      ]
     },
     "execution_count": 1,
     "metadata": {},
     "output_type": "execute_result"
    }
   ],
   "source": [
    "import pandas as pd\n",
    "from sklearn.datasets import load_iris\n",
    "import matplotlib.pyplot as plt\n",
    "\n",
    "# Load the Iris dataset\n",
    "iris = load_iris() # making the instance of the data\n",
    "data = pd.DataFrame(data = iris.data, columns=iris.feature_names)\n",
    "data['species'] = iris.target\n",
    "data.head()"
   ]
  },
  {
   "cell_type": "markdown",
   "id": "460e8baf-d6ce-4494-bf69-4237b5b84f54",
   "metadata": {},
   "source": [
    "#### Step 2: Preprocessing\n",
    "Before performing PCA, we should standardize the data"
   ]
  },
  {
   "cell_type": "code",
   "execution_count": 3,
   "id": "0c5432fd-f611-4f44-8fa1-c1092be3a6e9",
   "metadata": {},
   "outputs": [],
   "source": [
    "from sklearn.preprocessing import StandardScaler\n",
    "\n",
    "# Standardize the features\n",
    "features = iris.data\n",
    "scaler = StandardScaler() # creating the instance of StandardScalar\n",
    "standarized_data = scaler.fit_transform(features)"
   ]
  },
  {
   "cell_type": "markdown",
   "id": "41538f72-040b-480b-9b63-1c6c347832b1",
   "metadata": {},
   "source": [
    "#### Step-3: Apply PCA\n",
    "Now, let's perform PCA on the standarlized data."
   ]
  },
  {
   "cell_type": "code",
   "execution_count": null,
   "id": "59f90055-bbee-4831-9bd6-f5c5572b598d",
   "metadata": {},
   "outputs": [],
   "source": [
    "from sklearn.decomposition import PCA\n",
    "\n",
    "# apply PCA\n",
    "pca = PCA(n_components=2) # we want to reduce to 2 dimensions\n",
    "principal_components = pca.fit_transform(standardized_data)\n",
    "\n",
    "# create a dataframe with the principal components\n",
    "pca_data = pd.DaT"
   ]
  }
 ],
 "metadata": {
  "kernelspec": {
   "display_name": "Python 3 (ipykernel)",
   "language": "python",
   "name": "python3"
  },
  "language_info": {
   "codemirror_mode": {
    "name": "ipython",
    "version": 3
   },
   "file_extension": ".py",
   "mimetype": "text/x-python",
   "name": "python",
   "nbconvert_exporter": "python",
   "pygments_lexer": "ipython3",
   "version": "3.12.5"
  }
 },
 "nbformat": 4,
 "nbformat_minor": 5
}
