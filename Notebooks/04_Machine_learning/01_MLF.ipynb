{
 "cells": [
  {
   "cell_type": "markdown",
   "id": "456a7bc3-8905-4f38-905e-01b6f885e409",
   "metadata": {},
   "source": [
    "# Table Of Contents"
   ]
  },
  {
   "cell_type": "code",
   "execution_count": 4,
   "id": "f414f6a2-9821-4109-8f2d-87cf0f27cbd8",
   "metadata": {},
   "outputs": [],
   "source": [
    "import numpy as np\n",
    "import matplotlib.pyplot as plt"
   ]
  },
  {
   "cell_type": "markdown",
   "id": "9c0aef94-6e3a-4c8f-a276-348208bd7ae3",
   "metadata": {},
   "source": [
    "# 1.Introduction\n",
    "\n",
    "## 1.1.What-is-machine-learning\n",
    "Machine learning(ML) is the study of computer algorithms that improve automatically through experience and by the use of data.\n",
    "\n",
    "## 1.2.Task-Hierarchy\n",
    "1. Manual Labour\n",
    "> Input --> Human --> Output\n",
    "\n",
    "2. Programming\n",
    "> Input --> Tool(built by human) --> Output\n",
    "\n",
    "3. Machine Learning\n",
    "> Input --> Tool(Designed by human with the help of data) --> Output\n",
    "\n",
    "## 1.3.Why-and-when-machine-learning\n",
    "1. Programming/Human Labour Fails\n",
    "    1. Scale/Speed/Cost of human labor\n",
    "    2. Inability to express rules using language.\n",
    "    3. Don't know the exact rules transforming input to output\n",
    "2. Machine Learning can succeed\n",
    "    1. Have lots of example data\n",
    "    2. Have some structural idea on the rules\n",
    "## 1.4.Applications-of-machine-learning\n",
    "- Spam detection/Email grouping\n",
    "- Recommender System\n",
    "- Smart Assistant (e.g. Alexa, siri, google assistant)\n",
    "- Robot\n",
    "- Game Engine\n",
    "- Marketing\n",
    "\n",
    "## 1.5.Data\n",
    "Data is a collection of vectors.\n",
    "> Metadata is information on the data.\n",
    "\n",
    "Machine has nothing to do with metadata, consistent data is what important for ML.\n",
    "\n",
    "## 1.6.Model\n",
    "A model is a mathematical simplification of reality.\n",
    "\n",
    "Some examples:\n",
    "- The Ideal Gas model $PV=nRT$\n",
    "- Inverse square law of gravitational attraction $F = \\frac{Gm_1m_2}{r^2}$\n",
    "- Moore's law for semiconductors $N(t) = N_0 \\times 2^{\\frac{t}{T}}$\n",
    "- Cobb-Doulas model in Economics $Q = AL^{\\alpha}K^{\\beta}$\n",
    "\n",
    "```\n",
    "All models are wrong, but some are useful\n",
    "```\n",
    "\n",
    "### 1.6.1. Types-of-models-in-ml\n",
    "- Predictive Model\n",
    "    - Regression\n",
    "    - Classification\n",
    "    - ...\n",
    "- Probabilistic model\n",
    "    - ...\n",
    " \n",
    "## 1.7.Learning-algorithms\n",
    "- Learning Algorithms: Data -> Models\n",
    "- Use data to get the \"best\" parameters.\n",
    "\n",
    "\n",
    "## 1.8.Notation\n",
    "- $\\mathbb{R}$: Real numbers, $\\mathbb{R_+}$ , $\\mathbb{R^d}$: d-dimensional vector of reals.\n",
    "- $X$: vector, $x_j:j^{th}$ co-ordinate, $||x||$: Length of vector x.\n",
    "- $x^1,x^2,...,x^n:$Collection of $n$ vectors.\n",
    "- $x^i:$i-th training example\n",
    "- $x_j^i:j^{th}$ co-ordinate of $i^{th}$ vector.\n",
    "- $(x_1)^2:$ Square of the first co-ordinate of the vector $x$\n",
    "- $1(2 \\text{ is even}) = 1, 1(2 \\text{ is odd}) = 0$ \n",
    "\n",
    "\n",
    "## 1.9.Supervised-learning\n",
    "- Supervised Learning is curve-fitting.\n",
    "- Given $\\{(x^1, y^1), (x^2,y^2), ..., (x^n, y^n) \\}$\n",
    "    - Here, $y^i$ is called as label.\n",
    "    - Here, $x^i$ is called instance or feature vector.\n",
    "- Find a model f such that $f(x^i)$ is 'close' to $y^i$\n",
    "### 1.9.1.Regression\n",
    "- E.g. Predict house price from room, area, distance.\n",
    "- Training data: $\\{(x^1, y^1), (x^2,y^2), ..., (x^n, y^n) \\}$\n",
    "- $x^i \\in \\mathbb{R^d}, y^i \\in \\mathbb{R}$\n",
    "- Algorithm outputs a model $f: \\mathbb{R^d} \\rightarrow \\mathbb{R}$\n",
    "- Loss = $\\frac{1}{n} \\sum^n_{i=1}(f(x^i)-y^i)^2$\n",
    "- $$f(x) = w^Tx + b = \\sum^d_{j=1}w_jx_j + b = \\vec{x} \\cdot \\vec{w} + b$$\n",
    "Goal, of the learning algorithm is to find a model which has low loss.\n"
   ]
  },
  {
   "cell_type": "code",
   "execution_count": 11,
   "id": "3b6f640e-bf43-40e8-a409-d8a9c09632c2",
   "metadata": {},
   "outputs": [
    {
     "name": "stdout",
     "output_type": "stream",
     "text": [
      "Loss of model-1: 0.06400000000000002\n",
      "Loss of model-2: 5.264\n"
     ]
    },
    {
     "data": {
      "image/png": "[encoded data removed]",
      "text/plain": [
       "<Figure size 640x480 with 1 Axes>"
      ]
     },
     "metadata": {},
     "output_type": "display_data"
    }
   ],
   "source": [
    "# Regression Illustration-1\n",
    "X = [1,2,3,6,7] # Feature vector\n",
    "y = [2.1,3.9,6.2,11.5,13.9] # labels\n",
    "\n",
    "n = len(X) # number of training examples\n",
    "\n",
    "X,y = np.array(X), np.array(y) # converting data into numpy arrays\n",
    "\n",
    "f_x = 2*X     # model-1\n",
    "g_x = X + 3   # model-2\n",
    "\n",
    "loss_f = (1/n)*(np.sum((f_x-y)**2))\n",
    "loss_g = (1/n)*(np.sum((g_x-y)**2))\n",
    "\n",
    "print(\"Loss of model-1:\",loss_f)\n",
    "print(\"Loss of model-2:\",loss_g)\n",
    "\n",
    "plt.scatter(X, f_x ,c=\"b\", label = \"f(X) = 2x\", marker='x')\n",
    "plt.scatter(X, g_x,c=\"g\", label = \"g(X) = x+3\", marker='x')\n",
    "\n",
    "plt.plot(X, f_x, c=\"b\")\n",
    "plt.plot(X, g_x, c=\"g\")\n",
    "\n",
    "\n",
    "plt.legend()\n",
    "plt.show()"
   ]
  },
  {
   "cell_type": "code",
   "execution_count": 12,
   "id": "fb3f62b8-9c57-4186-96ef-e3b2b8a016c6",
   "metadata": {},
   "outputs": [
    {
     "name": "stdout",
     "output_type": "stream",
     "text": [
      "loss of function f(x): 0.03666666666666666\n",
      "loss of function g(x): 6.2700000000000005\n"
     ]
    }
   ],
   "source": [
    "# Regression illustration 2\n",
    "# Feature vector = #rooms, area, Distance\n",
    "X = [[3,9,1.9],\n",
    "     [2,7,2.1,],\n",
    "     [4,12,2.8],\n",
    "     [5,16,0.9],\n",
    "     [5,15,3.1],\n",
    "     [4,11,1.6]]\n",
    "\n",
    "y = [5.0,3.2,6.6,9.8,8.5,6.9]\n",
    "\n",
    "# Finding the number of training examples\n",
    "n = len(X)\n",
    "# Converting the data in numpy array\n",
    "X = np.array(X)\n",
    "y = np.array(y)\n",
    "\n",
    "# Let's Assume Models\n",
    "f_x = 2*X[:,0] - 0.5 * X[:,2]\n",
    "g_x = X[:,0] + 2 *X[:,2]\n",
    "\n",
    "# Let's calculate loss for each model\n",
    "loss_f = (1/n) * np.sum((f_x-y)**2)\n",
    "loss_g = (1/n) * np.sum((g_x-y)**2)\n",
    "\n",
    "print(\"loss of function f(x):\",loss_f)\n",
    "print(\"loss of function g(x):\",loss_g)"
   ]
  },
  {
   "cell_type": "markdown",
   "id": "8518f487-85bc-4fae-b546-2e2d3724d690",
   "metadata": {},
   "source": [
    "### 1.9.2.Classification\n",
    "- E.g. Predict if rooms>3 from area and price\n",
    "- Training data: $\\{(x^1, y^1), (x^2,y^2), ..., (x^n, y^n) \\}$\n",
    "- $x^i \\in \\mathbb{R^d}, y^i \\in \\{+1,-1 \\}$\n",
    "- Algorithm outputs a model $f: \\mathbb{R^d} \\rightarrow \\{+1,-1\\}$\n",
    "- Loss = $\\frac{1}{n}\\sum^n_{i=1}1(f(x^i) \\neq y^i)$\n",
    "- $f(x) = sign(w^Tx + b)$\n",
    "\n",
    "Here, in classification, Loss is just the `fraction of misclassified instances`.\n",
    "\n",
    "$f(x) = sign(w^Tx + b)$ is also known as `Linear Separator`.\n",
    "\n",
    "- +1 for y means yes, it has more than 3 rooms.\n",
    "- -1 for y means no, it does not have more than 3 rooms."
   ]
  },
  {
   "cell_type": "code",
   "execution_count": 17,
   "id": "aa961390-af09-44c3-b8da-be41adc51081",
   "metadata": {},
   "outputs": [
    {
     "data": {
      "image/png": "[encoded data removed]",
      "text/plain": [
       "<Figure size 640x480 with 1 Axes>"
      ]
     },
     "metadata": {},
     "output_type": "display_data"
    }
   ],
   "source": [
    "# Classification Illustration 1\n",
    "X = [[0,0],\n",
    "     [1,0],\n",
    "     [0,1],\n",
    "     [4,4],\n",
    "     [3,4],\n",
    "     [4,3]]\n",
    "y = [1,1,1,-1,-1,-1]\n",
    "\n",
    "# number of training examples\n",
    "n = len(X)\n",
    "\n",
    "# Converting the feature vector and label in numpy array\n",
    "X = np.array(X)\n",
    "y = np.array(y)\n",
    "\n",
    "# Define colors based on labels\n",
    "colors = ['green' if label == 1 else 'blue' for label in y]\n",
    "#Plotting the feature vector on graph\n",
    "plt.scatter(X[:, 0], X[:, 1], c=colors)\n",
    "\n",
    "plt.xlabel(\"X1\")\n",
    "plt.ylabel(\"X2\")\n",
    "plt.title(\"Classification Illustration 1\")\n",
    "\n",
    "\n",
    "plt.show()"
   ]
  },
  {
   "cell_type": "code",
   "execution_count": 28,
   "id": "7916d93e-4d6f-483a-8fad-d64a9b088514",
   "metadata": {},
   "outputs": [
    {
     "name": "stdout",
     "output_type": "stream",
     "text": [
      "[0 0] 1 1 1\n",
      "[1 0] 1 1 1\n",
      "[0 1] 1 1 -1\n",
      "[4 4] -1 -1 -1\n",
      "[3 4] -1 -1 -1\n",
      "[4 3] -1 -1 -1\n",
      "Loss for model f(x): 0.00\n",
      "Loss for model g(x): 0.17\n"
     ]
    }
   ],
   "source": [
    "# Let's try to compute on two dummy models and see thier loss\n",
    "\n",
    "def sign(x):\n",
    "    return np.where(x >= 0, 1,-1)\n",
    "\n",
    "\n",
    "f_x = sign(2 - X[:,0])\n",
    "g_x = sign(X[:,0] - 2 * X[:,1])\n",
    "\n",
    "for i in range(n):\n",
    "    print(X[i],y[i],f_x[i],g_x[i])\n",
    "\n",
    "# Now we are calculating loss\n",
    "\n",
    "loss_f = (1/n) * np.sum(f_x != y) # count mismatches for f_x\n",
    "loss_g = (1/n) * np.sum(g_x != y) # count mismatches for g_x\n",
    "\n",
    "print(f\"Loss for model f(x): {loss_f:.2f}\")\n",
    "print(f\"Loss for model g(x): {loss_g:.2}\")"
   ]
  },
  {
   "cell_type": "code",
   "execution_count": 32,
   "id": "e737c115-bdb1-4570-b268-6013edf3f163",
   "metadata": {},
   "outputs": [
    {
     "name": "stdout",
     "output_type": "stream",
     "text": [
      "[ 9.   5.1 -1. ], -1, -1, -1, -1\n",
      "[ 7.   3.1 -1. ], -1, -1, -1, -1\n",
      "[12.   6.9  1. ], 1, 1, 1, -1\n",
      "[16.   9.7  1. ], 1, 1, 1, 1\n",
      "[15.   8.5  1. ], 1, 1, 1, -1\n",
      "[11.   7.1  1. ], 1, 1, 1, -1\n",
      "The loss of f(x): 0.00\n",
      "The loss of g(x): 0.00\n",
      "The loss of h(x): 0.50\n"
     ]
    }
   ],
   "source": [
    "# Classification Illustration 2\n",
    "# X has features Area, Price, Rooms\n",
    "# Rooms =1,2,3 is encoded as -1, rooms >3 is encoded as +1\n",
    "X = [[9,5.1,-1],\n",
    "     [7,3.1,-1],\n",
    "     [12,6.9,1],\n",
    "     [16,9.7,1],\n",
    "     [15,8.5,1],\n",
    "     [11,7.1,1]]\n",
    "y = [-1,-1,1,1,1,1]\n",
    "\n",
    "# converting inputs to numpy arrays\n",
    "X = np.array(X)\n",
    "y = np.array(y)\n",
    "\n",
    "# number of training examples\n",
    "n = len(X)\n",
    "\n",
    "## we want to predict whether the number of rooms is >3 or not\n",
    "\n",
    "# now let's assume some models\n",
    "f_x = sign(X[:,0] -10) # sign(area-10)\n",
    "g_x = sign(X[:,1] - 6) # sign(price-6)\n",
    "h_x = sign(X[:,1] - 9) # sign(price-9)\n",
    "\n",
    "for i in range(n):\n",
    "    print(f\"{X[i]}, {y[i]}, {f_x[i]}, {g_x[i]}, {h_x[i]}\")\n",
    "\n",
    "\n",
    "# calculate the loss\n",
    "loss_f = (1/n) * np.sum(f_x!=y)\n",
    "loss_g = (1/n) * np.sum(g_x!=y)\n",
    "loss_h = (1/n) * np.sum(h_x!=y)\n",
    "\n",
    "print(f\"The loss of f(x): {loss_f:.2f}\")\n",
    "print(f\"The loss of g(x): {loss_g:.2f}\")\n",
    "print(f\"The loss of h(x): {loss_h:.2f}\")"
   ]
  },
  {
   "cell_type": "markdown",
   "id": "d534b3b0-a72e-4420-9eeb-4c06051074cf",
   "metadata": {},
   "source": [
    "Now, learning algorithm can stumble, as to pick which one because loss of two function are minimum and same.\n",
    "\n",
    "In principle it could take either of them."
   ]
  },
  {
   "cell_type": "markdown",
   "id": "7fa76f3b-66ca-41c6-a548-f45966adc7b1",
   "metadata": {},
   "source": [
    "### 1.9.3.Evaluating-learned-models\n",
    "Evaluating is same as testing the learning of model. To check whether model has learned something or not.\n",
    "- Learning algorithm uses training data $\\{(x^1, y^1), (x^2,y^2), ..., (x^n, y^n) \\}$ to get model $f$.\n",
    "- But Evaluating the learned model must not be done on the training data itself.\n",
    "- Use `Test data` that is not in the training data for `model evaluation.`\n",
    "\n",
    "### 1.9.4.Model-selection\n",
    "- Learning algorithms just find the \"best\" model in the collection of models given by human.\n",
    "- How to get right collection of models?\n",
    "- This is called model selection, and it is done by using another subset of data called `validation data` that is distinct from train and test data.\n",
    "\n",
    "## 1.10.Unsupervised-learning\n",
    "- Unsupervised learning is 'understanding data'\n",
    "- Data: $\\{X^1,X^2,... , X^n\\}$\n",
    "- $x^i \\in \\mathbb{R^d}$\n",
    "- Build models that compress, explain and group data.\n",
    "\n",
    "\n",
    "Unsupervised learning is generally used as preprocessing step. It is not an end in itself, but it can be proved powerful if used correctly with interpretation of human.\n",
    "\n",
    "### 1.10.1.Dimensionality-reduction\n",
    "- Compression and Simplification\n",
    "- E.g. Represent a million gene expression levels of a million people, using just 100 numbers per person.\n",
    "\n",
    "#### Notation\n",
    "- Data: $\\{X^1,X^2,... , X^n\\}$\n",
    "- $x^i \\in \\mathbb{R^d}$\n",
    "- Encoder $f: \\mathbb{R}^d \\rightarrow \\mathbb{R}^{d^\\prime}$\n",
    "- Decoder $g: \\mathbb{R}^{d^\\prime} \\rightarrow \\mathbb{R}^d$\n",
    "- Goal: $g(f(x^i)) \\approx x^i$\n",
    "- Loss: $\\frac{1}{n}\\sum^n_{i=1}||g(f(x^i)) - x^i||^2$\n",
    "\n",
    "Here, the goal of dimensional reduction model is come up with two model(i.e. encoder and decoder), where as in supervised learning the goal of dimensional reduction model is come up with one model.\n",
    "\n",
    "Typically, $d^\\prime < d$\n",
    "\n",
    "**Encoder:** It tries to compress the d dimensional vector to $d^\\prime$ dimensional vector.\n",
    "\n",
    "**Decoder:** It tries to undo the effect of encoder."
   ]
  },
  {
   "cell_type": "code",
   "execution_count": 43,
   "id": "0794e5aa-1e0c-4d13-8f1c-655cf0929068",
   "metadata": {},
   "outputs": [
    {
     "name": "stdout",
     "output_type": "stream",
     "text": [
      "[1.  0.8], 0.2, [0.2 0.2]\n",
      "[2.  2.2], -0.2, [-0.2 -0.2]\n",
      "[3.  3.2], -0.2, [-0.2 -0.2]\n",
      "[4.  3.8], 0.2, [0.2 0.2]\n"
     ]
    }
   ],
   "source": [
    "# Dimensionality Reduction Illustration\n",
    "# let's take d = 2 and d prime = 1\n",
    "X = [[1,0.8],\n",
    "     [2,2.2],\n",
    "     [3,3.2],\n",
    "     [4,3.8]]\n",
    "\n",
    "# Convert X into numpy array\n",
    "X = np.array(X)\n",
    "\n",
    "# setup the number of training examples\n",
    "n = len(X)\n",
    "# Encoder: f_x\n",
    "f_x = X[:, 0] - X[:, 1] # (x1-x2)\n",
    "\n",
    "\n",
    "# Decoder: g_x\n",
    "g_x = np.tile(f_x[:, np.newaxis], 2)\n",
    "\n",
    "\n",
    "\n",
    "# let's print the values\n",
    "for i in range(n):\n",
    "    print(f\"{X[i]}, {f_x[i]:.2}, {g_x[i]}\")"
   ]
  },
  {
   "cell_type": "markdown",
   "id": "ece3eab0-c56d-45eb-8820-3857215c7c79",
   "metadata": {},
   "source": [
    "Let's try another model"
   ]
  },
  {
   "cell_type": "code",
   "execution_count": 47,
   "id": "f2eb05a7-0a03-4af1-be57-07c8f989a284",
   "metadata": {},
   "outputs": [
    {
     "name": "stdout",
     "output_type": "stream",
     "text": [
      "[1.  0.8], 0.9, [0.9 0.9]\n",
      "[2.  2.2], 2.1, [2.1 2.1]\n",
      "[3.  3.2], 3.1, [3.1 3.1]\n",
      "[4.  3.8], 3.9, [3.9 3.9]\n"
     ]
    }
   ],
   "source": [
    "# Encoder: f_x2\n",
    "f_x2 = (X[:, 0]+X[:,1])/2\n",
    "\n",
    "# Decoder: g_x2\n",
    "tmp_arr = f_x2[:,np.newaxis]\n",
    "g_x2 = np.tile(tmp_arr, 2)\n",
    "\n",
    "# let's print the values\n",
    "for i in range(n):\n",
    "    print(f\"{X[i]}, {f_x2[i]:.2}, {g_x2[i]}\")"
   ]
  },
  {
   "cell_type": "markdown",
   "id": "a9d74dc2-447b-4794-94e8-64d2f121a822",
   "metadata": {},
   "source": [
    "one can clearly see that fx_2 and g_x2 are much better encoders and decoders than f_x and g_x."
   ]
  },
  {
   "cell_type": "markdown",
   "id": "96d32147-0c21-40ff-be01-6431ff5712a7",
   "metadata": {},
   "source": [
    "### 1.10.2 Density-estimation\n",
    "- It is a Probabilistic Model\n",
    "- Data: $\\{X^1,X^2,... , X^n\\}$\n",
    "- $X^i \\in \\mathbb{R}^d$\n",
    "- Probability mapping $P: \\mathbb{R}^d \\rightarrow \\mathbb{R}_{+}$ that 'sums' to one.\n",
    "- Goal: $P(x)$ is large if $x \\in $ Data, and low otherwise.\n",
    "- Loss $= \\sum_{i=1}^n - log(P(x^i))$\n",
    "\n",
    "Loss is `Negative log likelihood`"
   ]
  },
  {
   "cell_type": "code",
   "execution_count": 48,
   "id": "1d5a5304-8ad0-49d9-89de-2a42c25180ca",
   "metadata": {},
   "outputs": [],
   "source": [
    "# Density reduction Illustration 1\n",
    "d = 1\n",
    "n = 4\n",
    "X = np.array([2.3,2.7,4.6,4.9])\n",
    "\n",
    "# Now we have predefined models\n",
    "P_1 = 1/10 # if x in [0,10] 0 otherwise\n",
    "\n",
    "P_2 = 1/5 # if x in [0,5] 0 otherwise\n",
    "\n",
    "P_3 = 1/5 # if x in [3,8] 0 otherwise"
   ]
  },
  {
   "cell_type": "markdown",
   "id": "53f45e1a-5d9b-49d5-9b09-bf64fcaf0f45",
   "metadata": {},
   "source": [
    "| |P_1|P_2|P_3|\n",
    "|---|---|---|---|\n",
    "|2.3|$\\frac{1}{10}$|$\\frac{1}{5}$|0|\n",
    "|2.6|$\\frac{1}{10}$|$\\frac{1}{5}$|0|\n",
    "|4.6|$\\frac{1}{10}$|$\\frac{1}{5}$|$\\frac{1}{5}$|\n",
    "|4.9|$\\frac{1}{10}$|$\\frac{1}{5}$|$\\frac{1}{5}$|\n",
    "\n",
    "$Loss[P^1] = -log(\\frac{1}{10})-log(\\frac{1}{10})-log(\\frac{1}{10})-log(\\frac{1}{10})$\n",
    "\n",
    "$Loss[P^2] = -log(\\frac{1}{5})-log(\\frac{1}{5})-log(\\frac{1}{5})-log(\\frac{1}{5})$\n",
    "\n",
    "$Loss[P^3] = -log(0) - ... = \\infty$\n",
    "\n",
    "Loss of P_3 is infinite so we will definitely will not touch P_3 and when contrasting P_2 with P_1, P_2 is lower therefore P_2 is the most appropriate model for this data."
   ]
  },
  {
   "cell_type": "markdown",
   "id": "1ef34cc2-a0a5-4999-b0e8-fad0f8144adf",
   "metadata": {},
   "source": [
    "## 1.11.Train,validation-and-test-data\n",
    "- We do not use complete dataset for training purpose,\n",
    "- we have to split the data into three sets.\n",
    "    - Training set `For Training the model`\n",
    "    - Validation set `For Model selection`\n",
    "    - Test set `For Evaluating the model`\n",
    "\n",
    "How we divide the sets generally,\n",
    "1. Train set: 80% of total\n",
    "2. Validation set: 20% of training\n",
    "3. Test set: 20% of total"
   ]
  },
  {
   "cell_type": "code",
   "execution_count": null,
   "id": "db38b3f3-08ee-4058-ab80-beb33b040284",
   "metadata": {},
   "outputs": [],
   "source": []
  },
  {
   "cell_type": "code",
   "execution_count": null,
   "id": "fe893ef4-c2e1-4da1-8af3-716b6657ea5a",
   "metadata": {},
   "outputs": [],
   "source": []
  },
  {
   "cell_type": "code",
   "execution_count": null,
   "id": "6f54d0b1-524b-413a-809d-9aba281a4926",
   "metadata": {},
   "outputs": [],
   "source": []
  },
  {
   "cell_type": "code",
   "execution_count": null,
   "id": "15b33e2e-dfe3-40fa-b484-e38c6da01919",
   "metadata": {},
   "outputs": [],
   "source": []
  },
  {
   "cell_type": "code",
   "execution_count": null,
   "id": "70259025-02cf-4aa2-a45c-d6e5af074f86",
   "metadata": {},
   "outputs": [],
   "source": []
  }
 ],
 "metadata": {
  "kernelspec": {
   "display_name": "Python 3 (ipykernel)",
   "language": "python",
   "name": "python3"
  },
  "language_info": {
   "codemirror_mode": {
    "name": "ipython",
    "version": 3
   },
   "file_extension": ".py",
   "mimetype": "text/x-python",
   "name": "python",
   "nbconvert_exporter": "python",
   "pygments_lexer": "ipython3",
   "version": "3.12.5"
  }
 },
 "nbformat": 4,
 "nbformat_minor": 5
}
