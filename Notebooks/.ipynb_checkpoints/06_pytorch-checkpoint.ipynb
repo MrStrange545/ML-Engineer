{
 "cells": [
  {
   "cell_type": "markdown",
   "id": "1eec730d-019d-4eb3-8a33-0fce4d9c0b6f",
   "metadata": {},
   "source": [
    "# PyTorch Introduction\n",
    "\n",
    "## Importing Libraries"
   ]
  },
  {
   "cell_type": "code",
   "execution_count": 1,
   "id": "460416de-5858-48e3-bb2a-643878d4e78f",
   "metadata": {},
   "outputs": [],
   "source": [
    "import numpy as np\n",
    "import pandas as pd\n",
    "import matplotlib.pyplot as plt\n",
    "import torch"
   ]
  },
  {
   "cell_type": "markdown",
   "id": "ea40236a-193e-44c8-9ed0-08dd43daa670",
   "metadata": {},
   "source": [
    "## Introduction to tensors\n",
    "\n",
    "### Creating tensors"
   ]
  },
  {
   "cell_type": "code",
   "execution_count": 12,
   "id": "27c38450-bd30-4700-a54e-30dc42fd808a",
   "metadata": {},
   "outputs": [
    {
     "data": {
      "text/plain": [
       "torch.Tensor"
      ]
     },
     "execution_count": 12,
     "metadata": {},
     "output_type": "execute_result"
    }
   ],
   "source": [
    "# Scalars\n",
    "# creating one scalar whose value is 7 ans storing it in var scalar.\n",
    "scalar = torch.tensor(7) "
   ]
  },
  {
   "cell_type": "code",
   "execution_count": 95,
   "id": "2b008c41-5609-44a6-9a7b-542c34d0e35a",
   "metadata": {},
   "outputs": [
    {
     "name": "stdout",
     "output_type": "stream",
     "text": [
      "Rank of a Scalar: 0\n",
      "Value of a zero-rank tensor: 7\n",
      "The data type of the scalar: torch.int64\n"
     ]
    }
   ],
   "source": [
    "# Attribute of tensor: ndim\n",
    "\n",
    "# ndim returns the rank(Dimension) of the scalar\n",
    "print(\"Rank of a Scalar:\",scalar.ndim)\n",
    "\n",
    "# item() returns the value the tensor\n",
    "value = scalar.item()\n",
    "print(\"Value of a zero-rank tensor:\",value)\n",
    "\n",
    "# dtype returns the data type,\n",
    "print(\"The data type of the scalar:\",scalar.dtype)\n"
   ]
  },
  {
   "cell_type": "code",
   "execution_count": 96,
   "id": "e631a95f-9109-499c-8ef5-acf21c1bc91e",
   "metadata": {},
   "outputs": [
    {
     "name": "stdout",
     "output_type": "stream",
     "text": [
      "Rank of a Vector: 1\n",
      "Shape of the vector: torch.Size([4])\n"
     ]
    }
   ],
   "source": [
    "# Vectors\n",
    "# creating one vector and storing\n",
    "# it in var vector we can pass any 1 x n vector\n",
    "vector = torch.tensor([7,8,9,10])\n",
    "\n",
    "print(\"Rank of a Vector:\",vector.ndim)\n",
    "\n",
    "# shape returns the number of elements in the corresponding dimensions\n",
    "# torch shape = numpy shape\n",
    "print(\"Shape of the vector:\",vector.shape)"
   ]
  },
  {
   "cell_type": "code",
   "execution_count": 97,
   "id": "0e1135b4-058a-4a89-a892-c5412a8ebb8f",
   "metadata": {},
   "outputs": [
    {
     "name": "stdout",
     "output_type": "stream",
     "text": [
      "The number of dimensions of this Matrix: 2\n",
      "The zero-zero element of MATRIX: tensor(7.)\n",
      "The shape of the matrix is: torch.Size([2, 3])\n"
     ]
    }
   ],
   "source": [
    "# MATRIX\n",
    "MATRIX = torch.tensor([[7,8,5.2],\n",
    "                       [9,10,6.3]])\n",
    "print(\"The number of dimensions of this Matrix:\",MATRIX.ndim)\n",
    "\n",
    "# Accessing the elements of MATRIX = same as numpy\n",
    "print(\"The zero-zero element of MATRIX:\",MATRIX[0][0])\n",
    "\n",
    "# Shape of the matrix\n",
    "print(\"The shape of the matrix is:\",MATRIX.shape)"
   ]
  },
  {
   "cell_type": "code",
   "execution_count": 98,
   "id": "c36640cf-991a-4713-9e12-5e3ccc8f4749",
   "metadata": {},
   "outputs": [
    {
     "name": "stdout",
     "output_type": "stream",
     "text": [
      "The rank of the tensor: 3\n",
      "The shape of the tensor: torch.Size([1, 3, 3])\n"
     ]
    }
   ],
   "source": [
    "# TENSOR\n",
    "TENSOR = torch.tensor([[[1,2,3],\n",
    "                        [3,6,9],\n",
    "                        [7,8,9]]])\n",
    "\n",
    "print(\"The rank of the tensor:\",TENSOR.ndim)\n",
    "\n",
    "print(\"The shape of the tensor:\",TENSOR.shape)"
   ]
  },
  {
   "cell_type": "markdown",
   "id": "801596d9-9991-41b8-98cf-0b0688b57063",
   "metadata": {},
   "source": [
    "### Random Tensor\n",
    "\n",
    "#### Why Random Tensors?\n",
    "- Random tensors are important  because the way many neural networks learn is that they start with tensors full of random numbers and then adjust those random numbers to better represent data.\n",
    "\n",
    "crux of neural network+s\n",
    "\n",
    "`Start with random numbers -> look at data -> update random numbers -> look at data -> update random numbers`"
   ]
  },
  {
   "cell_type": "code",
   "execution_count": 6,
   "id": "83295bb3-f0f6-4552-9ce6-bd9b612ace0c",
   "metadata": {},
   "outputs": [
    {
     "name": "stdout",
     "output_type": "stream",
     "text": [
      "tensor([[0.4144, 0.3231, 0.4745, 0.8993],\n",
      "        [0.5815, 0.8155, 0.9551, 0.0173],\n",
      "        [0.9515, 0.9516, 0.0468, 0.6055]])\n",
      "Number of dimensions: 2\n"
     ]
    }
   ],
   "source": [
    "# Creating a random tensors of size(3,4) or shape(3,4)\n",
    "random_tensor = torch.rand(3,4)\n",
    "\n",
    "print(random_tensor)\n",
    "\n",
    "print(\"Number of dimensions:\",random_tensor.ndim)"
   ]
  },
  {
   "cell_type": "code",
   "execution_count": 101,
   "id": "a483ba32-ae58-469a-9fdc-fea5ad5c5615",
   "metadata": {},
   "outputs": [
    {
     "name": "stdout",
     "output_type": "stream",
     "text": [
      "The shape of image tensor: torch.Size([224, 224, 3])\n",
      "The dimensions of image tensor: 3\n"
     ]
    }
   ],
   "source": [
    "# Create a random tensor with similar shape to an image tensor\n",
    "# size = (height, width, number of color channels(R,G,B)\n",
    "random_image_size_tensor = torch.rand(size = (224,224,3))\n",
    "\n",
    "print(\"The shape of image tensor:\",random_image_size_tensor.shape)\n",
    "\n",
    "print(\"The dimensions of image tensor:\",random_image_size_tensor.ndim)"
   ]
  },
  {
   "cell_type": "markdown",
   "id": "eeee639c-070a-47c1-9b58-75b79ad27e5a",
   "metadata": {},
   "source": [
    "### Zeros and Ones"
   ]
  },
  {
   "cell_type": "code",
   "execution_count": 102,
   "id": "ac5875ff-0077-4ebe-8633-6391b5ca20b8",
   "metadata": {},
   "outputs": [
    {
     "name": "stdout",
     "output_type": "stream",
     "text": [
      "tensor([[0., 0., 0., 0.],\n",
      "        [0., 0., 0., 0.],\n",
      "        [0., 0., 0., 0.]])\n"
     ]
    }
   ],
   "source": [
    "# Creating a tensor of all zero\n",
    "zero = torch.zeros(size = (3,4))\n",
    "print(zero)"
   ]
  },
  {
   "cell_type": "code",
   "execution_count": 103,
   "id": "8b5d1051-9067-4da0-9087-a8b85182918b",
   "metadata": {},
   "outputs": [
    {
     "name": "stdout",
     "output_type": "stream",
     "text": [
      "tensor([[1., 1., 1., 1.],\n",
      "        [1., 1., 1., 1.],\n",
      "        [1., 1., 1., 1.]])\n"
     ]
    }
   ],
   "source": [
    "# Creating a tensor of all ones\n",
    "ones = torch.ones(size = (3,4))\n",
    "print(ones)"
   ]
  },
  {
   "cell_type": "code",
   "execution_count": 104,
   "id": "3f62e8da-20f6-435b-82f8-e2155930c073",
   "metadata": {},
   "outputs": [
    {
     "name": "stdout",
     "output_type": "stream",
     "text": [
      "tensor([[0.1282, 0.5052, 0.4878, 0.6980],\n",
      "        [0.8298, 0.3383, 0.2933, 0.7913],\n",
      "        [0.5777, 0.3731, 0.5650, 0.0971]])\n",
      "tensor([[0.],\n",
      "        [0.],\n",
      "        [0.]])\n",
      "tensor([[0.1282, 0.5052, 0.0000, 0.6980],\n",
      "        [0.8298, 0.3383, 0.0000, 0.7913],\n",
      "        [0.5777, 0.3731, 0.0000, 0.0971]])\n"
     ]
    }
   ],
   "source": [
    "# Let's say you have a tensor and you don't want specfic elements\n",
    "# then you can simply mask them to zero. How ? see.\n",
    "\n",
    "tensor = torch.rand(size = (3,4))\n",
    "print(tensor)\n",
    "\n",
    "# Now, I want to make the third column zero\n",
    "\n",
    "zero = torch.zeros(size = (3,1))\n",
    "print(zero)\n",
    "\n",
    "# tensor[:, 2] select all rows(:) of the third column( 2 index) of the tensor\n",
    "# zero.squeeze() removes the extra dimension (since dim(zero) = (3,1)  and \n",
    "# we need to it to match the shape (3,) for assignment).\n",
    "tensor[:, 2] = zero.squeeze()\n",
    "\n",
    "print(tensor)\n"
   ]
  },
  {
   "cell_type": "markdown",
   "id": "9c44a919-ffa5-4775-939e-161ae4ba9ca2",
   "metadata": {},
   "source": [
    "### Creating tensors in range and tensors-like"
   ]
  },
  {
   "cell_type": "code",
   "execution_count": 14,
   "id": "3af3d25a-7356-4c96-9886-38668ecd588e",
   "metadata": {},
   "outputs": [
    {
     "data": {
      "text/plain": [
       "tensor([ 1,  2,  3,  4,  5,  6,  7,  8,  9, 10])"
      ]
     },
     "execution_count": 14,
     "metadata": {},
     "output_type": "execute_result"
    }
   ],
   "source": [
    "# use torch.arange()\n",
    "# It is exactly same as range\n",
    "one_to_ten = torch.arange(start = 1, end = 11, step = 1)\n",
    "one_to_ten"
   ]
  },
  {
   "cell_type": "code",
   "execution_count": 18,
   "id": "63cbbda2-12ee-4d64-b3b5-49a7a7340c93",
   "metadata": {},
   "outputs": [
    {
     "data": {
      "text/plain": [
       "tensor([0, 0, 0, 0, 0, 0, 0, 0, 0, 0])"
      ]
     },
     "execution_count": 18,
     "metadata": {},
     "output_type": "execute_result"
    }
   ],
   "source": [
    "# Creating tensors like\n",
    "# basically it will create zero in the same fashion as the input\n",
    "ten_zeros = torch.zeros_like(input = one_to_ten)\n",
    "ten_zeros"
   ]
  },
  {
   "cell_type": "markdown",
   "id": "bbb85292-bbc0-48b7-8928-5a954617cacf",
   "metadata": {},
   "source": [
    "### Tensor Datatypes\n",
    "\n",
    "**Note:** Tensor datatypes is one of the 3 big errors you'll run into with PyTorch & deep learning:\n",
    "1. Tensors not right datatype\n",
    "2. Tensors not right shape\n",
    "3. Tensors not on the right device (means one tensor on \"cpu\" and another on \"gpu\" then there will be a error)"
   ]
  },
  {
   "cell_type": "code",
   "execution_count": 26,
   "id": "478bd6f8-fd77-4540-bc3f-914a20f9d52c",
   "metadata": {},
   "outputs": [
    {
     "data": {
      "text/plain": [
       "torch.float32"
      ]
     },
     "execution_count": 26,
     "metadata": {},
     "output_type": "execute_result"
    }
   ],
   "source": [
    "# Float 32 Tensor (Default)\n",
    "float_32_tensor = torch.tensor([3.0,4,5],\n",
    "                               dtype = None, #  the data type\n",
    "                              device = None, #  def = \"cpu\" available = \"cpu\"/\"cuda\"\n",
    "                              requires_grad = False) # whether or not to track gradients with this tensors operations \n",
    "float_32_tensor.dtype"
   ]
  },
  {
   "cell_type": "code",
   "execution_count": 28,
   "id": "ab29106b-921b-4922-8d66-b39ae6d60797",
   "metadata": {},
   "outputs": [
    {
     "data": {
      "text/plain": [
       "tensor([3., 4., 5.], dtype=torch.float16)"
      ]
     },
     "execution_count": 28,
     "metadata": {},
     "output_type": "execute_result"
    }
   ],
   "source": [
    "float_16_tensor = float_32_tensor.type(torch.float16) # basically type conversion\n",
    "float_16_tensor"
   ]
  },
  {
   "cell_type": "markdown",
   "id": "aed5e3e9-83f9-4f83-be92-77855222cef6",
   "metadata": {},
   "source": [
    "### Getting information from tensors\n",
    "1. tensor.dtype\n",
    "2. tensor.shape\n",
    "3. tensor.shape"
   ]
  },
  {
   "cell_type": "code",
   "execution_count": 42,
   "id": "883a3abd-f818-4243-bc88-3b1a0e6c1f51",
   "metadata": {},
   "outputs": [
    {
     "name": "stdout",
     "output_type": "stream",
     "text": [
      "tensor([[0.7311, 0.1941, 0.1608, 0.3467],\n",
      "        [0.2426, 0.5449, 0.9677, 0.2920],\n",
      "        [0.8632, 0.9043, 0.5529, 0.0984]])\n",
      "torch.float32\n",
      "cpu\n",
      "torch.Size([3, 4])\n"
     ]
    }
   ],
   "source": [
    "x = torch.rand(size = (3,4))\n",
    "print(x)\n",
    "print(x.dtype)\n",
    "print(x.device)\n",
    "print(x.shape)"
   ]
  },
  {
   "cell_type": "markdown",
   "id": "9b6ad2fb-e16c-425f-97f0-324a0f67e4a5",
   "metadata": {},
   "source": [
    "### Tensor Operations\n",
    "Tensor Operations include:\n",
    "- Addition\n",
    "- Subtraction\n",
    "- Scalar Multiplication \n",
    "- Division\n",
    "- Matrix Multiplication"
   ]
  },
  {
   "cell_type": "code",
   "execution_count": 66,
   "id": "86e01a2f-e31e-4a9c-ba71-fe0d95b01682",
   "metadata": {},
   "outputs": [
    {
     "name": "stdout",
     "output_type": "stream",
     "text": [
      "Addition: tensor([ 7,  9, 11, 13, 15])\n",
      "Subtraction: tensor([-5, -5, -5, -5, -5])\n",
      "Mutliplication: tensor([ 6, 14, 24, 36, 50])\n",
      "Division: tensor([0.1667, 0.2857, 0.3750, 0.4444, 0.5000])\n",
      "Matrix Multiplication: tensor(130)\n"
     ]
    }
   ],
   "source": [
    "a = torch.arange(start = 1, end = 6)\n",
    "b = torch.arange(start = 6, end  = 11)\n",
    "print(\"Addition:\",a+b) # Dimensions must be compatible\n",
    "print(\"Subtraction:\",a-b)\n",
    "print(\"Mutliplication:\",a*b)\n",
    "print(\"Division:\",a/b) # b must be non-zero\n",
    "print(\"Matrix Multiplication:\",a@b) # @ operator is used for dot product"
   ]
  },
  {
   "cell_type": "code",
   "execution_count": 60,
   "id": "94cdf8dd-19a2-4938-a114-83fcff873935",
   "metadata": {},
   "outputs": [
    {
     "data": {
      "text/plain": [
       "(tensor([11, 12, 13]), tensor([10, 20, 30]), tensor([-9, -8, -7]))"
      ]
     },
     "execution_count": 60,
     "metadata": {},
     "output_type": "execute_result"
    }
   ],
   "source": [
    "# create a tensor and add 10 to it\n",
    "tensor = torch.tensor([1,2,3])\n",
    "tensor+10,tensor*10,tensor-10"
   ]
  },
  {
   "cell_type": "markdown",
   "id": "fbeab709-f1f2-4a01-81af-33857758532e",
   "metadata": {},
   "source": [
    "### PyTorch in-built Functions for operations\n",
    "\n",
    "| Operation | Function                  |\n",
    "|-----------|---------------------------|\n",
    "| +         | `torch.add()`              |\n",
    "| -         | `torch.sub()`  |\n",
    "| *         | `torch.mul()` or `torch.multiply()` |\n",
    "| /         | `torch.div()` |\n",
    "| **        | `torch.pow()`              |\n",
    "| sqrt      | `torch.sqrt()`             |\n",
    "| exp       | `torch.exp()`              |\n",
    "| log       | `torch.log()`              |\n",
    "| abs       | `torch.abs()`              |\n",
    "| sum       | `torch.sum()`              |\n",
    "| mean      | `torch.mean()`             |\n",
    "| max       | `torch.max()`              |\n",
    "| min       | `torch.min()`              |\n",
    "| matmul    | `torch.matmul()`           |\n",
    "| reshape   | `torch.reshape()` or `.view()` |\n",
    "| transpose | `torch.transpose()` or `.t()` |\n"
   ]
  },
  {
   "cell_type": "code",
   "execution_count": 63,
   "id": "f4b2e04c-8af3-421e-ac66-923d6b5d0dfe",
   "metadata": {},
   "outputs": [
    {
     "data": {
      "text/plain": [
       "tensor([3.1400, 6.2800, 9.4200])"
      ]
     },
     "execution_count": 63,
     "metadata": {},
     "output_type": "execute_result"
    }
   ],
   "source": [
    "torch.mul(tensor,3.14)"
   ]
  },
  {
   "cell_type": "code",
   "execution_count": 64,
   "id": "1f2884bf-6937-4a5a-98a7-2d08f36eff44",
   "metadata": {},
   "outputs": [
    {
     "data": {
      "text/plain": [
       "tensor([  1,  32, 243])"
      ]
     },
     "execution_count": 64,
     "metadata": {},
     "output_type": "execute_result"
    }
   ],
   "source": [
    "torch.pow(tensor,5)"
   ]
  },
  {
   "cell_type": "markdown",
   "id": "f0ca1917-5ed7-429d-8ead-11fd7f91591b",
   "metadata": {},
   "source": [
    "#### Matrix Multiplication\n",
    "1. Element-wise\n",
    "2. Matrix Multiplication ( Dot-Product)"
   ]
  },
  {
   "cell_type": "code",
   "execution_count": 69,
   "id": "aed1845b-e48d-4396-9737-92dcb3f1b0bd",
   "metadata": {},
   "outputs": [
    {
     "name": "stdout",
     "output_type": "stream",
     "text": [
      "Scalar multiplication of tensor([1, 2, 3]) with itself is  tensor([1, 4, 9])\n",
      "Matrix multiplication of tensor is: tensor(14)\n"
     ]
    }
   ],
   "source": [
    "# Element Wise\n",
    "print(\"Scalar multiplication of\",tensor,\"with itself is \",tensor*tensor)\n",
    "\n",
    "# Matrix Multiplication\n",
    "print(\"Matrix multiplication of tensor is:\",torch.matmul(tensor,tensor))"
   ]
  },
  {
   "cell_type": "code",
   "execution_count": 71,
   "id": "9c5ee9d1-708b-4044-af7d-d023400c297d",
   "metadata": {},
   "outputs": [
    {
     "name": "stdout",
     "output_type": "stream",
     "text": [
      "[4, 10, 18]\n"
     ]
    }
   ],
   "source": [
    "# Matrix multiplication by hand \n",
    "A = [1,2,3]\n",
    "B = [4,5,6]\n",
    "\n",
    "# Now we have to multiply them elment wise\n",
    "c = []\n",
    "if len(A) == len(B):\n",
    "    for i in range(len(A)):\n",
    "        c.append(A[i]*B[i])\n",
    "\n",
    "print(c) \n",
    "\n",
    "# Now we have to perform matrix multiplication\n",
    "# Using same mathematics logic\n",
    "# here for our matrix we are only performing dot product\n",
    "c = []\n",
    "\n"
   ]
  },
  {
   "cell_type": "code",
   "execution_count": null,
   "id": "33fecdc8-0ad8-4b09-a972-28065c0f5835",
   "metadata": {},
   "outputs": [],
   "source": []
  }
 ],
 "metadata": {
  "kernelspec": {
   "display_name": "Python 3 (ipykernel)",
   "language": "python",
   "name": "python3"
  },
  "language_info": {
   "codemirror_mode": {
    "name": "ipython",
    "version": 3
   },
   "file_extension": ".py",
   "mimetype": "text/x-python",
   "name": "python",
   "nbconvert_exporter": "python",
   "pygments_lexer": "ipython3",
   "version": "3.12.5"
  }
 },
 "nbformat": 4,
 "nbformat_minor": 5
}
