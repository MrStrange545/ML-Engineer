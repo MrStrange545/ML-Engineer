{
 "cells": [
  {
   "cell_type": "markdown",
   "id": "b3a45cd0-44bd-40c9-aa23-b44623880e2b",
   "metadata": {},
   "source": [
    "[![Open in Colab](https://colab.research.google.com/assets/colab-badge.svg)](https://colab.research.google.com/github/MrStrange545/ML-Engineer/blob/main/Notebooks/08_ML_cheatsheat.ipynb)"
   ]
  },
  {
   "cell_type": "markdown",
   "id": "631264d6-615a-44b7-a359-0649c53bd5a5",
   "metadata": {},
   "source": [
    "# ML Cheatsheet"
   ]
  },
  {
   "cell_type": "markdown",
   "id": "697c79aa-6268-4fee-aa7e-9a7e9e7e006b",
   "metadata": {},
   "source": [
    "chatgpt prompt:\n",
    "\n",
    "Suppose I am a machine learning engineer(novice) tell me several tips and tricks or best practices or you can say things or advices that only come by experience  in ML job or data science job, I want you tell me those insights and helpful things that can accelerate my working with projects, it can be library, or some efficient way of doing specific things, or achieving a outcome of task A in more efficient manner than a novice ML engineer or data scientist would do."
   ]
  },
  {
   "cell_type": "markdown",
   "id": "c316b198-4c4f-4a45-9ea3-dc96aaa8c308",
   "metadata": {},
   "source": [
    "## Data Preprocessing\n",
    "1. Use Pandas' `pd.options.display.max_columns` to display more columns when working with wide datasets.\n",
    "2. Create a data dictionary to document data sources, descriptions, and transformations.\n",
    "3. Use `pd.get_dummies` for one-hot encoding categorical variables."
   ]
  },
  {
   "cell_type": "code",
   "execution_count": null,
   "id": "3642c41f-388c-45d5-b582-3d5ad68f07e2",
   "metadata": {},
   "outputs": [],
   "source": []
  }
 ],
 "metadata": {
  "kernelspec": {
   "display_name": "Python 3 (ipykernel)",
   "language": "python",
   "name": "python3"
  },
  "language_info": {
   "codemirror_mode": {
    "name": "ipython",
    "version": 3
   },
   "file_extension": ".py",
   "mimetype": "text/x-python",
   "name": "python",
   "nbconvert_exporter": "python",
   "pygments_lexer": "ipython3",
   "version": "3.12.5"
  }
 },
 "nbformat": 4,
 "nbformat_minor": 5
}
