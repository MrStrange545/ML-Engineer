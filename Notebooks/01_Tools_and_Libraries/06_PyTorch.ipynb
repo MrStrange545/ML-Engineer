{
 "cells": [
  {
   "cell_type": "markdown",
   "id": "a005050d-2b9a-4b52-8536-49b833bfbb0e",
   "metadata": {},
   "source": [
    "[![Open in Colab](https://colab.research.google.com/assets/colab-badge.svg)](https://colab.research.google.com/github/MrStrange545/ML-Engineer/blob/main/Notebooks/06_PyTorch.ipynb)"
   ]
  },
  {
   "cell_type": "markdown",
   "id": "1eec730d-019d-4eb3-8a33-0fce4d9c0b6f",
   "metadata": {},
   "source": [
    "# 1.Introduction\n",
    "\n",
    "## 1.1.Importing-Libraries"
   ]
  },
  {
   "cell_type": "code",
   "execution_count": 1,
   "id": "460416de-5858-48e3-bb2a-643878d4e78f",
   "metadata": {},
   "outputs": [],
   "source": [
    "import numpy as np\n",
    "import pandas as pd\n",
    "import matplotlib.pyplot as plt\n",
    "from sklearn.datasets import make_circles\n",
    "import torch"
   ]
  },
  {
   "cell_type": "markdown",
   "id": "ea40236a-193e-44c8-9ed0-08dd43daa670",
   "metadata": {},
   "source": [
    "## 1.2.Introduction-to-tensors\n",
    "\n",
    "### 1.2.1.Creating-tensors"
   ]
  },
  {
   "cell_type": "code",
   "execution_count": 2,
   "id": "27c38450-bd30-4700-a54e-30dc42fd808a",
   "metadata": {},
   "outputs": [],
   "source": [
    "# Scalars\n",
    "# creating one scalar whose value is 7 ans storing it in var scalar.\n",
    "scalar = torch.tensor(7) "
   ]
  },
  {
   "cell_type": "code",
   "execution_count": 3,
   "id": "2b008c41-5609-44a6-9a7b-542c34d0e35a",
   "metadata": {},
   "outputs": [
    {
     "name": "stdout",
     "output_type": "stream",
     "text": [
      "Rank of a Scalar: 0\n",
      "Value of a zero-rank tensor: 7\n",
      "The data type of the scalar: torch.int64\n"
     ]
    }
   ],
   "source": [
    "# Attribute of tensor: ndim\n",
    "\n",
    "# ndim returns the rank(Dimension) of the scalar\n",
    "print(\"Rank of a Scalar:\",scalar.ndim)\n",
    "\n",
    "# item() returns the value the tensor\n",
    "value = scalar.item()\n",
    "print(\"Value of a zero-rank tensor:\",value)\n",
    "\n",
    "# dtype returns the data type,\n",
    "print(\"The data type of the scalar:\",scalar.dtype)\n"
   ]
  },
  {
   "cell_type": "code",
   "execution_count": 4,
   "id": "e631a95f-9109-499c-8ef5-acf21c1bc91e",
   "metadata": {},
   "outputs": [
    {
     "name": "stdout",
     "output_type": "stream",
     "text": [
      "Rank of a Vector: 1\n",
      "Shape of the vector: torch.Size([4])\n"
     ]
    }
   ],
   "source": [
    "# Vectors\n",
    "# creating one vector and storing\n",
    "# it in var vector we can pass any 1 x n vector\n",
    "vector = torch.tensor([7,8,9,10])\n",
    "\n",
    "print(\"Rank of a Vector:\",vector.ndim)\n",
    "\n",
    "# shape returns the number of elements in the corresponding dimensions\n",
    "# torch shape = numpy shape\n",
    "print(\"Shape of the vector:\",vector.shape)"
   ]
  },
  {
   "cell_type": "code",
   "execution_count": 5,
   "id": "0e1135b4-058a-4a89-a892-c5412a8ebb8f",
   "metadata": {},
   "outputs": [
    {
     "name": "stdout",
     "output_type": "stream",
     "text": [
      "The number of dimensions of this Matrix: 2\n",
      "The zero-zero element of MATRIX: tensor(7.)\n",
      "The shape of the matrix is: torch.Size([2, 3])\n"
     ]
    }
   ],
   "source": [
    "# MATRIX\n",
    "MATRIX = torch.tensor([[7,8,5.2],\n",
    "                       [9,10,6.3]])\n",
    "print(\"The number of dimensions of this Matrix:\",MATRIX.ndim)\n",
    "\n",
    "# Accessing the elements of MATRIX = same as numpy\n",
    "print(\"The zero-zero element of MATRIX:\",MATRIX[0][0])\n",
    "\n",
    "# Shape of the matrix\n",
    "print(\"The shape of the matrix is:\",MATRIX.shape)"
   ]
  },
  {
   "cell_type": "code",
   "execution_count": 6,
   "id": "c36640cf-991a-4713-9e12-5e3ccc8f4749",
   "metadata": {},
   "outputs": [
    {
     "name": "stdout",
     "output_type": "stream",
     "text": [
      "The rank of the tensor: 3\n",
      "The shape of the tensor: torch.Size([1, 3, 3])\n"
     ]
    }
   ],
   "source": [
    "# TENSOR\n",
    "TENSOR = torch.tensor([[[1,2,3],\n",
    "                        [3,6,9],\n",
    "                        [7,8,9]]])\n",
    "\n",
    "print(\"The rank of the tensor:\",TENSOR.ndim)\n",
    "\n",
    "print(\"The shape of the tensor:\",TENSOR.shape)"
   ]
  },
  {
   "cell_type": "markdown",
   "id": "801596d9-9991-41b8-98cf-0b0688b57063",
   "metadata": {},
   "source": [
    "### 1.2.2.Random-Tensor\n",
    "\n",
    "#### 1.2.2.1.Why-Random-Tensors?\n",
    "- Random tensors are important  because the way many neural networks learn is that they start with tensors full of random numbers and then adjust those random numbers to better represent data.\n",
    "\n",
    "crux of neural network+s\n",
    "\n",
    "`Start with random numbers -> look at data -> update random numbers -> look at data -> update random numbers`"
   ]
  },
  {
   "cell_type": "code",
   "execution_count": 7,
   "id": "83295bb3-f0f6-4552-9ce6-bd9b612ace0c",
   "metadata": {},
   "outputs": [
    {
     "name": "stdout",
     "output_type": "stream",
     "text": [
      "tensor([[0.3000, 0.5366, 0.6730, 0.5965],\n",
      "        [0.3538, 0.6741, 0.1090, 0.0865],\n",
      "        [0.0170, 0.7502, 0.7829, 0.4064]])\n",
      "Number of dimensions: 2\n"
     ]
    }
   ],
   "source": [
    "# Creating a random tensors of size(3,4) or shape(3,4)\n",
    "random_tensor = torch.rand(3,4)\n",
    "\n",
    "print(random_tensor)\n",
    "\n",
    "print(\"Number of dimensions:\",random_tensor.ndim)"
   ]
  },
  {
   "cell_type": "code",
   "execution_count": 8,
   "id": "a483ba32-ae58-469a-9fdc-fea5ad5c5615",
   "metadata": {},
   "outputs": [
    {
     "name": "stdout",
     "output_type": "stream",
     "text": [
      "The shape of image tensor: torch.Size([224, 224, 3])\n",
      "The dimensions of image tensor: 3\n"
     ]
    }
   ],
   "source": [
    "# Create a random tensor with similar shape to an image tensor\n",
    "# size = (height, width, number of color channels(R,G,B)\n",
    "random_image_size_tensor = torch.rand(size = (224,224,3))\n",
    "\n",
    "print(\"The shape of image tensor:\",random_image_size_tensor.shape)\n",
    "\n",
    "print(\"The dimensions of image tensor:\",random_image_size_tensor.ndim)"
   ]
  },
  {
   "cell_type": "markdown",
   "id": "eeee639c-070a-47c1-9b58-75b79ad27e5a",
   "metadata": {},
   "source": [
    "### 1.2.3.Zeros-and-Ones"
   ]
  },
  {
   "cell_type": "code",
   "execution_count": 9,
   "id": "ac5875ff-0077-4ebe-8633-6391b5ca20b8",
   "metadata": {},
   "outputs": [
    {
     "name": "stdout",
     "output_type": "stream",
     "text": [
      "tensor([[0., 0., 0., 0.],\n",
      "        [0., 0., 0., 0.],\n",
      "        [0., 0., 0., 0.]])\n"
     ]
    }
   ],
   "source": [
    "# Creating a tensor of all zero\n",
    "zero = torch.zeros(size = (3,4))\n",
    "print(zero)"
   ]
  },
  {
   "cell_type": "code",
   "execution_count": 10,
   "id": "8b5d1051-9067-4da0-9087-a8b85182918b",
   "metadata": {},
   "outputs": [
    {
     "name": "stdout",
     "output_type": "stream",
     "text": [
      "tensor([[1., 1., 1., 1.],\n",
      "        [1., 1., 1., 1.],\n",
      "        [1., 1., 1., 1.]])\n"
     ]
    }
   ],
   "source": [
    "# Creating a tensor of all ones\n",
    "ones = torch.ones(size = (3,4))\n",
    "print(ones)"
   ]
  },
  {
   "cell_type": "code",
   "execution_count": 11,
   "id": "3f62e8da-20f6-435b-82f8-e2155930c073",
   "metadata": {},
   "outputs": [
    {
     "name": "stdout",
     "output_type": "stream",
     "text": [
      "tensor([[0.4419, 0.3974, 0.0698, 0.5961],\n",
      "        [0.6890, 0.7549, 0.4699, 0.1136],\n",
      "        [0.8896, 0.2145, 0.0501, 0.3661]])\n",
      "tensor([[0.],\n",
      "        [0.],\n",
      "        [0.]])\n",
      "tensor([[0.4419, 0.3974, 0.0000, 0.5961],\n",
      "        [0.6890, 0.7549, 0.0000, 0.1136],\n",
      "        [0.8896, 0.2145, 0.0000, 0.3661]])\n"
     ]
    }
   ],
   "source": [
    "# Let's say you have a tensor and you don't want specfic elements\n",
    "# then you can simply mask them to zero. How ? see.\n",
    "\n",
    "tensor = torch.rand(size = (3,4))\n",
    "print(tensor)\n",
    "\n",
    "# Now, I want to make the third column zero\n",
    "\n",
    "zero = torch.zeros(size = (3,1))\n",
    "print(zero)\n",
    "\n",
    "# tensor[:, 2] select all rows(:) of the third column( 2 index) of the tensor\n",
    "# zero.squeeze() removes the extra dimension (since dim(zero) = (3,1)  and \n",
    "# we need to it to match the shape (3,) for assignment).\n",
    "tensor[:, 2] = zero.squeeze()\n",
    "\n",
    "print(tensor)\n"
   ]
  },
  {
   "cell_type": "markdown",
   "id": "9c44a919-ffa5-4775-939e-161ae4ba9ca2",
   "metadata": {},
   "source": [
    "### 1.2.4.Creating-tensors-in-range-and-tensors-like"
   ]
  },
  {
   "cell_type": "code",
   "execution_count": 12,
   "id": "3af3d25a-7356-4c96-9886-38668ecd588e",
   "metadata": {},
   "outputs": [
    {
     "data": {
      "text/plain": [
       "tensor([ 1,  2,  3,  4,  5,  6,  7,  8,  9, 10])"
      ]
     },
     "execution_count": 12,
     "metadata": {},
     "output_type": "execute_result"
    }
   ],
   "source": [
    "# use torch.arange()\n",
    "# It is exactly same as range\n",
    "one_to_ten = torch.arange(start = 1, end = 11, step = 1)\n",
    "one_to_ten"
   ]
  },
  {
   "cell_type": "code",
   "execution_count": 13,
   "id": "63cbbda2-12ee-4d64-b3b5-49a7a7340c93",
   "metadata": {},
   "outputs": [
    {
     "data": {
      "text/plain": [
       "tensor([0, 0, 0, 0, 0, 0, 0, 0, 0, 0])"
      ]
     },
     "execution_count": 13,
     "metadata": {},
     "output_type": "execute_result"
    }
   ],
   "source": [
    "# Creating tensors like\n",
    "# basically it will create zero tensor in the same fashion as the input\n",
    "ten_zeros = torch.zeros_like(input = one_to_ten)\n",
    "ten_zeros"
   ]
  },
  {
   "cell_type": "markdown",
   "id": "bbb85292-bbc0-48b7-8928-5a954617cacf",
   "metadata": {},
   "source": [
    "### 1.2.5.Tensor-Datatypes\n",
    "\n",
    "**Note:** Tensor datatypes is one of the 3 big errors you'll run into with PyTorch & deep learning:\n",
    "1. Tensors not right datatype\n",
    "2. Tensors not right shape\n",
    "3. Tensors not on the right device (means one tensor on \"cpu\" and another on \"gpu\" then there will be a error)"
   ]
  },
  {
   "cell_type": "code",
   "execution_count": 14,
   "id": "478bd6f8-fd77-4540-bc3f-914a20f9d52c",
   "metadata": {},
   "outputs": [
    {
     "data": {
      "text/plain": [
       "torch.float32"
      ]
     },
     "execution_count": 14,
     "metadata": {},
     "output_type": "execute_result"
    }
   ],
   "source": [
    "# Float 32 Tensor (Default)\n",
    "float_32_tensor = torch.tensor([3.0,4,5],\n",
    "                               dtype = None, #  the data type\n",
    "                              device = None, #  def = \"cpu\" available = \"cpu\"/\"cuda\"\n",
    "                              requires_grad = False) # whether or not to track gradients with this tensors operations \n",
    "float_32_tensor.dtype"
   ]
  },
  {
   "cell_type": "code",
   "execution_count": 15,
   "id": "ab29106b-921b-4922-8d66-b39ae6d60797",
   "metadata": {},
   "outputs": [
    {
     "data": {
      "text/plain": [
       "tensor([3., 4., 5.], dtype=torch.float16)"
      ]
     },
     "execution_count": 15,
     "metadata": {},
     "output_type": "execute_result"
    }
   ],
   "source": [
    "float_16_tensor = float_32_tensor.type(torch.float16) # basically type conversion\n",
    "float_16_tensor"
   ]
  },
  {
   "cell_type": "markdown",
   "id": "aed5e3e9-83f9-4f83-be92-77855222cef6",
   "metadata": {},
   "source": [
    "### 1.2.6.Getting-information-from-tensors\n",
    "1. tensor.dtype\n",
    "2. tensor.shape\n",
    "3. tensor.shape"
   ]
  },
  {
   "cell_type": "code",
   "execution_count": 16,
   "id": "883a3abd-f818-4243-bc88-3b1a0e6c1f51",
   "metadata": {},
   "outputs": [
    {
     "name": "stdout",
     "output_type": "stream",
     "text": [
      "tensor([[0.6364, 0.5635, 0.9239, 0.3928],\n",
      "        [0.5725, 0.5057, 0.2277, 0.8286],\n",
      "        [0.9106, 0.9985, 0.2903, 0.9931]])\n",
      "torch.float32\n",
      "cpu\n",
      "torch.Size([3, 4])\n"
     ]
    }
   ],
   "source": [
    "x = torch.rand(size = (3,4))\n",
    "print(x)\n",
    "print(x.dtype)\n",
    "print(x.device)\n",
    "print(x.shape)"
   ]
  },
  {
   "cell_type": "markdown",
   "id": "9b6ad2fb-e16c-425f-97f0-324a0f67e4a5",
   "metadata": {},
   "source": [
    "### 1.2.7.Tensor-Operations\n",
    "Tensor Operations include:\n",
    "- Addition\n",
    "- Subtraction\n",
    "- Scalar Multiplication \n",
    "- Division\n",
    "- Matrix Multiplication"
   ]
  },
  {
   "cell_type": "code",
   "execution_count": 17,
   "id": "86e01a2f-e31e-4a9c-ba71-fe0d95b01682",
   "metadata": {},
   "outputs": [
    {
     "name": "stdout",
     "output_type": "stream",
     "text": [
      "Addition: tensor([ 7,  9, 11, 13, 15])\n",
      "Subtraction: tensor([-5, -5, -5, -5, -5])\n",
      "Mutliplication: tensor([ 6, 14, 24, 36, 50])\n",
      "Division: tensor([0.1667, 0.2857, 0.3750, 0.4444, 0.5000])\n",
      "Matrix Multiplication: tensor(130)\n"
     ]
    }
   ],
   "source": [
    "a = torch.arange(start = 1, end = 6)\n",
    "b = torch.arange(start = 6, end  = 11)\n",
    "print(\"Addition:\",a+b) # Dimensions must be compatible\n",
    "print(\"Subtraction:\",a-b)\n",
    "print(\"Mutliplication:\",a*b)\n",
    "print(\"Division:\",a/b) # b must be non-zero\n",
    "print(\"Matrix Multiplication:\",a@b) # @ operator is used for dot product"
   ]
  },
  {
   "cell_type": "code",
   "execution_count": 18,
   "id": "94cdf8dd-19a2-4938-a114-83fcff873935",
   "metadata": {},
   "outputs": [
    {
     "data": {
      "text/plain": [
       "(tensor([11, 12, 13]), tensor([10, 20, 30]), tensor([-9, -8, -7]))"
      ]
     },
     "execution_count": 18,
     "metadata": {},
     "output_type": "execute_result"
    }
   ],
   "source": [
    "# create a tensor and add 10 to it\n",
    "tensor = torch.tensor([1,2,3])\n",
    "tensor+10,tensor*10,tensor-10"
   ]
  },
  {
   "cell_type": "markdown",
   "id": "fbeab709-f1f2-4a01-81af-33857758532e",
   "metadata": {},
   "source": [
    "### 1.2.8.PyTorch-in-built-Functions-for-operations\n",
    "\n",
    "| Operation | Function                  |\n",
    "|-----------|---------------------------|\n",
    "| +         | `torch.add()`              |\n",
    "| -         | `torch.sub()`  |\n",
    "| *         | `torch.mul()` or `torch.multiply()` |\n",
    "| /         | `torch.div()` |\n",
    "| **        | `torch.pow()`              |\n",
    "| sqrt      | `torch.sqrt()`             |\n",
    "| exp       | `torch.exp()`              |\n",
    "| log       | `torch.log()`              |\n",
    "| abs       | `torch.abs()`              |\n",
    "| sum       | `torch.sum()`              |\n",
    "| mean      | `torch.mean()`             |\n",
    "| max       | `torch.max()`              |\n",
    "| min       | `torch.min()`              |\n",
    "| matmul    | `torch.matmul()`           |\n",
    "| reshape   | `torch.reshape()` or `.view()` |\n",
    "| transpose | `torch.transpose()` or `.t()` or `.T` |\n"
   ]
  },
  {
   "cell_type": "code",
   "execution_count": 19,
   "id": "f4b2e04c-8af3-421e-ac66-923d6b5d0dfe",
   "metadata": {},
   "outputs": [
    {
     "data": {
      "text/plain": [
       "tensor([3.1400, 6.2800, 9.4200])"
      ]
     },
     "execution_count": 19,
     "metadata": {},
     "output_type": "execute_result"
    }
   ],
   "source": [
    "torch.mul(tensor,3.14)"
   ]
  },
  {
   "cell_type": "code",
   "execution_count": 20,
   "id": "1f2884bf-6937-4a5a-98a7-2d08f36eff44",
   "metadata": {},
   "outputs": [
    {
     "data": {
      "text/plain": [
       "tensor([  1,  32, 243])"
      ]
     },
     "execution_count": 20,
     "metadata": {},
     "output_type": "execute_result"
    }
   ],
   "source": [
    "torch.pow(tensor,5)"
   ]
  },
  {
   "cell_type": "markdown",
   "id": "f0ca1917-5ed7-429d-8ead-11fd7f91591b",
   "metadata": {},
   "source": [
    "#### 1.2.8.1.Matrix-Multiplication\n",
    "1. Element-wise\n",
    "2. Matrix Multiplication ( Dot-Product)\n",
    "\n",
    "##### Rules of Matrix Multiplication\n",
    "1. The **inner dimensions** must match:\n",
    "2. The resulting matrix has the shape of the **outer dimensions**:"
   ]
  },
  {
   "cell_type": "code",
   "execution_count": 21,
   "id": "aed1845b-e48d-4396-9737-92dcb3f1b0bd",
   "metadata": {},
   "outputs": [
    {
     "name": "stdout",
     "output_type": "stream",
     "text": [
      "Scalar multiplication of tensor([1, 2, 3]) with itself is  tensor([1, 4, 9])\n",
      "Matrix multiplication of tensor is: tensor(14)\n"
     ]
    }
   ],
   "source": [
    "# Element Wise\n",
    "print(\"Scalar multiplication of\",tensor,\"with itself is \",tensor*tensor)\n",
    "\n",
    "# Matrix Multiplication\n",
    "print(\"Matrix multiplication of tensor is:\",torch.matmul(tensor,tensor))"
   ]
  },
  {
   "cell_type": "code",
   "execution_count": 22,
   "id": "9c5ee9d1-708b-4044-af7d-d023400c297d",
   "metadata": {},
   "outputs": [
    {
     "name": "stdout",
     "output_type": "stream",
     "text": [
      "[tensor(4), tensor(10), tensor(18)]\n"
     ]
    },
    {
     "data": {
      "text/plain": [
       "(tensor(32),)"
      ]
     },
     "execution_count": 22,
     "metadata": {},
     "output_type": "execute_result"
    }
   ],
   "source": [
    "# Matrix multiplication by hand \n",
    "A = torch.tensor([1,2,3])\n",
    "B = torch.tensor([4,5,6])\n",
    "\n",
    "# Now we have to multiply them elment wise\n",
    "c = []\n",
    "if len(A) == len(B):\n",
    "    for i in range(len(A)):\n",
    "        c.append(A[i]*B[i])\n",
    "\n",
    "print(c) \n",
    "\n",
    "# the above process is very slow, use vectorized code\n",
    "torch.matmul(A,B), "
   ]
  },
  {
   "cell_type": "code",
   "execution_count": 23,
   "id": "33fecdc8-0ad8-4b09-a972-28065c0f5835",
   "metadata": {},
   "outputs": [
    {
     "data": {
      "text/plain": [
       "tensor([[ 5,  8],\n",
       "        [11, 18],\n",
       "        [17, 28]])"
      ]
     },
     "execution_count": 23,
     "metadata": {},
     "output_type": "execute_result"
    }
   ],
   "source": [
    "### Example of error\n",
    "x = torch.tensor([[1,2],\n",
    "                  [3,4],\n",
    "                  [5,6]])\n",
    "# torch.matmul(x,x) this line will definitely raise an error as dim are not compatible\n",
    "y = torch.tensor([[1,2],\n",
    "                 [2,3]])\n",
    "torch.matmul(x,y)"
   ]
  },
  {
   "cell_type": "code",
   "execution_count": 24,
   "id": "7edca741-6ce8-4725-ab1d-b5dd2329afae",
   "metadata": {},
   "outputs": [
    {
     "name": "stdout",
     "output_type": "stream",
     "text": [
      "tensor([[1, 2],\n",
      "        [3, 4],\n",
      "        [5, 6]])\n",
      "tensor([[1, 3, 5],\n",
      "        [2, 4, 6]])\n"
     ]
    },
    {
     "data": {
      "text/plain": [
       "tensor([[ 5, 11, 17],\n",
       "        [11, 25, 39],\n",
       "        [17, 39, 61]])"
      ]
     },
     "execution_count": 24,
     "metadata": {},
     "output_type": "execute_result"
    }
   ],
   "source": [
    "### Transpose of a matrix\n",
    "## to find transpose of any matrix use tensor.t() or tensor.T\n",
    "print(x)\n",
    "print(x.T)\n",
    "torch.matmul(x,x.T)"
   ]
  },
  {
   "cell_type": "markdown",
   "id": "be7ce353-0ab0-471c-8a49-96807da6d179",
   "metadata": {},
   "source": [
    "### 1.2.9.Tensor-Aggregation"
   ]
  },
  {
   "cell_type": "code",
   "execution_count": 25,
   "id": "90c1bfb0-b783-4f10-83f1-a813a091292a",
   "metadata": {},
   "outputs": [
    {
     "name": "stdout",
     "output_type": "stream",
     "text": [
      "tensor([[0.1094, 0.0560, 0.9476, 0.5410],\n",
      "        [0.1473, 0.0372, 0.1449, 0.8425],\n",
      "        [0.0344, 0.0549, 0.4039, 0.9986]]) \n",
      "\n",
      "minimum: tensor(0.0344)\n",
      "maximum: tensor(0.9986)\n",
      "mean: tensor(0.3598)\n",
      "std: tensor(0.3779)\n",
      "Sum: tensor(4.3177)\n"
     ]
    }
   ],
   "source": [
    "# Create a tensor\n",
    "x = torch.rand(size = (3,4))\n",
    "print(x,\"\\n\")\n",
    "print(\"minimum:\",x.min())\n",
    "print(\"maximum:\",x.max())\n",
    "print(\"mean:\",x.mean())\n",
    "print(\"std:\",x.std())\n",
    "print(\"Sum:\",x.sum())"
   ]
  },
  {
   "cell_type": "code",
   "execution_count": 26,
   "id": "9a418738-5915-4ede-9ca8-2b732009ee09",
   "metadata": {},
   "outputs": [
    {
     "name": "stdout",
     "output_type": "stream",
     "text": [
      "tensor([[0.0436, 0.9560, 0.6047, 0.0531],\n",
      "        [0.0564, 0.6550, 0.0771, 0.4468],\n",
      "        [0.2117, 0.2136, 0.3821, 0.7802]]) \n",
      "\n",
      "minimum: tensor(0.0436)\n",
      "maximum: tensor(0.9560)\n",
      "mean: tensor(0.3734)\n",
      "std: tensor(0.3154)\n",
      "Sum: tensor(4.4803)\n"
     ]
    }
   ],
   "source": [
    "# Another way of doing the same things as above\n",
    "# Create a tensor\n",
    "x = torch.rand(size = (3,4))\n",
    "print(x,\"\\n\")\n",
    "print(\"minimum:\",torch.min(x))\n",
    "print(\"maximum:\",torch.max(x))\n",
    "print(\"mean:\",torch.mean(x))\n",
    "print(\"std:\",torch.std(x))\n",
    "print(\"Sum:\",torch.sum(x))"
   ]
  },
  {
   "cell_type": "markdown",
   "id": "1a55140c-e5ff-4b41-bfed-6e9f40d05331",
   "metadata": {},
   "source": [
    "**Note**: torch.mean() does not work with long data type"
   ]
  },
  {
   "cell_type": "markdown",
   "id": "eda9fdbe-13cf-48a4-9948-84b1543feb87",
   "metadata": {},
   "source": [
    "#### 1.2.9.1.Positional-max,min"
   ]
  },
  {
   "cell_type": "code",
   "execution_count": 27,
   "id": "985265d3-7d58-4f00-8e36-f86526eca1cf",
   "metadata": {},
   "outputs": [
    {
     "data": {
      "text/plain": [
       "tensor(0)"
      ]
     },
     "execution_count": 27,
     "metadata": {},
     "output_type": "execute_result"
    }
   ],
   "source": [
    "# Find the position in tensor that has minimum value\n",
    "x.argmin()"
   ]
  },
  {
   "cell_type": "code",
   "execution_count": 28,
   "id": "afd83011-7374-4482-9542-0d0f0a19ce5b",
   "metadata": {},
   "outputs": [
    {
     "data": {
      "text/plain": [
       "tensor(1)"
      ]
     },
     "execution_count": 28,
     "metadata": {},
     "output_type": "execute_result"
    }
   ],
   "source": [
    "# Find the position in tensor that has maximum value\n",
    "x.argmax()"
   ]
  },
  {
   "cell_type": "markdown",
   "id": "0949593c-1bed-4ad0-aa83-cfaac94d7e7f",
   "metadata": {},
   "source": [
    "### 1.2.10.Reshaping,Stacking,Squeezing-and-unsqueezing-tensors\n",
    "- Reshaping - reshapes an input tensor to a defined shape\n",
    "- View - Return a view of an input tensor of certain shape but keep the same memory as the origianl tensor\n",
    "- Stacking - Concatenates a sequence of tensors along a new dimension.\n",
    "- Squeeze - removes all `1` dimensions from a tensor\n",
    "- Unsqueeze - add a `1` dimension to a target tensor\n",
    "- Permute - Return a view of the input with dimensions permuted(swapped) in a certain way"
   ]
  },
  {
   "cell_type": "code",
   "execution_count": 29,
   "id": "bb5597d9-1ef6-4138-b1ae-cefb3c36a5d1",
   "metadata": {},
   "outputs": [
    {
     "data": {
      "text/plain": [
       "(tensor([ 1.,  2.,  3.,  4.,  5.,  6.,  7.,  8.,  9., 10.]), torch.Size([10]))"
      ]
     },
     "execution_count": 29,
     "metadata": {},
     "output_type": "execute_result"
    }
   ],
   "source": [
    "# Creating a tensor\n",
    "x = torch.arange(start = 1.,end = 11.)\n",
    "x,x.shape"
   ]
  },
  {
   "cell_type": "code",
   "execution_count": 30,
   "id": "cd3e6235-87d9-4846-9612-0a4659b3e861",
   "metadata": {},
   "outputs": [
    {
     "data": {
      "text/plain": [
       "tensor([[ 1.,  2.],\n",
       "        [ 3.,  4.],\n",
       "        [ 5.,  6.],\n",
       "        [ 7.,  8.],\n",
       "        [ 9., 10.]])"
      ]
     },
     "execution_count": 30,
     "metadata": {},
     "output_type": "execute_result"
    }
   ],
   "source": [
    "# Add a extra dimension\n",
    "x_reshaped = x.reshape(5,2)\n",
    "x_reshaped"
   ]
  },
  {
   "cell_type": "code",
   "execution_count": 31,
   "id": "a07160c9-eb45-4431-bc48-14deb6c224c3",
   "metadata": {},
   "outputs": [
    {
     "data": {
      "text/plain": [
       "(tensor([[ 1.,  2.,  3.,  4.,  5.,  6.,  7.,  8.,  9., 10.]]),\n",
       " tensor([ 1.,  2.,  3.,  4.,  5.,  6.,  7.,  8.,  9., 10.]))"
      ]
     },
     "execution_count": 31,
     "metadata": {},
     "output_type": "execute_result"
    }
   ],
   "source": [
    "# Change the view\n",
    "z = x.view(1,10)\n",
    "z,x"
   ]
  },
  {
   "cell_type": "code",
   "execution_count": 32,
   "id": "db2d2616-a3c9-41a7-8bc8-2446f7d4d38e",
   "metadata": {},
   "outputs": [
    {
     "data": {
      "text/plain": [
       "(tensor([[999.,   2.,   3.,   4.,   5.,   6.,   7.,   8.,   9.,  10.]]),\n",
       " tensor([999.,   2.,   3.,   4.,   5.,   6.,   7.,   8.,   9.,  10.]))"
      ]
     },
     "execution_count": 32,
     "metadata": {},
     "output_type": "execute_result"
    }
   ],
   "source": [
    "# Changing z chnages x (bcz a view of a tensor shares the same memory as the origianl tensor)\n",
    "z[:,0] = 999\n",
    "z,x"
   ]
  },
  {
   "cell_type": "code",
   "execution_count": 33,
   "id": "3e3b311a-df53-49b8-ac68-561a9fc19284",
   "metadata": {},
   "outputs": [
    {
     "data": {
      "text/plain": [
       "tensor([[999.,   2.,   3.,   4.,   5.,   6.,   7.,   8.,   9.,  10.],\n",
       "        [999.,   2.,   3.,   4.,   5.,   6.,   7.,   8.,   9.,  10.],\n",
       "        [999.,   2.,   3.,   4.,   5.,   6.,   7.,   8.,   9.,  10.],\n",
       "        [999.,   2.,   3.,   4.,   5.,   6.,   7.,   8.,   9.,  10.]])"
      ]
     },
     "execution_count": 33,
     "metadata": {},
     "output_type": "execute_result"
    }
   ],
   "source": [
    "# Stack tensors on top of each other\n",
    "# dim = 0 -> stacking on top\n",
    "# dim = 1 -> stackng side by side\n",
    "x_stacked = torch.stack([x,x,x,x], dim = 0)\n",
    "x_stacked"
   ]
  },
  {
   "cell_type": "code",
   "execution_count": 34,
   "id": "a0bfcff6-55cc-4324-b69f-2d3976bba926",
   "metadata": {},
   "outputs": [
    {
     "data": {
      "text/plain": [
       "torch.Size([5, 2])"
      ]
     },
     "execution_count": 34,
     "metadata": {},
     "output_type": "execute_result"
    }
   ],
   "source": [
    "# torch.squeeze - removes all single dimensions from a target tensor\n",
    "x_reshaped.shape"
   ]
  },
  {
   "cell_type": "code",
   "execution_count": 35,
   "id": "4879bb62-9b8c-4827-b14a-b421ad2b237d",
   "metadata": {},
   "outputs": [
    {
     "data": {
      "text/plain": [
       "tensor([[[[[[[[999.,   2.,   3.,   4.,   5.]]],\n",
       "\n",
       "\n",
       "            [[[  6.,   7.,   8.,   9.,  10.]]]]]]]])"
      ]
     },
     "execution_count": 35,
     "metadata": {},
     "output_type": "execute_result"
    }
   ],
   "source": [
    "x_reshaped = x_reshaped.reshape(1,1,1,1,2,1,1,5)\n",
    "x_reshaped"
   ]
  },
  {
   "cell_type": "code",
   "execution_count": 36,
   "id": "13ce11d1-8db4-4d12-855a-d6e1cafbd00d",
   "metadata": {},
   "outputs": [
    {
     "data": {
      "text/plain": [
       "torch.Size([1, 1, 1, 1, 2, 1, 1, 5])"
      ]
     },
     "execution_count": 36,
     "metadata": {},
     "output_type": "execute_result"
    }
   ],
   "source": [
    "x_reshaped.shape"
   ]
  },
  {
   "cell_type": "code",
   "execution_count": 37,
   "id": "d87b20c6-03ac-4103-b261-ec6a3d46e20c",
   "metadata": {},
   "outputs": [
    {
     "data": {
      "text/plain": [
       "tensor([[999.,   2.,   3.,   4.,   5.],\n",
       "        [  6.,   7.,   8.,   9.,  10.]])"
      ]
     },
     "execution_count": 37,
     "metadata": {},
     "output_type": "execute_result"
    }
   ],
   "source": [
    "x_squeezed= x_reshaped.squeeze()\n",
    "x_squeezed"
   ]
  },
  {
   "cell_type": "code",
   "execution_count": 38,
   "id": "b24b01d5-5db3-49f8-83be-437e32b14dd0",
   "metadata": {},
   "outputs": [
    {
     "data": {
      "text/plain": [
       "torch.Size([2, 5])"
      ]
     },
     "execution_count": 38,
     "metadata": {},
     "output_type": "execute_result"
    }
   ],
   "source": [
    "x_squeezed.shape"
   ]
  },
  {
   "cell_type": "code",
   "execution_count": 39,
   "id": "349962e3-00ce-4a15-ac0b-d795bf4eb533",
   "metadata": {},
   "outputs": [
    {
     "name": "stdout",
     "output_type": "stream",
     "text": [
      "Previous tensor: tensor([[[[[[[[999.,   2.,   3.,   4.,   5.]]],\n",
      "\n",
      "\n",
      "            [[[  6.,   7.,   8.,   9.,  10.]]]]]]]])\n",
      "Shape of previous tensor: torch.Size([1, 1, 1, 1, 2, 1, 1, 5])\n",
      "\n",
      "Squeezed tensor: tensor([[999.,   2.,   3.,   4.,   5.],\n",
      "        [  6.,   7.,   8.,   9.,  10.]])\n",
      "Shape of Squeezed Tensor: torch.Size([2, 5])\n"
     ]
    }
   ],
   "source": [
    "# Brief Visualization\n",
    "\n",
    "# Before Squeezing\n",
    "print(\"Previous tensor:\",x_reshaped)\n",
    "print(\"Shape of previous tensor:\",x_reshaped.shape)\n",
    "\n",
    "# After Squeezing\n",
    "print() # for a blank line\n",
    "print(\"Squeezed tensor:\",x_squeezed)\n",
    "print(\"Shape of Squeezed Tensor:\",x_squeezed.shape)"
   ]
  },
  {
   "cell_type": "code",
   "execution_count": 40,
   "id": "87a7460a-3bfd-4568-bb02-1b0bbac54173",
   "metadata": {},
   "outputs": [
    {
     "name": "stdout",
     "output_type": "stream",
     "text": [
      "previous tensor: tensor([[999.,   2.,   3.,   4.,   5.],\n",
      "        [  6.,   7.,   8.,   9.,  10.]])\n",
      "Dimensions of previous tensor: torch.Size([2, 5])\n",
      "Unsqueezed tensor: tensor([[[999.,   2.,   3.,   4.,   5.],\n",
      "         [  6.,   7.,   8.,   9.,  10.]]])\n",
      "Dimensions of unsqueezed tensor: torch.Size([1, 2, 5])\n"
     ]
    }
   ],
   "source": [
    "# torch.unsqueeze() - adds a single dimension to a target tensor at a specific dim (dimension)\n",
    "print(\"previous tensor:\",x_squeezed)\n",
    "print(\"Dimensions of previous tensor:\",x_squeezed.shape)\n",
    "\n",
    "# after unsqueezing, adding a extra dimension\n",
    "print(\"Unsqueezed tensor:\",x_squeezed.unsqueeze(dim =0))\n",
    "print(\"Dimensions of unsqueezed tensor:\",x_squeezed.unsqueeze(dim =0).shape)"
   ]
  },
  {
   "cell_type": "code",
   "execution_count": 41,
   "id": "02efeb8d-dcc4-4af6-8ccf-fae4bf3407e5",
   "metadata": {},
   "outputs": [
    {
     "name": "stdout",
     "output_type": "stream",
     "text": [
      "Previous shape: torch.Size([224, 224, 3])\n",
      "Permuted shape: torch.Size([3, 224, 224])\n"
     ]
    }
   ],
   "source": [
    "# torch.permute -> rearranges the dimensions of a target tensor in a specified order\n",
    "x_original = torch.rand(size = (224,224,3)) # h,w,color channels\n",
    "\n",
    "# permute the original tensor to rearrange the axis\n",
    "\n",
    "x_permuted = x_original.permute(2,0,1) # shifts axis 0 -> 1, 1-> 2, 2 -> 0\n",
    "\n",
    "print(\"Previous shape:\",x_original.shape)\n",
    "print(\"Permuted shape:\",x_permuted.shape)"
   ]
  },
  {
   "cell_type": "markdown",
   "id": "429139dc-8df0-4094-8be0-b7f8209c020e",
   "metadata": {},
   "source": [
    "permute is a view of the original tensor"
   ]
  },
  {
   "cell_type": "code",
   "execution_count": 42,
   "id": "ae4444eb-12cd-4144-b6f7-1a9343ca36b0",
   "metadata": {},
   "outputs": [
    {
     "data": {
      "text/plain": [
       "tensor(999.)"
      ]
     },
     "execution_count": 42,
     "metadata": {},
     "output_type": "execute_result"
    }
   ],
   "source": [
    "x_original[0,0,0] = 999\n",
    "x_permuted[0,0,0]"
   ]
  },
  {
   "cell_type": "markdown",
   "id": "2399edd1-98d2-4390-8caa-685881f7753b",
   "metadata": {},
   "source": [
    "### 1.2.11.Indexing\n",
    "Indexing with PyTorch is same as Indexing with NumPy"
   ]
  },
  {
   "cell_type": "code",
   "execution_count": 43,
   "id": "86bd9c23-4a2c-4e6c-861e-8e0e09bb506d",
   "metadata": {},
   "outputs": [
    {
     "data": {
      "text/plain": [
       "tensor([[[0.7245, 0.5695],\n",
       "         [0.6541, 0.0625],\n",
       "         [0.2237, 0.1301],\n",
       "         [0.4117, 0.5718]],\n",
       "\n",
       "        [[0.9979, 0.6430],\n",
       "         [0.7664, 0.4272],\n",
       "         [0.1938, 0.7598],\n",
       "         [0.3193, 0.4424]],\n",
       "\n",
       "        [[0.0190, 0.4888],\n",
       "         [0.1987, 0.3305],\n",
       "         [0.3363, 0.9098],\n",
       "         [0.9285, 0.6785]]])"
      ]
     },
     "execution_count": 43,
     "metadata": {},
     "output_type": "execute_result"
    }
   ],
   "source": [
    "# create an tensor\n",
    "x = torch.rand(size = (3,4,2))\n",
    "x"
   ]
  },
  {
   "cell_type": "code",
   "execution_count": 44,
   "id": "de647644-f508-4d12-995d-df81c8d745c4",
   "metadata": {},
   "outputs": [
    {
     "data": {
      "text/plain": [
       "tensor([[0.7245, 0.5695],\n",
       "        [0.6541, 0.0625],\n",
       "        [0.2237, 0.1301],\n",
       "        [0.4117, 0.5718]])"
      ]
     },
     "execution_count": 44,
     "metadata": {},
     "output_type": "execute_result"
    }
   ],
   "source": [
    "x[0] # it gives a 2-D array as  x has 3  2-D arrays"
   ]
  },
  {
   "cell_type": "code",
   "execution_count": 45,
   "id": "0fc0e928-6cd6-4269-8a3b-e24828432eed",
   "metadata": {},
   "outputs": [
    {
     "data": {
      "text/plain": [
       "tensor([0.7245, 0.5695])"
      ]
     },
     "execution_count": 45,
     "metadata": {},
     "output_type": "execute_result"
    }
   ],
   "source": [
    "x[0,0] # it gives the 1-D array at 0-th position"
   ]
  },
  {
   "cell_type": "code",
   "execution_count": 46,
   "id": "471cb86f-7e08-487d-86e7-d26fd1a33c10",
   "metadata": {},
   "outputs": [
    {
     "data": {
      "text/plain": [
       "tensor(0.7245)"
      ]
     },
     "execution_count": 46,
     "metadata": {},
     "output_type": "execute_result"
    }
   ],
   "source": [
    "x[0,0,0] # it will give us the first scalar"
   ]
  },
  {
   "cell_type": "markdown",
   "id": "283a81f3-95f9-4f5f-876d-83c10e2fa35a",
   "metadata": {},
   "source": [
    "we can also use `:` to select `all` of the target dimension"
   ]
  },
  {
   "cell_type": "code",
   "execution_count": 47,
   "id": "e15e625c-311a-4366-8a3d-6a694545b8f5",
   "metadata": {},
   "outputs": [
    {
     "data": {
      "text/plain": [
       "tensor([[0.7245, 0.5695],\n",
       "        [0.6541, 0.0625],\n",
       "        [0.2237, 0.1301],\n",
       "        [0.4117, 0.5718]])"
      ]
     },
     "execution_count": 47,
     "metadata": {},
     "output_type": "execute_result"
    }
   ],
   "source": [
    "x[0,:,:] # equivalent to x[0]"
   ]
  },
  {
   "cell_type": "code",
   "execution_count": 48,
   "id": "37fa5c43-fb8b-47b6-8f18-530fae181392",
   "metadata": {},
   "outputs": [
    {
     "data": {
      "text/plain": [
       "tensor([0.7245, 0.9979, 0.0190])"
      ]
     },
     "execution_count": 48,
     "metadata": {},
     "output_type": "execute_result"
    }
   ],
   "source": [
    "x[:,0,0] # first entry in first 1-d Array in all 2-D array"
   ]
  },
  {
   "cell_type": "code",
   "execution_count": 49,
   "id": "0cbb6ff4-73fc-465a-a0cc-92a2f64d06f9",
   "metadata": {},
   "outputs": [
    {
     "data": {
      "text/plain": [
       "tensor([[0.5695, 0.0625, 0.1301, 0.5718],\n",
       "        [0.6430, 0.4272, 0.7598, 0.4424],\n",
       "        [0.4888, 0.3305, 0.9098, 0.6785]])"
      ]
     },
     "execution_count": 49,
     "metadata": {},
     "output_type": "execute_result"
    }
   ],
   "source": [
    "# Get all values of 0th and 1st dimension but only index 1 of 2nd dimension\n",
    "x[:,:,1]"
   ]
  },
  {
   "cell_type": "markdown",
   "id": "4f835ebb-5c20-4e52-bfa3-d0c649128e65",
   "metadata": {},
   "source": [
    "### 1.2.12.PyTorch-and-Numpy\n",
    "- Numpy_array to PyTorch Tensor -> `torch.from_numpy(ndarray)`\n",
    "- PyTorch tensor to Numpy array -> `torch.Tensor.numpy()`"
   ]
  },
  {
   "cell_type": "code",
   "execution_count": 50,
   "id": "35bb4d25-169a-4a81-80a2-cb184c774f94",
   "metadata": {},
   "outputs": [
    {
     "data": {
      "text/plain": [
       "(torch.int64, torch.int64)"
      ]
     },
     "execution_count": 50,
     "metadata": {},
     "output_type": "execute_result"
    }
   ],
   "source": [
    "# numpy arrays to tensor\n",
    "arr = np.arange(1,9)\n",
    "tensor = torch.from_numpy(arr)\n",
    "tensor2 = torch.tensor(arr)\n",
    "# both the above statements are same and do the same thing \n",
    "tensor.dtype, tensor2.dtype"
   ]
  },
  {
   "cell_type": "code",
   "execution_count": 51,
   "id": "c370ce38-1699-49bb-bcdb-873dbb85ac5e",
   "metadata": {},
   "outputs": [
    {
     "data": {
      "text/plain": [
       "(tensor([0.8201, 0.3863, 0.4538]),\n",
       " array([0.82009655, 0.38631034, 0.45375746], dtype=float32))"
      ]
     },
     "execution_count": 51,
     "metadata": {},
     "output_type": "execute_result"
    }
   ],
   "source": [
    "# tensor to numpy\n",
    "x = torch.rand(3)\n",
    "# y = np.array(x)\n",
    "y2 = x.numpy()\n",
    "\n",
    "# both the above statements are same and do the same thing \n",
    "x,y2"
   ]
  },
  {
   "cell_type": "code",
   "execution_count": 52,
   "id": "ee376d3e-f2df-401b-ba93-46e632ecdd75",
   "metadata": {},
   "outputs": [
    {
     "data": {
      "text/plain": [
       "(tensor([9.9900e+02, 3.8631e-01, 4.5376e-01]),\n",
       " tensor([[1, 2],\n",
       "         [2, 3]]))"
      ]
     },
     "execution_count": 52,
     "metadata": {},
     "output_type": "execute_result"
    }
   ],
   "source": [
    "x[0]=999\n",
    "x,y"
   ]
  },
  {
   "cell_type": "markdown",
   "id": "4bf795c0-862d-49a6-8008-305bc7658685",
   "metadata": {},
   "source": [
    "### 1.2.13.Pytorch-Reproducibility\n",
    "- trying to make random out of random\n",
    "\n",
    "every time we run the cell, it gives new numbers\n",
    "\n",
    "If we want to restrict randomness to some extent, then we have to use **seed**\n",
    "\n",
    "Essentially what the random seed does is \"flavour\" the randomness."
   ]
  },
  {
   "cell_type": "code",
   "execution_count": 53,
   "id": "c2feb616-1ca0-421e-b559-a36fc9300695",
   "metadata": {},
   "outputs": [
    {
     "name": "stdout",
     "output_type": "stream",
     "text": [
      "tensor([[0.0364, 0.3789, 0.6959, 0.9476],\n",
      "        [0.7830, 0.7975, 0.2524, 0.4250],\n",
      "        [0.4611, 0.1449, 0.3566, 0.6342]])\n",
      "tensor([[0.2640, 0.1377, 0.7603, 0.4021],\n",
      "        [0.7941, 0.9668, 0.3440, 0.7365],\n",
      "        [0.6284, 0.0151, 0.1882, 0.3213]])\n",
      "tensor([[False, False, False, False],\n",
      "        [False, False, False, False],\n",
      "        [False, False, False, False]])\n"
     ]
    }
   ],
   "source": [
    "# create two random tensors\n",
    "random_tensor_A = torch.rand(size = (3,4))\n",
    "random_tensor_B = torch.rand(size = (3,4))\n",
    "\n",
    "print(random_tensor_A)\n",
    "print(random_tensor_B)\n",
    "print(random_tensor_A == random_tensor_B)"
   ]
  },
  {
   "cell_type": "code",
   "execution_count": 54,
   "id": "8a92f627-37fe-4ccc-ab92-6beb17495341",
   "metadata": {},
   "outputs": [
    {
     "name": "stdout",
     "output_type": "stream",
     "text": [
      "tensor([[0.8823, 0.9150, 0.3829, 0.9593],\n",
      "        [0.3904, 0.6009, 0.2566, 0.7936],\n",
      "        [0.9408, 0.1332, 0.9346, 0.5936]])\n",
      "tensor([[0.8823, 0.9150, 0.3829, 0.9593],\n",
      "        [0.3904, 0.6009, 0.2566, 0.7936],\n",
      "        [0.9408, 0.1332, 0.9346, 0.5936]])\n",
      "tensor([[True, True, True, True],\n",
      "        [True, True, True, True],\n",
      "        [True, True, True, True]])\n"
     ]
    }
   ],
   "source": [
    "# Let's make some random but reproducible tensors\n",
    "\n",
    "# set the random seed\n",
    "torch.manual_seed(42)\n",
    "random_tensor_C = torch.rand((3,4))\n",
    "\n",
    "torch.manual_seed(42)\n",
    "random_tensor_D = torch.rand((3,4))\n",
    "\n",
    "print(random_tensor_C)\n",
    "print(random_tensor_D)\n",
    "print(random_tensor_C == random_tensor_D)"
   ]
  },
  {
   "cell_type": "markdown",
   "id": "356bc53c-9b67-48ae-9756-afd00ae5e978",
   "metadata": {},
   "source": [
    "So, basically for every seed value, random values are fixed universally, so if you have fixed the seed , then you will always get same output according to the seed\n",
    "- This only works for one time just after declaring seed"
   ]
  },
  {
   "cell_type": "markdown",
   "id": "ca3b49fd-def7-4465-9554-8b1156f7e8d6",
   "metadata": {},
   "source": [
    "### 1.2.14.Usage-of-GPUs\n",
    "GPUs = faster computation on numbers, thanks to CUDA + NVIDIA hardware + PyTorch working behind the scenes to make everything hunky dory(good)\n",
    "\n",
    "Getting a GPU\n",
    "1. Easiest - Use google colab (options to upgrade as well)\n",
    "2. Use your own GPU - takes a little bit of setup and requires the investment of purchasing a GPU, there's lot of options (**only when your are earning**)\n",
    "3. Use Cloud Computing - GCP, AWS, Azure (allow you to rent gpu and use them)"
   ]
  },
  {
   "cell_type": "markdown",
   "id": "73105ad1-a68b-4ec1-b87c-65d1b6554041",
   "metadata": {},
   "source": [
    "#### 1.2.14.1.Check-for-GPU-access-with-PyTorch"
   ]
  },
  {
   "cell_type": "code",
   "execution_count": 55,
   "id": "39b401eb-e0db-483b-99fd-db7e2e28b4b6",
   "metadata": {},
   "outputs": [
    {
     "data": {
      "text/plain": [
       "False"
      ]
     },
     "execution_count": 55,
     "metadata": {},
     "output_type": "execute_result"
    }
   ],
   "source": [
    "torch.cuda.is_available()"
   ]
  },
  {
   "cell_type": "code",
   "execution_count": 56,
   "id": "c78ae0d1-2933-43a1-ac19-2a984b70ba8a",
   "metadata": {},
   "outputs": [
    {
     "data": {
      "text/plain": [
       "'cpu'"
      ]
     },
     "execution_count": 56,
     "metadata": {},
     "output_type": "execute_result"
    }
   ],
   "source": [
    "# Setup device agnostic code\n",
    "device = \"cuda\" if torch.cuda.is_available() else \"cpu\"\n",
    "device"
   ]
  },
  {
   "cell_type": "code",
   "execution_count": 57,
   "id": "413dc37b-bf35-4a5a-a11a-2246bef6b433",
   "metadata": {},
   "outputs": [
    {
     "data": {
      "text/plain": [
       "0"
      ]
     },
     "execution_count": 57,
     "metadata": {},
     "output_type": "execute_result"
    }
   ],
   "source": [
    "# count number of devices\n",
    "torch.cuda.device_count() # count the number of gpus"
   ]
  },
  {
   "cell_type": "markdown",
   "id": "d1f4fbf5-da45-4386-9941-6183cbd79337",
   "metadata": {},
   "source": [
    "It is recommended to setup device agnostic code \n",
    "\n",
    "E.g. run on GPU if available, else default to CPU"
   ]
  },
  {
   "cell_type": "markdown",
   "id": "7b6ff72b-726c-4867-bb5f-9802b84d2080",
   "metadata": {},
   "source": [
    " #### 1.2.14.2.Putting-tensors-(or-models)-on-the-CPU\n",
    "The reason we want our tensors/models on the GPU is because using a GPU results in faster computations"
   ]
  },
  {
   "cell_type": "code",
   "execution_count": 58,
   "id": "c37166c5-36ae-42e0-8310-2b27ac27d6fc",
   "metadata": {},
   "outputs": [
    {
     "name": "stdout",
     "output_type": "stream",
     "text": [
      "tensor([1, 2, 3]) cpu\n"
     ]
    }
   ],
   "source": [
    "# create a tensor (default on the CPU)\n",
    "tensor = torch.tensor([1,2,3])\n",
    "\n",
    "# Tensor not on gpu\n",
    "print(tensor, tensor.device)"
   ]
  },
  {
   "cell_type": "code",
   "execution_count": 59,
   "id": "7f9aa1d7-059b-45e1-a9c4-b11aac3c78ee",
   "metadata": {},
   "outputs": [
    {
     "data": {
      "text/plain": [
       "tensor([1, 2, 3])"
      ]
     },
     "execution_count": 59,
     "metadata": {},
     "output_type": "execute_result"
    }
   ],
   "source": [
    "# Move tensors to GPU if available\n",
    "tensor_on_gpu = tensor.to(device)\n",
    "tensor_on_gpu"
   ]
  },
  {
   "cell_type": "markdown",
   "id": "1b0867b4-d2d9-4b5a-abfc-7110f05a947b",
   "metadata": {},
   "source": [
    "#### 1.2.14.3.Moving-tensor-back-to-cpu\n",
    "Numpy doesn't work with GPU"
   ]
  },
  {
   "cell_type": "code",
   "execution_count": 60,
   "id": "47c0f7f4-660a-484f-960e-e5be5f7b726f",
   "metadata": {},
   "outputs": [
    {
     "data": {
      "text/plain": [
       "tensor([1, 2, 3])"
      ]
     },
     "execution_count": 60,
     "metadata": {},
     "output_type": "execute_result"
    }
   ],
   "source": [
    "tensor_back_on_cpu = tensor_on_gpu.cpu()\n",
    "tensor_back_on_cpu"
   ]
  },
  {
   "cell_type": "markdown",
   "id": "e21e868d-1bbf-4334-8213-977436706390",
   "metadata": {},
   "source": [
    "# 2.A-PyTorch-Workflow"
   ]
  },
  {
   "cell_type": "code",
   "execution_count": 61,
   "id": "8aa6fc8b-3b3f-497f-b3c6-322799e840db",
   "metadata": {},
   "outputs": [
    {
     "data": {
      "text/plain": [
       "{1: 'data (prepare and load',\n",
       " 2: 'build model',\n",
       " 3: 'fitting model to the data (training)',\n",
       " 4: 'making predictions and evaluating a model (inference)',\n",
       " 5: 'saving and loading a model',\n",
       " 6: 'putting it all together'}"
      ]
     },
     "execution_count": 61,
     "metadata": {},
     "output_type": "execute_result"
    }
   ],
   "source": [
    "# Let's Explore an example of PyTorch end to end workflow.\n",
    "\n",
    "pytorch_workflow = {1: \"data (prepare and load\",\n",
    "                    2: \"build model\",\n",
    "                    3: \"fitting model to the data (training)\",\n",
    "                    4: \"making predictions and evaluating a model (inference)\",\n",
    "                    5: \"saving and loading a model\",\n",
    "                    6: \"putting it all together\"}\n",
    "pytorch_workflow"
   ]
  },
  {
   "cell_type": "code",
   "execution_count": 62,
   "id": "62b079d8-2b49-4693-9299-b1613aebf5f8",
   "metadata": {},
   "outputs": [],
   "source": [
    "from torch import nn ## nn all building blocks for neural networks"
   ]
  },
  {
   "cell_type": "markdown",
   "id": "5831b9bb-eb82-49da-be85-c1474445304f",
   "metadata": {},
   "source": [
    "## 2.1.Data-(preparing-and-loading)\n",
    "\n",
    "Data can be anything... in machine learning.\n",
    "- Excel Spreadsheet\n",
    "- Images of any kind\n",
    "- Videos\n",
    "- Audio\n",
    "- DNA\n",
    "- Text\n",
    "\n",
    "Machine learning is a game of two parts:\n",
    "1. Get data into a numerical representation.\n",
    "2. Build a model to learn patterns in that numerical representation.\n",
    "\n",
    "To showcase this, let's create some *known* data using the linear regression formula. (we are going to use *known* **parameters**."
   ]
  },
  {
   "cell_type": "code",
   "execution_count": 63,
   "id": "9b97102a-d48c-494e-b2c1-8a8f479a45aa",
   "metadata": {},
   "outputs": [
    {
     "data": {
      "text/plain": [
       "(tensor([[0.0000],\n",
       "         [0.0200],\n",
       "         [0.0400],\n",
       "         [0.0600],\n",
       "         [0.0800],\n",
       "         [0.1000],\n",
       "         [0.1200],\n",
       "         [0.1400],\n",
       "         [0.1600],\n",
       "         [0.1800]]),\n",
       " tensor([[0.3000],\n",
       "         [0.3140],\n",
       "         [0.3280],\n",
       "         [0.3420],\n",
       "         [0.3560],\n",
       "         [0.3700],\n",
       "         [0.3840],\n",
       "         [0.3980],\n",
       "         [0.4120],\n",
       "         [0.4260]]))"
      ]
     },
     "execution_count": 63,
     "metadata": {},
     "output_type": "execute_result"
    }
   ],
   "source": [
    "# Create known parameters\n",
    "w = 0.7 # (weight equiv to a in y = ax+b)\n",
    "b = 0.3 # (bias equiv to b in y = ax+b)\n",
    "\n",
    "# we know these parameters, but we want to create a model that will predict these numbers.\n",
    "\n",
    "# Create data \n",
    "start = 0\n",
    "end = 1\n",
    "step = 0.02\n",
    "X = torch.arange(start,end,step).unsqueeze(dim = 1) # unsqueeze -> adding one extra dimension\n",
    "y = w*X+b\n",
    "\n",
    "X[:10], y[:10]"
   ]
  },
  {
   "cell_type": "code",
   "execution_count": 64,
   "id": "4ba2253f-8910-4fff-95fc-15977a50d3fc",
   "metadata": {},
   "outputs": [
    {
     "data": {
      "text/plain": [
       "(50, 50)"
      ]
     },
     "execution_count": 64,
     "metadata": {},
     "output_type": "execute_result"
    }
   ],
   "source": [
    " len(X), len(y)"
   ]
  },
  {
   "cell_type": "markdown",
   "id": "65437cad-a94b-42c5-adbc-313c31b3b559",
   "metadata": {},
   "source": [
    "### 2.1.1.Training-and-validation-sets\n",
    "splitting data into training set, validation set and test set.\n",
    "\n",
    "Generalization: \n",
    ">*The ability for a machine learning model to perform well on data it hasn't seen*\n",
    "\n",
    "| Split | Purpose | Amount of data | How often is it used?|\n",
    "|---|---|---|---|\n",
    "| Training set| The models learns from this data | ~ 60-80% | always|\n",
    "| Validation set | the model get tuned on this data | ~10-20%|Often but not always |\n",
    "| Test set | the model get evaluated on this data to test what it has learned | ~10-20% | always|"
   ]
  },
  {
   "cell_type": "code",
   "execution_count": 65,
   "id": "bcab37e8-439e-4b36-910e-307dad1628e2",
   "metadata": {},
   "outputs": [
    {
     "data": {
      "text/plain": [
       "(40, 40, 10, 10)"
      ]
     },
     "execution_count": 65,
     "metadata": {},
     "output_type": "execute_result"
    }
   ],
   "source": [
    "# Let's create  a training set and test test with our data\n",
    "\n",
    "# create a training set\n",
    "train_split = int(0.8 * len(X)) # output is 40\n",
    "\n",
    "X_train, y_train = X[:train_split], y[:train_split]\n",
    "X_test, y_test = X[train_split:], y[train_split:]\n",
    "\n",
    "# this is just one way of out of many ways to split the data\n",
    "\n",
    "len(X_train), len(y_train) , len(X_test), len(y_test)"
   ]
  },
  {
   "cell_type": "markdown",
   "id": "3bdecbbb-a8e2-4cf6-8123-30fa00b3641a",
   "metadata": {},
   "source": [
    "### 2.1.2.Building-a-function-to-visualize-our-data"
   ]
  },
  {
   "cell_type": "code",
   "execution_count": 66,
   "id": "cf46045f-319e-4de6-aab6-ddeb2e8d787a",
   "metadata": {},
   "outputs": [],
   "source": [
    "def plot_predictions(train_data = X_train,\n",
    "                     train_labels = y_train,\n",
    "                     test_data = X_test,\n",
    "                     test_labels = y_test,\n",
    "                     predictions = None):\n",
    "    \"\"\"\n",
    "    Plots training data, test data and compares predictions.\n",
    "    \"\"\"\n",
    "    plt.figure(figsize = (10,7))\n",
    "\n",
    "    # plot training data in blue\n",
    "    plt.scatter(train_data, train_labels, c='b', s=4, label = \"Training data\")\n",
    "\n",
    "    # plot test data in green\n",
    "    plt.scatter(test_data, test_labels, c=\"g\", s=4, label = \"Testing data\")\n",
    "\n",
    "    if predictions is not None:\n",
    "        # plot the predictions if they exist\n",
    "        plt.scatter(test_data,predictions, c= \"r\", s=4, label = \"predicitons\")\n",
    "\n",
    "    # show the legend\n",
    "    plt.legend(prop={\"size\":14})\n",
    "\n",
    "    # show the plot\n",
    "    plt.show()"
   ]
  },
  {
   "cell_type": "code",
   "execution_count": 67,
   "id": "07b19221-5c90-4a3f-9c23-faa6fc75f422",
   "metadata": {},
   "outputs": [
    {
     "data": {
      "image/png": "[encoded data removed]",
      "text/plain": [
       "<Figure size 1000x700 with 1 Axes>"
      ]
     },
     "metadata": {},
     "output_type": "display_data"
    }
   ],
   "source": [
    "plot_predictions()"
   ]
  },
  {
   "cell_type": "markdown",
   "id": "620f103e-8bbd-4322-ba3b-2a1974fc898f",
   "metadata": {},
   "source": [
    "### 2.1.3.PyTorch-model-building-essentials\n",
    "- `torch.nn` - contains all of the building blocks for computational graphs (a neural network can be consider as a computational graph)\n",
    "- `torch.nn.Parameter` - what parameter should our model try and learn, often a PyTorch layer from torch.nn will set these for us\n",
    "- `torch.nn.Module` - if you subclass it, you should overwrite `forward()`\n",
    "- `torch.optim` - this where the optimizers in pytorch live, they will help in gradient descent\n",
    "- `def forward()` - all nn.Module subclasses require you to overwrite forward(), this method defines what happens in the forward computation\n",
    "\n",
    "Things to keep in mind: (summary)\n",
    "- `nn.parameter()` arguments are tensor, requires_grad = True if the parameter requires gradient else False (by def it is True).\n",
    "- `nn.Module` subclass nn.Module this contains all the building blocks for neural networks"
   ]
  },
  {
   "cell_type": "code",
   "execution_count": 68,
   "id": "5a559117-fd93-4417-9bca-6a470ea7e840",
   "metadata": {},
   "outputs": [],
   "source": [
    "### Creating our first PyTorch model for linear regression\n",
    "# create linear regression model class\n",
    "\n",
    "class LinearRegressionModel(nn.Module): # <-almost everything in Pytorch inherits from nn.Module\n",
    "    def __init__(self):\n",
    "        super().__init__()\n",
    "\n",
    "        # initialise model parameters\n",
    "        self.weights = nn.Parameter(torch.randn(1,\n",
    "                                                requires_grad=True,\n",
    "                                                dtype=torch.float))\n",
    "        self.bias = nn.Parameter(torch.randn(1,\n",
    "                                             requires_grad=True,\n",
    "                                             dtype=torch.float))\n",
    "        \n",
    "    # Forward method to define the computation in the model\n",
    "    def  forward(self, x: torch.Tensor) -> torch.Tensor: # <- \"x\" is the input data\n",
    "        return self.weights * x + self.bias \n",
    "        \n",
    "    # requires_grad = True because we are going to use gradient descent algorithm\n",
    "    "
   ]
  },
  {
   "cell_type": "markdown",
   "id": "82937cc6-c8fa-4b13-ac0b-276a1a87430e",
   "metadata": {},
   "source": [
    "**What our model does?**\n",
    "- Start with random values as parameters\n",
    "- look at training data and adjust the random values to better represent (or get closer to ) the ideal values (the weight & bias values we used to create the data.\n",
    "\n",
    "So, Basically we assign the random values to our parameters and consecutively applying gradient descent we can adjust these parameters so that the cost function can be minimum.\n",
    "\n",
    "**How does it do so?**\n",
    "\n",
    "Through two main algorithms:\n",
    "1. Gradient descent\n",
    "2. Backpropagation\n",
    "\n"
   ]
  },
  {
   "cell_type": "markdown",
   "id": "b81f7d5e-77bd-4308-b7a4-423a2c015def",
   "metadata": {},
   "source": [
    "### 2.1.4.Checking-the-contents-of-our-Pytorch-model"
   ]
  },
  {
   "cell_type": "code",
   "execution_count": 69,
   "id": "0caf4e62-4d85-4ab5-b55e-02e441f1c044",
   "metadata": {},
   "outputs": [
    {
     "data": {
      "text/plain": [
       "[Parameter containing:\n",
       " tensor([0.3367], requires_grad=True),\n",
       " Parameter containing:\n",
       " tensor([0.1288], requires_grad=True)]"
      ]
     },
     "execution_count": 69,
     "metadata": {},
     "output_type": "execute_result"
    }
   ],
   "source": [
    "# create a random seed\n",
    "torch.manual_seed(42)\n",
    "\n",
    "# create an instance of the model (this is a subclass of nn.Module\n",
    "model_0 = LinearRegressionModel()\n",
    "\n",
    "list(model_0.parameters())"
   ]
  },
  {
   "cell_type": "code",
   "execution_count": 70,
   "id": "c2797578-5a13-45b0-a7da-7fee61b7c258",
   "metadata": {},
   "outputs": [
    {
     "data": {
      "text/plain": [
       "OrderedDict([('weights', tensor([0.3367])), ('bias', tensor([0.1288]))])"
      ]
     },
     "execution_count": 70,
     "metadata": {},
     "output_type": "execute_result"
    }
   ],
   "source": [
    "# List named Parameters\n",
    "model_0.state_dict()"
   ]
  },
  {
   "cell_type": "markdown",
   "id": "80278775-7d5b-4963-a74e-31f34e5d6fcf",
   "metadata": {},
   "source": [
    "### 2.1.5.Making-prediction-using-`torch.inference_mode()`\n",
    "\n",
    "To heck our model's predictive power, lets's see how well it predicts 'y_test' based on 'X_test'\n",
    "\n",
    "> torch.no_grad() is exactly same as torch.inference_mode(). However inference_mode is preferred"
   ]
  },
  {
   "cell_type": "code",
   "execution_count": 71,
   "id": "a9178c81-4423-4c28-9bf1-9528c4d00999",
   "metadata": {},
   "outputs": [],
   "source": [
    "# Make predictions with model\n",
    "with torch.inference_mode():\n",
    "    y_preds = model_0(X_test)"
   ]
  },
  {
   "cell_type": "code",
   "execution_count": 72,
   "id": "8f25e8db-f62a-4a79-91b4-e46b8dbe81ef",
   "metadata": {},
   "outputs": [
    {
     "data": {
      "image/png": "[encoded data removed]",
      "text/plain": [
       "<Figure size 1000x700 with 1 Axes>"
      ]
     },
     "metadata": {},
     "output_type": "display_data"
    }
   ],
   "source": [
    "plot_predictions(predictions = y_preds)"
   ]
  },
  {
   "cell_type": "markdown",
   "id": "bd0c799d-6c6a-442a-a522-384fc95471e7",
   "metadata": {},
   "source": [
    "When these red dots are over green ones, then it means our model is fine tuned"
   ]
  },
  {
   "cell_type": "markdown",
   "id": "f62b13a1-3dda-4761-90e9-564e77dc3433",
   "metadata": {},
   "source": [
    "### 2.1.6.Train-Model\n",
    "The whole idea of training is for a model to move from some unknown parameters (these may be random) to some known(Ideal)  parameters.\n",
    "\n",
    "Or in other words from a poor representation of the data to a better representation of the data.\n",
    "\n",
    "One way to measure how poor or how wrong your models predictions are is to use a loss function.\n",
    "\n",
    "- Note: Loss function may also be called cost function\n",
    "\n",
    "Things we need to train:\n",
    "\n",
    "- **Loss Function:** A function how wrong your model's predictions are  to the ideal outputs, lower is better.\n",
    "\n",
    "- **Optimizer:** Takes into account the loss of a model and adjusts the model's parameters (e.g. weight & bias) to minimize the loss function\n",
    "\n",
    "And Specifically for PyTorch, we need:\n",
    "- A training loop\n",
    "- A testing loop"
   ]
  },
  {
   "cell_type": "code",
   "execution_count": 73,
   "id": "d1b8fec0-0d86-4710-a511-0ecc926b4740",
   "metadata": {},
   "outputs": [
    {
     "data": {
      "text/plain": [
       "[Parameter containing:\n",
       " tensor([0.3367], requires_grad=True),\n",
       " Parameter containing:\n",
       " tensor([0.1288], requires_grad=True)]"
      ]
     },
     "execution_count": 73,
     "metadata": {},
     "output_type": "execute_result"
    }
   ],
   "source": [
    "list(model_0.parameters())"
   ]
  },
  {
   "cell_type": "code",
   "execution_count": 74,
   "id": "62cf0edd-8435-40bb-8147-d5fc097d8fe9",
   "metadata": {},
   "outputs": [
    {
     "data": {
      "text/plain": [
       "OrderedDict([('weights', tensor([0.3367])), ('bias', tensor([0.1288]))])"
      ]
     },
     "execution_count": 74,
     "metadata": {},
     "output_type": "execute_result"
    }
   ],
   "source": [
    "# Check out our model's Parameters ( a parameter is a value that the model sets itself)\n",
    "model_0.state_dict()"
   ]
  },
  {
   "cell_type": "code",
   "execution_count": 75,
   "id": "d76234ac-b697-42ce-a677-8f10609da8b9",
   "metadata": {},
   "outputs": [],
   "source": [
    "# Setup a loss function\n",
    "loss_fn = nn.L1Loss() # L1Loss = Mean Absolute Error = mean(abs(y_preds-y))\n",
    "\n",
    "# Setup a optimizer   # the work of optimizer is to minimize the loss function\n",
    "# SGD = stochastic Gradient Descent\n",
    "optimizer = torch.optim.SGD(params = model_0.parameters(), # Model Parameters\n",
    "                            lr = 0.01)  # lr = Learning rate (imp hyperparameter)\n",
    "\n"
   ]
  },
  {
   "cell_type": "markdown",
   "id": "1bbb2713-8f24-4ba7-88c8-d052e2a9136d",
   "metadata": {},
   "source": [
    "> Parameter: It is a value that the model sets by itself.\n",
    "\n",
    "> Hyperparameter: It is a value that we sets for the model."
   ]
  },
  {
   "cell_type": "markdown",
   "id": "3f447b6b-1554-4065-b3c2-4aec4edb4111",
   "metadata": {},
   "source": [
    "### 2.1.7.Building-a-training-loop(and-a-testing-loop)\n",
    "\n",
    "A Couple of things we need in a training loop:\n",
    "1. Loop through the data\n",
    "2. Forward pass (this involves data moving through our model's `forward()` functions) to make predictions on data - also called forward propagation\n",
    "3. Calculate the loss (compare forward pass predictions to ground truth tabels)\n",
    "4. Optimizer zero grad\n",
    "5. Loss backward - move backwards through the network to calculate the gradients of each of the parameters of our model with respect to the loss **backpropagation**\n",
    "6. Optmizer step - use the optimizer to adjust our model's parameters to try and improve the loss (**Gradient Descent**)"
   ]
  },
  {
   "cell_type": "code",
   "execution_count": 76,
   "id": "fce9121d-5372-47cf-9846-f75c08ab1b56",
   "metadata": {},
   "outputs": [
    {
     "name": "stdout",
     "output_type": "stream",
     "text": [
      "Epoch: 0 | loss: 0.31288138031959534 | Test loss: 0.48106518387794495\n",
      "Epoch: 30 | loss: 0.053148526698350906 | Test loss: 0.14464017748832703\n",
      "Epoch: 60 | loss: 0.03818932920694351 | Test loss: 0.08886633068323135\n",
      "Epoch: 90 | loss: 0.02788739837706089 | Test loss: 0.06473556160926819\n",
      "Epoch: 120 | loss: 0.01758546568453312 | Test loss: 0.04060482233762741\n",
      "Epoch: 150 | loss: 0.0072835334576666355 | Test loss: 0.016474086791276932\n",
      "Epoch: 180 | loss: 0.008932482451200485 | Test loss: 0.005023092031478882\n",
      "OrderedDict({'weights': tensor([0.6990]), 'bias': tensor([0.3093])})\n"
     ]
    }
   ],
   "source": [
    "# An epoch is one loop through the data... (this is a hyperparameter, because we've set this ourselves)\n",
    "epochs = 190\n",
    "\n",
    "# Setup empty lists to keep track \n",
    "epoch_count = []\n",
    "loss_values = []\n",
    "test_loss_values = []\n",
    "\n",
    "### Training\n",
    "# 1. Loop through the data\n",
    "for epoch in range(epochs):\n",
    "    # Set the model to training mode\n",
    "    model_0.train() # train mode in pytorch sets all parameters that requires gradients to require gradients\n",
    "\n",
    "    # 2. Forward Pass\n",
    "    y_preds = model_0(X_train)\n",
    "\n",
    "    # 3. Calculate the loss\n",
    "    loss = loss_fn(y_preds,y_train)\n",
    "\n",
    "    # 4. Optimizer zero grad\n",
    "    optimizer.zero_grad()\n",
    "\n",
    "    # 5. Perform backprogpgation on the loss wrt parameters of the model\n",
    "    loss.backward()\n",
    "\n",
    "    # 6. Step the optimizer (perform gradient descent)\n",
    "    optimizer.step() # by default how the optimizer changes will accumulate through the loop we have to zero them above in step 4 for the next iteration of the loop\n",
    "\n",
    "    #Testing\n",
    "    model_0.eval() # turns off  different settings not needed for evaluation\n",
    "    with torch.inference_mode(): # turns off gradient tracking & couple more things\n",
    "        # 1. Do the forward pass\n",
    "        test_pred = model_0(X_test)\n",
    "\n",
    "        # 2. Calculate the test loss\n",
    "        test_loss = loss_fn(test_pred,y_test)\n",
    "\n",
    "    # print out what's happenin'\n",
    "    if epoch %30 == 0:\n",
    "        epoch_count.append(epoch)\n",
    "        loss_values.append(loss)\n",
    "        test_loss_values.append(test_loss)\n",
    "        print(f\"Epoch: {epoch} | loss: {loss} | Test loss: {test_loss}\")\n",
    "print(model_0.state_dict())"
   ]
  },
  {
   "cell_type": "markdown",
   "id": "24b98865-9f81-4b18-805f-572ffe2ba4b5",
   "metadata": {},
   "source": [
    "#### Things to know:\n",
    "- `epochs`\n",
    "   - The number of times the entire training dataset will be passed through the model during training.\n",
    "   - This is the hyperparameter which we set.\n",
    "- `model_0`\n",
    "   - This is neural network model, which is an instance of a class derived from `torch.nn.Module`\n",
    "   - This model is used to perform the forward pass to compute predictions and to update weights during the training loop\n",
    "- `loss_fn`\n",
    "   - The loss function used to measure the error between the predicted values and the true values.\n",
    "- `optimizer` An algorithm to update the model's parameter based on the computed gradients to minimize the loss.\n",
    "- `model_0.train()`\n",
    "   - This sets the model to training mode\n",
    "   - This activates certain layers like dropout and batch normalization that behave diffrently during training compared to evaluation.\n",
    "- `optimizer.zero_grad()`\n",
    "   - this clears old gradients from the last step (otherwise, gradients would accumulate)\n",
    "   - Gradient accumulation occurs by default in PyTorch, so it's necessary to clear the gradients before computing new ones for each training iteration."
   ]
  },
  {
   "cell_type": "code",
   "execution_count": 77,
   "id": "a1688c62-67fd-4764-9009-ad660de62afb",
   "metadata": {},
   "outputs": [],
   "source": [
    "# when plotting curve with matplotlib, it does not work on tensors.\n",
    "# Therefore, we first convert the list of tensors to a single tensor, \n",
    "# then to NumPy array, to make it compatible with Matplotlib\n",
    "\n",
    "loss_values = np.array(torch.tensor(loss_values).numpy())\n",
    "test_loss_values = np.array(torch.tensor(test_loss_values).numpy())"
   ]
  },
  {
   "cell_type": "code",
   "execution_count": 78,
   "id": "1a8e04e9-630a-4c58-accb-a61a8f6ad55a",
   "metadata": {},
   "outputs": [
    {
     "data": {
      "image/png": "[encoded data removed]",
      "text/plain": [
       "<Figure size 640x480 with 1 Axes>"
      ]
     },
     "metadata": {},
     "output_type": "display_data"
    }
   ],
   "source": [
    "# plot the loss curve\n",
    "plt.plot(epoch_count, loss_values, label = \"Train loss\")\n",
    "plt.plot(epoch_count, test_loss_values, label = \"Test loss\")\n",
    "plt.title(\"Training and test loss curve\")\n",
    "\n",
    "plt.xlabel(\"Number of iterations (epochs)\")\n",
    "plt.ylabel(\"loss\")\n",
    "plt.legend()\n",
    "plt.show()\n"
   ]
  },
  {
   "cell_type": "markdown",
   "id": "37dcba5d-1c5c-4366-989d-92af2b11d9a6",
   "metadata": {},
   "source": [
    "### 2.1.8.Saving-a-model\n",
    "There are Three main methods you should know about for saving and loading models in pyTorch.\n",
    "1. `torch.save()`-allows you save a PyTorch object in python's pickle format.\n",
    "2. `torch.load()`-allows you load a saved PyTorch object\n",
    "3. `torch.nn.Module.load_state_dict()`-this allows to load a model's saved state dictionary"
   ]
  },
  {
   "cell_type": "code",
   "execution_count": 79,
   "id": "73ad91ea-29f8-40dd-9859-f00c1825cf58",
   "metadata": {},
   "outputs": [
    {
     "name": "stdout",
     "output_type": "stream",
     "text": [
      "Saving model to:Models/01_pytorch_workflow.pt\n"
     ]
    }
   ],
   "source": [
    "# Saving our PyTorch model\n",
    "from pathlib import Path\n",
    "\n",
    "# 1. Create models directory\n",
    "model_path = Path(\"Models\")\n",
    "model_path.mkdir(parents=True, exist_ok=True)\n",
    "\n",
    "# 2. Create model save path\n",
    "model_name = \"01_pytorch_workflow.pt\"\n",
    "model_save_path = model_path / model_name\n",
    "\n",
    "# 3. Save the model state dict\n",
    "print(f\"Saving model to:{model_save_path}\")\n",
    "torch.save(obj=model_0.state_dict(), f = model_save_path)"
   ]
  },
  {
   "cell_type": "code",
   "execution_count": 80,
   "id": "067fc4cf-b6d0-4a57-8c23-f42afc6d1f15",
   "metadata": {},
   "outputs": [
    {
     "name": "stdout",
     "output_type": "stream",
     "text": [
      "total 4\n",
      "-rw-rw-r-- 1 apple apple 1568 Sep 18 14:59 01_pytorch_workflow.pt\n"
     ]
    }
   ],
   "source": [
    "!ls -l Models"
   ]
  },
  {
   "cell_type": "markdown",
   "id": "e6fd7ba1-4a3e-4127-ba91-ae430d374012",
   "metadata": {},
   "source": [
    "### 2.1.10.Loading-a-PyTorch-Model\n",
    "Since we saved our model's `state_dict()` rather than the entire model, we'll create a new instance of our model class and load the `saved state_dict()` into that."
   ]
  },
  {
   "cell_type": "code",
   "execution_count": 81,
   "id": "d52fd142-1598-4cdf-ac44-16ce95881a3b",
   "metadata": {},
   "outputs": [
    {
     "data": {
      "text/plain": [
       "<All keys matched successfully>"
      ]
     },
     "execution_count": 81,
     "metadata": {},
     "output_type": "execute_result"
    }
   ],
   "source": [
    "# to load in a saved state_dict we have to instantiate a new instance of our model class\n",
    "loaded_model_0 = LinearRegressionModel()\n",
    "\n",
    "# load the saved state_dict of model_0 (this will update the new instance with updated parameters\n",
    "loaded_model_0.load_state_dict(torch.load(f=model_save_path, weights_only = True))"
   ]
  },
  {
   "cell_type": "code",
   "execution_count": 82,
   "id": "fc2bcfbf-9772-4115-9707-b1de98c84fc2",
   "metadata": {},
   "outputs": [
    {
     "data": {
      "text/plain": [
       "OrderedDict([('weights', tensor([0.6990])), ('bias', tensor([0.3093]))])"
      ]
     },
     "execution_count": 82,
     "metadata": {},
     "output_type": "execute_result"
    }
   ],
   "source": [
    "loaded_model_0.state_dict()"
   ]
  },
  {
   "cell_type": "code",
   "execution_count": 83,
   "id": "493fd694-3877-48ae-97be-9e3a858bdd10",
   "metadata": {},
   "outputs": [
    {
     "data": {
      "text/plain": [
       "tensor([[0.8685],\n",
       "        [0.8825],\n",
       "        [0.8965],\n",
       "        [0.9105],\n",
       "        [0.9245],\n",
       "        [0.9384],\n",
       "        [0.9524],\n",
       "        [0.9664],\n",
       "        [0.9804],\n",
       "        [0.9944]])"
      ]
     },
     "execution_count": 83,
     "metadata": {},
     "output_type": "execute_result"
    }
   ],
   "source": [
    "# make some predictions with our loaded models\n",
    "loaded_model_0.eval()\n",
    "with torch.inference_mode():\n",
    "    loaded_model_preds = loaded_model_0(X_test)\n",
    "loaded_model_preds "
   ]
  },
  {
   "cell_type": "code",
   "execution_count": 84,
   "id": "fc90db21-6b4f-4e8f-82cb-7632dea6c397",
   "metadata": {},
   "outputs": [],
   "source": [
    "# make some model preds\n",
    "model_0.eval()\n",
    "with torch.inference_mode():\n",
    "    y_preds_new_2 = model_0.forward(X_test)\n"
   ]
  },
  {
   "cell_type": "code",
   "execution_count": 85,
   "id": "9cc02e77-6c51-4d6f-9132-a7ce45da4a61",
   "metadata": {},
   "outputs": [
    {
     "data": {
      "text/plain": [
       "tensor([[True],\n",
       "        [True],\n",
       "        [True],\n",
       "        [True],\n",
       "        [True],\n",
       "        [True],\n",
       "        [True],\n",
       "        [True],\n",
       "        [True],\n",
       "        [True]])"
      ]
     },
     "execution_count": 85,
     "metadata": {},
     "output_type": "execute_result"
    }
   ],
   "source": [
    "# compare loaded model preds with original model preds\n",
    "y_preds_new_2 == loaded_model_preds"
   ]
  },
  {
   "cell_type": "markdown",
   "id": "79cae67c-a2ba-40b6-b9ff-f45ea92acc64",
   "metadata": {},
   "source": [
    "## 2.2.Putting-it-all-together\n",
    "Let's go back through the steps above and use it all in one place"
   ]
  },
  {
   "cell_type": "code",
   "execution_count": 86,
   "id": "09aaf47f-8ad0-4c97-9795-500f585e6dd8",
   "metadata": {},
   "outputs": [
    {
     "name": "stdout",
     "output_type": "stream",
     "text": [
      "epoch: 0 | Training Loss: 0.5643115043640137 | Test Loss: 0.5468398332595825\n",
      "epoch: 20 | Training Loss: 0.307809054851532 | Test Loss: 0.2986776828765869\n",
      "epoch: 40 | Training Loss: 0.05415981262922287 | Test Loss: 0.0585641972720623\n",
      "epoch: 60 | Training Loss: 0.03326888754963875 | Test Loss: 0.03719980642199516\n",
      "epoch: 80 | Training Loss: 0.02364148572087288 | Test Loss: 0.02609860897064209\n",
      "epoch: 100 | Training Loss: 0.014038758352398872 | Test Loss: 0.015263624489307404\n",
      "epoch: 120 | Training Loss: 0.004438179545104504 | Test Loss: 0.004453438334167004\n",
      "epoch: 140 | Training Loss: 0.010823393240571022 | Test Loss: 0.0018895029788836837\n",
      "epoch: 160 | Training Loss: 0.010823393240571022 | Test Loss: 0.0018895029788836837\n",
      "epoch: 180 | Training Loss: 0.010823393240571022 | Test Loss: 0.0018895029788836837\n"
     ]
    },
    {
     "data": {
      "image/png": "[encoded data removed]",
      "text/plain": [
       "<Figure size 640x480 with 1 Axes>"
      ]
     },
     "metadata": {},
     "output_type": "display_data"
    }
   ],
   "source": [
    "# 1. importing Libraries\n",
    "import torch\n",
    "import numpy as np\n",
    "import matplotlib.pyplot as plt\n",
    "from pathlib import Path\n",
    "\n",
    "\n",
    "# 2. Setting up device agnostic code\n",
    "device = \"cuda\" if torch.cuda.is_available() else \"cpu\"\n",
    "\n",
    "\n",
    "# 3. Importing data\n",
    "## Here , we are creating some dummy data\n",
    "torch.manual_seed(42)\n",
    "X = torch.rand(100).unsqueeze(dim=1) #  creating a (input) tensor of 100 values and unsqueezing it to shape (100,1) \n",
    "weight, bias = 0.7,0.3 # Ideal parameters which we will not actually know\n",
    "y = weight * X + bias # Creating labels for the inputs\n",
    "\n",
    "\n",
    "# 4. Splitting Data\n",
    "train_split = int(0.8 * len(X))\n",
    "X_train, y_train = X[:train_split], y[:train_split]\n",
    "X_test, y_test = X[train_split:],y[train_split:]\n",
    "\n",
    "\n",
    "\n",
    "# 5. build the model\n",
    "class LinearRegressionModel(torch.nn.Module):\n",
    "    def __init__(self):\n",
    "        super().__init__()\n",
    "        ## use nn.Linear() for creating the model parameters\n",
    "        self.Linear_layer = torch.nn.Linear(in_features = 1,\n",
    "                                            out_features = 1)\n",
    "    def forward(self, X: torch.Tensor) -> torch.Tensor:\n",
    "        return self.Linear_layer(X)\n",
    "        \n",
    "# Initialize the model and move it to the target device\n",
    "torch.manual_seed(42)\n",
    "model_0 = LinearRegressionModel().to(device)\n",
    "\n",
    "# set the data to target device\n",
    "X_train,y_train = X_train.to(device), y_train.to(device)\n",
    "X_test, y_test = X_test.to(device), y_test.to(device)\n",
    "\n",
    "# Setup loss function and optimizer\n",
    "loss_fn = torch.nn.L1Loss() # MAE\n",
    "optimizer = torch.optim.SGD(params = model_0.parameters(),lr = 0.01)\n",
    "\n",
    "# Training loop\n",
    "epochs = 200\n",
    "for epoch in range(epochs):\n",
    "    model_0.train() # set the model to training mode\n",
    "\n",
    "    # Forward pass\n",
    "    train_predictions = model_0(X_train)\n",
    "\n",
    "    # Calculate loss\n",
    "    loss = loss_fn(train_predictions, y_train)\n",
    "\n",
    "    # zero the gradients, perform backpropagation, and optimize\n",
    "    optimizer.zero_grad()\n",
    "    loss.backward()\n",
    "    optimizer.step()\n",
    "\n",
    "    \n",
    "    # Testing\n",
    "    # set the model to test mode\n",
    "    model_0.eval()\n",
    "    with torch.inference_mode():\n",
    "        test_predictions = model_0(X_test)\n",
    "        test_loss = loss_fn(test_predictions, y_test)\n",
    "\n",
    "\n",
    "    # monitoring the model\n",
    "    if epoch % int(epochs*0.1) == 0:\n",
    "        print(f\"epoch: {epoch} | Training Loss: {loss.item()} | Test Loss: {test_loss}\") \n",
    "\n",
    "def plot_predictions(X_train = X_train,\n",
    "                     y_train = y_train,\n",
    "                     X_test = X_test,\n",
    "                     y_test = y_test,\n",
    "                     predictions =None):\n",
    "    plt.figure()\n",
    "    plt.scatter(X_train.cpu(),y_train.cpu(), s=4,c=\"b\",label = \"Training data\")\n",
    "\n",
    "    plt.scatter(X_test.cpu(),y_test.cpu(),s=4,c=\"g\",label=\"Testing data\")\n",
    "\n",
    "    if test_predictions is not None:\n",
    "        plt.scatter(X_test.cpu(),predictions.cpu(),s=4,c=\"r\", label = \"Predictions\")\n",
    "    plt.legend()\n",
    "    plt.xlabel(\"X\")\n",
    "    plt.ylabel(\"y\")\n",
    "    plt.title(\"Model Predictions vs True values\")\n",
    "    plt.show()\n",
    "\n",
    "# plotting predictions\n",
    "plot_predictions(predictions = test_predictions)\n",
    "\n",
    "## Saving the model\n",
    "filepath = Path(r\"Models/01_pytorch_workflow.pt\")\n",
    "filepath.parent.mkdir(parents=True, exist_ok=True) # create directory if it does not exist \n",
    "torch.save(obj=model_0.state_dict(), f=filepath)"
   ]
  },
  {
   "cell_type": "code",
   "execution_count": 87,
   "id": "ae95bc5c-d767-4413-9743-bdcfd780a9db",
   "metadata": {},
   "outputs": [],
   "source": [
    "# load a pytorch model\n",
    "\n",
    "# create a new instance of linearRegressionModel\n",
    "model_1 = LinearRegressionModel()"
   ]
  },
  {
   "cell_type": "code",
   "execution_count": 88,
   "id": "9e53a7ad-7ba1-4024-9571-44179cbb28b4",
   "metadata": {},
   "outputs": [
    {
     "data": {
      "text/plain": [
       "OrderedDict([('Linear_layer.weight', tensor([[-0.2343]])),\n",
       "             ('Linear_layer.bias', tensor([0.9186]))])"
      ]
     },
     "execution_count": 88,
     "metadata": {},
     "output_type": "execute_result"
    }
   ],
   "source": [
    "model_1.state_dict()"
   ]
  },
  {
   "cell_type": "code",
   "execution_count": 89,
   "id": "5a0f224d-e7a1-4a7b-9288-70452aaeb282",
   "metadata": {},
   "outputs": [
    {
     "data": {
      "text/plain": [
       "<All keys matched successfully>"
      ]
     },
     "execution_count": 89,
     "metadata": {},
     "output_type": "execute_result"
    }
   ],
   "source": [
    "## Load the saved state_dict of model_0\n",
    "model_1.load_state_dict(torch.load(filepath,weights_only = True))"
   ]
  },
  {
   "cell_type": "code",
   "execution_count": 90,
   "id": "2bc7e2ae-4d5b-4957-9ae5-8a02fb6faa05",
   "metadata": {},
   "outputs": [
    {
     "data": {
      "text/plain": [
       "OrderedDict([('Linear_layer.weight', tensor([[0.7039]])),\n",
       "             ('Linear_layer.bias', tensor([0.3088]))])"
      ]
     },
     "execution_count": 90,
     "metadata": {},
     "output_type": "execute_result"
    }
   ],
   "source": [
    "model_1.state_dict()"
   ]
  },
  {
   "cell_type": "code",
   "execution_count": 91,
   "id": "62d1da0d-6069-4446-abc7-8798336e6139",
   "metadata": {},
   "outputs": [
    {
     "data": {
      "text/plain": [
       "LinearRegressionModel(\n",
       "  (Linear_layer): Linear(in_features=1, out_features=1, bias=True)\n",
       ")"
      ]
     },
     "execution_count": 91,
     "metadata": {},
     "output_type": "execute_result"
    }
   ],
   "source": [
    "model_1.to(device)"
   ]
  },
  {
   "cell_type": "code",
   "execution_count": 92,
   "id": "9167ac5f-a24a-4c87-9646-2810ab6564ba",
   "metadata": {},
   "outputs": [
    {
     "data": {
      "image/png": "[encoded data removed]",
      "text/plain": [
       "<Figure size 640x480 with 1 Axes>"
      ]
     },
     "metadata": {},
     "output_type": "display_data"
    }
   ],
   "source": [
    "# Evaluate the loaded model\n",
    "model_1.eval()\n",
    "with torch.inference_mode():\n",
    "    evaluated_predictions = model_1(X_test)\n",
    "plot_predictions(predictions = evaluated_predictions)"
   ]
  },
  {
   "cell_type": "markdown",
   "id": "de1a44a1-f49e-4e6d-b9cf-077af36b4b6d",
   "metadata": {},
   "source": [
    "# 3.Neural-Network-Classification-with-pytorch\n",
    "\n",
    "**What is a Classification Problem?**\n",
    "- A classification Problem involves predicting whether something is one thing or another. (there can be multiple things as options.)\n",
    "\n",
    "| Problem type | What is it? | Example |\n",
    "| ----- | ----- | ----- |\n",
    "| **Binary classification** | Target can be one of two options, e.g. yes or no | Predict whether or not someone has heart disease based on their health parameters. |\n",
    "| **Multi-class classification** | Target can be one of more than two options | Decide whether a photo is of food, a person or a dog. |\n",
    "| **Multi-label classification** | Target can be assigned more than one option | Predict what categories should be assigned to a Wikipedia article (e.g. mathematics, science & philosophy). |"
   ]
  },
  {
   "cell_type": "markdown",
   "id": "36b7d887-f349-4d90-95e1-aa643a31a6fc",
   "metadata": {},
   "source": [
    "## 3.1.Architecture-of-a-classification-neural-network\n",
    "\n",
    "| **Hyperparameter** | **Binary Classification** | **Multiclass classification** |\n",
    "| --- | --- | --- |\n",
    "| **Input layer shape** (`in_features`) | Same as number of features (e.g. 5 for age, sex, height, weight, smoking status in heart disease prediction) | Same as binary classification |\n",
    "| **Hidden layer(s)** | Problem specific, minimum = 1, maximum = unlimited | Same as binary classification |\n",
    "| **Neurons per hidden layer** | Problem specific, generally 10 to 512 | Same as binary classification |\n",
    "| **Output layer shape** (`out_features`) | 1 (one class or the other) | 1 per class (e.g. 3 for food, person or dog photo) |\n",
    "| **Hidden layer activation** | Usually [ReLU](https://pytorch.org/docs/stable/generated/torch.nn.ReLU.html#torch.nn.ReLU) (rectified linear unit) but [can be many others](https://en.wikipedia.org/wiki/Activation_function#Table_of_activation_functions) | Same as binary classification |\n",
    "| **Output activation** | [Sigmoid](https://en.wikipedia.org/wiki/Sigmoid_function) ([`torch.sigmoid`](https://pytorch.org/docs/stable/generated/torch.sigmoid.html) in PyTorch)| [Softmax](https://en.wikipedia.org/wiki/Softmax_function) ([`torch.softmax`](https://pytorch.org/docs/stable/generated/torch.nn.Softmax.html) in PyTorch) |\n",
    "| **Loss function** | [Binary crossentropy](https://en.wikipedia.org/wiki/Cross_entropy#Cross-entropy_loss_function_and_logistic_regression) ([`torch.nn.BCELoss`](https://pytorch.org/docs/stable/generated/torch.nn.BCELoss.html) in PyTorch) | Cross entropy ([`torch.nn.CrossEntropyLoss`](https://pytorch.org/docs/stable/generated/torch.nn.CrossEntropyLoss.html) in PyTorch) |\n",
    "| **Optimizer** | [SGD](https://pytorch.org/docs/stable/generated/torch.optim.SGD.html) (stochastic gradient descent), [Adam](https://pytorch.org/docs/stable/generated/torch.optim.Adam.html) (see [`torch.optim`](https://pytorch.org/docs/stable/optim.html) for more options) | Same as binary classification |"
   ]
  },
  {
   "cell_type": "markdown",
   "id": "337c2786-cd94-497d-8c9b-aad83d1c6657",
   "metadata": {},
   "source": [
    "## 3.2. Make-classification-data"
   ]
  },
  {
   "cell_type": "code",
   "execution_count": 93,
   "id": "2b7bc605-bc0a-4f3d-926c-d963a1a317e3",
   "metadata": {},
   "outputs": [],
   "source": [
    "# Make 1000 samples\n",
    "n_samples = 1000\n",
    "\n",
    "# create circles\n",
    "X, y = make_circles(n_samples,\n",
    "                    noise=0.03,\n",
    "                    random_state=42)"
   ]
  },
  {
   "cell_type": "code",
   "execution_count": 94,
   "id": "d24efd82-51bf-450d-9b5e-5bc34421d413",
   "metadata": {},
   "outputs": [
    {
     "data": {
      "text/plain": [
       "(1000, 1000)"
      ]
     },
     "execution_count": 94,
     "metadata": {},
     "output_type": "execute_result"
    }
   ],
   "source": [
    "len(X), len(y)"
   ]
  },
  {
   "cell_type": "code",
   "execution_count": 95,
   "id": "22849cdc-9484-4b3a-a621-9dc70448a71f",
   "metadata": {},
   "outputs": [
    {
     "name": "stdout",
     "output_type": "stream",
     "text": [
      "First 5 samples of X:\n",
      " [[ 0.75424625  0.23148074]\n",
      " [-0.75615888  0.15325888]\n",
      " [-0.81539193  0.17328203]\n",
      " [-0.39373073  0.69288277]\n",
      " [ 0.44220765 -0.89672343]]\n",
      "First 5 samples of y:\n",
      " [1 1 1 1 0]\n"
     ]
    }
   ],
   "source": [
    "print(f\"First 5 samples of X:\\n {X[:5]}\")\n",
    "print(f\"First 5 samples of y:\\n {y[:5]}\")"
   ]
  },
  {
   "cell_type": "code",
   "execution_count": 96,
   "id": "26e3dab9-1321-470c-a65c-61056c128fdf",
   "metadata": {},
   "outputs": [
    {
     "data": {
      "text/html": [
       "<div>\n",
       "<style scoped>\n",
       "    .dataframe tbody tr th:only-of-type {\n",
       "        vertical-align: middle;\n",
       "    }\n",
       "\n",
       "    .dataframe tbody tr th {\n",
       "        vertical-align: top;\n",
       "    }\n",
       "\n",
       "    .dataframe thead th {\n",
       "        text-align: right;\n",
       "    }\n",
       "</style>\n",
       "<table border=\"1\" class=\"dataframe\">\n",
       "  <thead>\n",
       "    <tr style=\"text-align: right;\">\n",
       "      <th></th>\n",
       "      <th>X1</th>\n",
       "      <th>X2</th>\n",
       "      <th>labels</th>\n",
       "    </tr>\n",
       "  </thead>\n",
       "  <tbody>\n",
       "    <tr>\n",
       "      <th>0</th>\n",
       "      <td>0.754246</td>\n",
       "      <td>0.231481</td>\n",
       "      <td>1</td>\n",
       "    </tr>\n",
       "    <tr>\n",
       "      <th>1</th>\n",
       "      <td>-0.756159</td>\n",
       "      <td>0.153259</td>\n",
       "      <td>1</td>\n",
       "    </tr>\n",
       "    <tr>\n",
       "      <th>2</th>\n",
       "      <td>-0.815392</td>\n",
       "      <td>0.173282</td>\n",
       "      <td>1</td>\n",
       "    </tr>\n",
       "    <tr>\n",
       "      <th>3</th>\n",
       "      <td>-0.393731</td>\n",
       "      <td>0.692883</td>\n",
       "      <td>1</td>\n",
       "    </tr>\n",
       "    <tr>\n",
       "      <th>4</th>\n",
       "      <td>0.442208</td>\n",
       "      <td>-0.896723</td>\n",
       "      <td>0</td>\n",
       "    </tr>\n",
       "    <tr>\n",
       "      <th>5</th>\n",
       "      <td>-0.479646</td>\n",
       "      <td>0.676435</td>\n",
       "      <td>1</td>\n",
       "    </tr>\n",
       "    <tr>\n",
       "      <th>6</th>\n",
       "      <td>-0.013648</td>\n",
       "      <td>0.803349</td>\n",
       "      <td>1</td>\n",
       "    </tr>\n",
       "    <tr>\n",
       "      <th>7</th>\n",
       "      <td>0.771513</td>\n",
       "      <td>0.147760</td>\n",
       "      <td>1</td>\n",
       "    </tr>\n",
       "    <tr>\n",
       "      <th>8</th>\n",
       "      <td>-0.169322</td>\n",
       "      <td>-0.793456</td>\n",
       "      <td>1</td>\n",
       "    </tr>\n",
       "    <tr>\n",
       "      <th>9</th>\n",
       "      <td>-0.121486</td>\n",
       "      <td>1.021509</td>\n",
       "      <td>0</td>\n",
       "    </tr>\n",
       "  </tbody>\n",
       "</table>\n",
       "</div>"
      ],
      "text/plain": [
       "         X1        X2  labels\n",
       "0  0.754246  0.231481       1\n",
       "1 -0.756159  0.153259       1\n",
       "2 -0.815392  0.173282       1\n",
       "3 -0.393731  0.692883       1\n",
       "4  0.442208 -0.896723       0\n",
       "5 -0.479646  0.676435       1\n",
       "6 -0.013648  0.803349       1\n",
       "7  0.771513  0.147760       1\n",
       "8 -0.169322 -0.793456       1\n",
       "9 -0.121486  1.021509       0"
      ]
     },
     "execution_count": 96,
     "metadata": {},
     "output_type": "execute_result"
    }
   ],
   "source": [
    "# Make DataFrame of circle data\n",
    "circles = pd.DataFrame({\"X1\":X[:,0], \n",
    "                        \"X2\":X[:,1],\n",
    "                       \"labels\":y})\n",
    "circles.head(10)"
   ]
  },
  {
   "cell_type": "code",
   "execution_count": 97,
   "id": "a3d954f0-3f43-4613-89cc-c3b4477e9095",
   "metadata": {},
   "outputs": [
    {
     "data": {
      "image/png": "[encoded data removed]",
      "text/plain": [
       "<Figure size 640x480 with 1 Axes>"
      ]
     },
     "metadata": {},
     "output_type": "display_data"
    }
   ],
   "source": [
    "# Visualizing thid data \n",
    "plt.scatter(x = circles[\"X1\"], \n",
    "            y = circles[\"X2\"],\n",
    "            c = y,\n",
    "            cmap = plt.cm.RdYlBu)\n",
    "\n",
    "plt.show()"
   ]
  },
  {
   "cell_type": "markdown",
   "id": "794e7eee-833e-432e-a5cc-c482510e2fab",
   "metadata": {},
   "source": [
    "**Note:** The data we're working with is often referred to as a toy dataset, a dataset that is small enough to experiment but still sizeable enough to practice the fundamentals.\n",
    "\n",
    "So, the problem is given a (x1,x2) does this point belongs to inner circle or outer circle"
   ]
  },
  {
   "cell_type": "markdown",
   "id": "068bb589-7ad9-4843-9658-6fdcdefa0aa7",
   "metadata": {},
   "source": [
    "### 3.2.1.Check-input-and-output-shapes"
   ]
  },
  {
   "cell_type": "code",
   "execution_count": 98,
   "id": "ba10a6d2-5818-467e-aa61-802fc1bc4e43",
   "metadata": {},
   "outputs": [
    {
     "data": {
      "text/plain": [
       "((1000, 2), (1000,))"
      ]
     },
     "execution_count": 98,
     "metadata": {},
     "output_type": "execute_result"
    }
   ],
   "source": [
    "X.shape, y.shape"
   ]
  },
  {
   "cell_type": "code",
   "execution_count": 99,
   "id": "5875e0ef-dac7-4493-b495-9ecb48d8e18a",
   "metadata": {},
   "outputs": [
    {
     "name": "stdout",
     "output_type": "stream",
     "text": [
      "Values for one sample of X: [0.75424625 0.23148074] and the same for y: 1\n",
      "Shapes for one sample of X: (2,) and the same for y: ()\n"
     ]
    }
   ],
   "source": [
    "# view the first example of features and labels\n",
    "X_sample = X[0]\n",
    "y_sample = y[0]\n",
    "\n",
    "print(f\"Values for one sample of X: {X_sample} and the same for y: {y_sample}\")\n",
    "print(f\"Shapes for one sample of X: {X_sample.shape} and the same for y: {y_sample.shape}\")"
   ]
  },
  {
   "cell_type": "markdown",
   "id": "44205069-eab2-45ef-84e7-149b37325573",
   "metadata": {},
   "source": [
    "### 3.2.2.Turning-data-into-tensors"
   ]
  },
  {
   "cell_type": "code",
   "execution_count": 111,
   "id": "0dbf3da5-c9f8-49e6-b169-6ed39d07709a",
   "metadata": {},
   "outputs": [
    {
     "name": "stderr",
     "output_type": "stream",
     "text": [
      "/tmp/ipykernel_41214/4267776910.py:2: UserWarning: To copy construct from a tensor, it is recommended to use sourceTensor.clone().detach() or sourceTensor.clone().detach().requires_grad_(True), rather than torch.tensor(sourceTensor).\n",
      "  X = torch.tensor(X).type(torch.float32)\n",
      "/tmp/ipykernel_41214/4267776910.py:3: UserWarning: To copy construct from a tensor, it is recommended to use sourceTensor.clone().detach() or sourceTensor.clone().detach().requires_grad_(True), rather than torch.tensor(sourceTensor).\n",
      "  y = torch.tensor(y).type(torch.float32)\n"
     ]
    },
    {
     "data": {
      "text/plain": [
       "(tensor([[ 0.7542,  0.2315],\n",
       "         [-0.7562,  0.1533],\n",
       "         [-0.8154,  0.1733],\n",
       "         [-0.3937,  0.6929],\n",
       "         [ 0.4422, -0.8967]]),\n",
       " tensor([1., 1., 1., 1., 0.]))"
      ]
     },
     "execution_count": 111,
     "metadata": {},
     "output_type": "execute_result"
    }
   ],
   "source": [
    "# Turn data into tensors\n",
    "X = torch.tensor(X).type(torch.float32) \n",
    "y = torch.tensor(y).type(torch.float32)\n",
    "\n",
    "X[:5], y[:5]"
   ]
  },
  {
   "cell_type": "code",
   "execution_count": 112,
   "id": "bcbe486d-87bb-42b3-ae85-139786a6cf95",
   "metadata": {},
   "outputs": [],
   "source": [
    "# split data into training and test sets\n",
    "from sklearn.model_selection import train_test_split\n",
    "\n",
    "X_train, X_test, y_train, y_test = train_test_split(X,\n",
    "                                                   y,\n",
    "                                                   test_size=0.2,\n",
    "                                                   random_state=42)"
   ]
  },
  {
   "cell_type": "code",
   "execution_count": 113,
   "id": "f7d782fb-6055-49ee-b0ae-cd3e9e0e6a49",
   "metadata": {},
   "outputs": [
    {
     "data": {
      "text/plain": [
       "(800, 200, 800, 200)"
      ]
     },
     "execution_count": 113,
     "metadata": {},
     "output_type": "execute_result"
    }
   ],
   "source": [
    "len(X_train), len(X_test), len(y_train), len(y_test)"
   ]
  },
  {
   "cell_type": "markdown",
   "id": "7573fdf0-f511-466f-afc6-84cfd73382ef",
   "metadata": {},
   "source": [
    "## 3.3.Building-a-model\n",
    "To do so, we want to:\n",
    "1. Setup device agnostic code\n",
    "2. Construct a model\n",
    "3. Define loss function and optimizer\n",
    "4. create a training and test loop"
   ]
  },
  {
   "cell_type": "code",
   "execution_count": 125,
   "id": "7c5798c2-0a8d-4db4-bb06-341b03d69358",
   "metadata": {},
   "outputs": [],
   "source": [
    "# make device agnostic code\n",
    "device = \"cude\" if torch.cuda.is_available() else \"cpu\"\n",
    "\n",
    "X_train, X_test = X_train.to(device), X_test.to(device)\n",
    "y_train, y_test = y_train.to(device), y_test.to(device)\n"
   ]
  },
  {
   "cell_type": "markdown",
   "id": "bcc2bae1-cbff-4100-8ee7-9837fd04dac1",
   "metadata": {},
   "source": [
    "Now we've setup device agnostic code, let's create a model that:\n",
    "\n",
    "1. subclasses `nn.Module`\n",
    "2. Create 2 `nn.Linear()` layers that are capable of handling the shapes of our data.\n",
    "3. Defines a `forward()` method that outlines the forward pass (or forward computation of the model)\n",
    "4. Instatiate an instance of our model class and send it to the target device."
   ]
  },
  {
   "cell_type": "code",
   "execution_count": 119,
   "id": "c30d62f0-23d5-4cea-b065-ef881c8ef6a6",
   "metadata": {},
   "outputs": [
    {
     "data": {
      "text/plain": [
       "CircleModelV0(\n",
       "  (layer_1): Linear(in_features=2, out_features=5, bias=True)\n",
       "  (layer_2): Linear(in_features=5, out_features=1, bias=True)\n",
       ")"
      ]
     },
     "execution_count": 119,
     "metadata": {},
     "output_type": "execute_result"
    }
   ],
   "source": [
    "# 1. Construct a model that subclasses nn.Module\n",
    "class CircleModelV0(nn.Module):\n",
    "    def __init__(self):\n",
    "        super().__init__()\n",
    "\n",
    "        # 2. create 2 nn.Linear layers capable of handling the shapes of our data\n",
    "        self.layer_1 = nn.Linear(in_features=2, out_features=5) # takes in 2 features and upscale to 5 features\n",
    "        self.layer_2 = nn.Linear(in_features=5, out_features=1) # takes in 5 features from previous layer and outputs 1 feature\n",
    "\n",
    "    # 3. define a forward() method that outlines the forward pass\n",
    "    def forward(self, x):\n",
    "        return self.layer_2(self.layer_1(x)) # x -> layer_1 -> layer_2 -> output\n",
    "\n",
    "# 4. Instantiate an instance of our model class and set it to target device\n",
    "model_0 = CircleModelV0().to(device)\n",
    "model_0"
   ]
  },
  {
   "cell_type": "code",
   "execution_count": 124,
   "id": "2a9a6264-a9f6-4ec4-a850-e71399239dc3",
   "metadata": {},
   "outputs": [
    {
     "data": {
      "text/plain": [
       "CircleModelV1(\n",
       "  (two_linear_layers): Sequential(\n",
       "    (0): Linear(in_features=2, out_features=5, bias=True)\n",
       "    (1): Linear(in_features=5, out_features=1, bias=True)\n",
       "  )\n",
       ")"
      ]
     },
     "execution_count": 124,
     "metadata": {},
     "output_type": "execute_result"
    }
   ],
   "source": [
    "# Let's replicate the model above using nn.Sequential()\n",
    "class CircleModelV1(nn.Module):\n",
    "    def __init__(self):\n",
    "        super().__init__()\n",
    "        self.two_linear_layers = nn.Sequential(\n",
    "        nn.Linear(in_features=2, out_features=5),\n",
    "        nn.Linear(in_features=5, out_features=1)\n",
    "        )\n",
    "\n",
    "    # defining the forward pass\n",
    "    def forward(self, x):\n",
    "        return self.two_linear_layers(x)\n",
    "\n",
    "model_1 = CircleModelV1().to(device)\n",
    "model_1"
   ]
  },
  {
   "cell_type": "markdown",
   "id": "39f34e2c-062f-44ea-9bcb-b1af2bcbcb9b",
   "metadata": {},
   "source": [
    "version_0 is little bit complicated but can be extended where as version_1 is easy but no flexibility"
   ]
  },
  {
   "cell_type": "code",
   "execution_count": 128,
   "id": "d58cf96e-b4e8-4cab-9c76-c7613f0b8d0e",
   "metadata": {},
   "outputs": [
    {
     "name": "stdout",
     "output_type": "stream",
     "text": [
      "Length of Predictions: 200, shape: torch.Size([200, 1])\n",
      "Length of test samples: 200, Shape: torch.Size([200, 2])\n",
      "\n",
      "First 10 Predictions: tensor([[-0.4888],\n",
      "        [-0.4743],\n",
      "        [-0.4721],\n",
      "        [-0.4938],\n",
      "        [-0.3853],\n",
      "        [-0.3771],\n",
      "        [-0.4051],\n",
      "        [-0.3821],\n",
      "        [-0.4758],\n",
      "        [-0.4724]])\n",
      "\n",
      "First 10 labels: tensor([1., 0., 1., 0., 1., 1., 0., 0., 1., 0.])\n"
     ]
    }
   ],
   "source": [
    "# Make predictions\n",
    "with torch.inference_mode():\n",
    "    untrained_preds = model_0(X_test)\n",
    "print(f\"Length of Predictions: {len(untrained_preds)}, shape: {untrained_preds.shape}\")\n",
    "print(f\"Length of test samples: {len(X_test)}, Shape: {X_test.shape}\")\n",
    "print(f\"\\nFirst 10 Predictions: {untrained_preds[:10]}\")\n",
    "print(f\"\\nFirst 10 labels: {y_test[:10]}\")"
   ]
  },
  {
   "cell_type": "markdown",
   "id": "e5409b90-5bf1-4f0a-8b1d-bbcc7ab604a3",
   "metadata": {},
   "source": [
    "we want these predictions and labels to be same."
   ]
  },
  {
   "cell_type": "code",
   "execution_count": null,
   "id": "4aa15126-14a8-4741-8df0-13ea565c2956",
   "metadata": {},
   "outputs": [],
   "source": []
  }
 ],
 "metadata": {
  "kernelspec": {
   "display_name": "Python 3 (ipykernel)",
   "language": "python",
   "name": "python3"
  },
  "language_info": {
   "codemirror_mode": {
    "name": "ipython",
    "version": 3
   },
   "file_extension": ".py",
   "mimetype": "text/x-python",
   "name": "python",
   "nbconvert_exporter": "python",
   "pygments_lexer": "ipython3",
   "version": "3.12.5"
  }
 },
 "nbformat": 4,
 "nbformat_minor": 5
}
