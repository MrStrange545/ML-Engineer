{
 "cells": [
  {
   "cell_type": "markdown",
   "id": "fefa62a8-dbcd-4e4e-8999-4294642c8461",
   "metadata": {},
   "source": [
    "[![Open in Colab](https://colab.research.google.com/assets/colab-badge.svg)](https://colab.research.google.com/github/MrStrange545/ML-Engineer/blob/main/Notebooks/01_Python.ipynb)\n",
    "\n",
    "# Table Of contents\n",
    "\n",
    "- [1.Language Fundamentals](#1.Language-Fundamentals)\n",
    "  - [1.1.Introduction](#1.1.Introduction)\n",
    "  - [1.2.Identifiers](#1.2.Indentifiers)\n",
    "  - [1.3.Keywords](#1.3.Keywords)\n",
    "  - [1.4.Data types](#1.4.Data-Types)\n",
    "     - [1.4.1.Int Data Type](#1.4.1.Int-data-type)\n",
    "     - [1.4.2.Base Conversion](#1.4.2.Base-Conversion)\n",
    "     - [1.4.3.Float Data Type](#1.4.3.Float-data-type)\n",
    "     - [1.4.4.Complex Data Type](#1.4.4.Complex-data-type)\n",
    "     - [1.4.5.Bool Data Type](#1.4.5.Bool-data-type)\n",
    "     - [1.4.6.Str Data type](#1.4.6.Str-data-type)\n",
    "         - [1.4.6.1.Triple Quotes String](#1.4.6.1.Triple-quotes-string)\n",
    "         - [1.4.6.2.Raw String](#1.4.6.2.Raw-string)\n",
    "         - [1.4.6.3.Slicing of strings](#1.4.6.3.Slicing-of-strings)\n",
    "     - [1.4.7.Type Casting](#1.4.7.Type-Casting)\n",
    "         - [1.4.7.1.int()](#1.4.7.1.int())\n",
    "         - [1.4.7.2.float()](#1.4.\n",
    "- [2.Operators](#2.Operators)\n",
    "\n",
    "\n",
    "\n",
    "\n",
    "\n",
    "\n",
    "\n",
    "\n",
    "\n",
    "**Resources:**\n",
    "1. Durga software Solutions"
   ]
  },
  {
   "cell_type": "markdown",
   "id": "ecc4629a-9977-495f-9660-f50020964dce",
   "metadata": {},
   "source": [
    "# 1.Language-Fundamentals"
   ]
  },
  {
   "cell_type": "markdown",
   "id": "e3752acf-0ae8-40e6-aca4-f8efae69c42e",
   "metadata": {},
   "source": [
    "## 1.1.Introduction\n",
    "- Python is a general purpose high level programming language.\n",
    "- Python was developed by Guido Van Rossum in 1989 while working at National Research at netherlands.\n",
    "- But officially Python was made available to public in 1991. The Official DOB: 20th feb 1991.\n",
    "- The name \"Python\" was selected from the TV show \"The Complete Monty Python's Circus\", which was broadcasted in BBC from 1969 to 1974.\n",
    "\n",
    "Guido Developed Python languages by taking almost all programming features from different languages.\n",
    "- Functional Programming Features from C.\n",
    "- Object Oriented Programming features from C++.\n",
    "- Scripting Language Features from Perl and Shell Script.\n",
    "- Modular Programming Features from Modula-3\n",
    "\n",
    "Features of Python\n",
    "- Simple and easy to learn\n",
    "- Freeware and Open Source\n",
    "- HLL\n",
    "- Platform Independent\n",
    "- Portability\n",
    "- Dynamically typed\n",
    "- Both OOP and POP\n",
    "- Interpreted\n",
    "- Extensible\n",
    "- Embedded\n",
    "- Extensive Library."
   ]
  },
  {
   "cell_type": "code",
   "execution_count": 2,
   "id": "81547f5f-2759-4e30-b52b-227a821f127b",
   "metadata": {},
   "outputs": [
    {
     "name": "stdout",
     "output_type": "stream",
     "text": [
      "hello world\n"
     ]
    }
   ],
   "source": [
    "# Python program to print hello world\n",
    "print(\"hello world\")"
   ]
  },
  {
   "cell_type": "markdown",
   "id": "03e6af09-931f-4598-9b57-f8f8cac2cb71",
   "metadata": {},
   "source": [
    "## 1.2.Identifiers\n",
    "- A name in Python program is called Identifier\n",
    "- It can be class name or function name or module name or variable name.\n",
    "\n",
    "Rules to define Identifiers in Python:\n",
    "1. The only allowed characters in Python are alphabets(both case), (0 to 9) and underscore(_)\n",
    "2. Identifier should not start with digit.\n",
    "3. Identifiers are case sensitive.\n",
    "4. we cannot use reserved words as identifiers.\n",
    "\n",
    "**Note**:\n",
    "- If identifier is start with underscore(_) then it indicates it is private\n",
    "- Dollar ($) is not allowed in Python.\n",
    "- There is no length limit for python identifiers, but not recommended to use too lengthy identifiers.\n",
    "- If identifiers starts with __(two underscore symbols) then it indicates it is strongly private\n",
    "- If the identifier starts and ends with two underscore symbols then it is a magic method."
   ]
  },
  {
   "cell_type": "markdown",
   "id": "cd78b321-2d86-4c31-84f3-94b62b16cc94",
   "metadata": {},
   "source": [
    "## 1.3.Keywords\n",
    "- In python some words are reserved to represent some meaning or functionality. Such type of words are called Reserved Words.\n",
    "- There are 35 reserved words\n",
    "\n",
    "**Note**: \n",
    "- All reserved words in python contain only alphabet symbols\n",
    "- Except the following three all are in lower case\n",
    "   - True\n",
    "   - False\n",
    "   - None"
   ]
  },
  {
   "cell_type": "code",
   "execution_count": 7,
   "id": "bc80ad29-33bc-49f1-9085-a5e200f6b049",
   "metadata": {},
   "outputs": [
    {
     "data": {
      "text/plain": [
       "['False',\n",
       " 'None',\n",
       " 'True',\n",
       " 'and',\n",
       " 'as',\n",
       " 'assert',\n",
       " 'async',\n",
       " 'await',\n",
       " 'break',\n",
       " 'class',\n",
       " 'continue',\n",
       " 'def',\n",
       " 'del',\n",
       " 'elif',\n",
       " 'else',\n",
       " 'except',\n",
       " 'finally',\n",
       " 'for',\n",
       " 'from',\n",
       " 'global',\n",
       " 'if',\n",
       " 'import',\n",
       " 'in',\n",
       " 'is',\n",
       " 'lambda',\n",
       " 'nonlocal',\n",
       " 'not',\n",
       " 'or',\n",
       " 'pass',\n",
       " 'raise',\n",
       " 'return',\n",
       " 'try',\n",
       " 'while',\n",
       " 'with',\n",
       " 'yield']"
      ]
     },
     "execution_count": 7,
     "metadata": {},
     "output_type": "execute_result"
    }
   ],
   "source": [
    "# code to print all reserved words\n",
    "import keyword\n",
    "keyword.kwlist"
   ]
  },
  {
   "cell_type": "markdown",
   "id": "a9c824aa-c61f-4b92-835e-448bec40e239",
   "metadata": {},
   "source": [
    "## 1.4.Data-Types\n",
    "- Data type represent the type of data present inside a variable.\n",
    "- In python, we are not required to specify the type explicitly. Based on value provided, the type will be assigned automatically. Hence Python is `Dyanically Typed language`.\n",
    "\n",
    "Python contains several inbuilt functions"
   ]
  },
  {
   "cell_type": "code",
   "execution_count": 8,
   "id": "ef7a64d6-bf4b-4d35-9154-4f36b997adb8",
   "metadata": {},
   "outputs": [
    {
     "data": {
      "text/plain": [
       "int"
      ]
     },
     "execution_count": 8,
     "metadata": {},
     "output_type": "execute_result"
    }
   ],
   "source": [
    "# type() -> to check the type of variable or object\n",
    "a = 10\n",
    "type(a)"
   ]
  },
  {
   "cell_type": "code",
   "execution_count": 9,
   "id": "0c2a5527-2e5b-42c2-bc41-52fd4a98c5a1",
   "metadata": {},
   "outputs": [
    {
     "data": {
      "text/plain": [
       "95101982173864"
      ]
     },
     "execution_count": 9,
     "metadata": {},
     "output_type": "execute_result"
    }
   ],
   "source": [
    "# id() -> to get address of the object\n",
    "# it can change on runtime\n",
    "id(a)"
   ]
  },
  {
   "cell_type": "code",
   "execution_count": 10,
   "id": "35697aee-7a09-4948-a61f-4d257c86e700",
   "metadata": {},
   "outputs": [
    {
     "name": "stdout",
     "output_type": "stream",
     "text": [
      "10\n"
     ]
    }
   ],
   "source": [
    "# print() -> to print the value of the object\n",
    "print(a)"
   ]
  },
  {
   "cell_type": "markdown",
   "id": "89932c3c-df15-44b8-af49-a56af279cc02",
   "metadata": {},
   "source": [
    "### 1.4.1.Int-data-type\n",
    "- we can use int data type to represent integers"
   ]
  },
  {
   "cell_type": "code",
   "execution_count": 11,
   "id": "30765253-b8a8-4704-a676-c314941b3fab",
   "metadata": {},
   "outputs": [
    {
     "data": {
      "text/plain": [
       "int"
      ]
     },
     "execution_count": 11,
     "metadata": {},
     "output_type": "execute_result"
    }
   ],
   "source": [
    "a = 9568\n",
    "type(a)"
   ]
  },
  {
   "cell_type": "markdown",
   "id": "ce1495ac-ca26-4f28-8728-67dd89857b28",
   "metadata": {},
   "source": [
    "We can represent int values in following ways\n",
    "1. Decimal\n",
    "2. Binary\n",
    "3. Octal\n",
    "4. Hexadecimal"
   ]
  },
  {
   "cell_type": "code",
   "execution_count": 15,
   "id": "45425b6f-abfe-4039-8733-d09fb3e2f1dc",
   "metadata": {},
   "outputs": [
    {
     "data": {
      "text/plain": [
       "10"
      ]
     },
     "execution_count": 15,
     "metadata": {},
     "output_type": "execute_result"
    }
   ],
   "source": [
    "# Decimal\n",
    "# allowed digits are  0 to 9\n",
    "# no prefix required\n",
    "a = 10\n",
    "a"
   ]
  },
  {
   "cell_type": "code",
   "execution_count": 16,
   "id": "d531c9b4-ab94-4170-aeeb-f73bf5210fb6",
   "metadata": {},
   "outputs": [
    {
     "data": {
      "text/plain": [
       "7"
      ]
     },
     "execution_count": 16,
     "metadata": {},
     "output_type": "execute_result"
    }
   ],
   "source": [
    "# Binary\n",
    "# allowed digits are 0 and 1\n",
    "# prefixed with 0b or 0B\n",
    "a = 0b111\n",
    "a"
   ]
  },
  {
   "cell_type": "code",
   "execution_count": 17,
   "id": "81190fc1-5205-4604-aa57-16036d0d6f4a",
   "metadata": {},
   "outputs": [
    {
     "data": {
      "text/plain": [
       "375"
      ]
     },
     "execution_count": 17,
     "metadata": {},
     "output_type": "execute_result"
    }
   ],
   "source": [
    "# Octal\n",
    "# allowed digits are 0 to 7\n",
    "# prefixed with 0o or 0O\n",
    "a = 0o567\n",
    "a"
   ]
  },
  {
   "cell_type": "code",
   "execution_count": 19,
   "id": "9426033f-6059-494a-843e-1207a7a2ad01",
   "metadata": {},
   "outputs": [
    {
     "data": {
      "text/plain": [
       "64206"
      ]
     },
     "execution_count": 19,
     "metadata": {},
     "output_type": "execute_result"
    }
   ],
   "source": [
    "# Hexa-Decimal\n",
    "# allowed symbols are 0 to 9, and A to F\n",
    "# prefixed with 0x or OX\n",
    "a = 0xFACE\n",
    "a"
   ]
  },
  {
   "cell_type": "markdown",
   "id": "6991ae85-6d2b-4ac3-9394-fd301b524cc8",
   "metadata": {},
   "source": [
    "Being a Programmer we can specify literal values in decimal, binary, octal, and hexa-decimal forms. But PVM will always provide values in decimal form"
   ]
  },
  {
   "cell_type": "markdown",
   "id": "531650a5-d794-41a8-933d-5c981403eb6c",
   "metadata": {},
   "source": [
    "#### 1.4.2.Base-Conversion\n",
    "- Python provide the following in-built functions for base conversions"
   ]
  },
  {
   "cell_type": "code",
   "execution_count": 20,
   "id": "b9e77fca-22b8-4e5d-ba5b-44809cfd2c88",
   "metadata": {},
   "outputs": [
    {
     "data": {
      "text/plain": [
       "('0b1111', '0b1001', '0b10100100', '0b100')"
      ]
     },
     "execution_count": 20,
     "metadata": {},
     "output_type": "execute_result"
    }
   ],
   "source": [
    "# bin()\n",
    "bin(15), bin(0o11), bin(0xA4), bin(0b100)"
   ]
  },
  {
   "cell_type": "code",
   "execution_count": 21,
   "id": "b1f5f7e4-937a-4a41-b354-e48bb371fa36",
   "metadata": {},
   "outputs": [
    {
     "data": {
      "text/plain": [
       "('0o12', '0o17', '0o443')"
      ]
     },
     "execution_count": 21,
     "metadata": {},
     "output_type": "execute_result"
    }
   ],
   "source": [
    "# oct()\n",
    "oct(10), oct(0B1111), oct(0X123)"
   ]
  },
  {
   "cell_type": "code",
   "execution_count": 22,
   "id": "fe74d3eb-fa61-48eb-a56d-f14a121209c9",
   "metadata": {},
   "outputs": [
    {
     "data": {
      "text/plain": [
       "('0x64', '0x7f', '0x14e5')"
      ]
     },
     "execution_count": 22,
     "metadata": {},
     "output_type": "execute_result"
    }
   ],
   "source": [
    "# hex()\n",
    "hex(100), hex(0B1111111), hex(0o12345)"
   ]
  },
  {
   "cell_type": "markdown",
   "id": "40b7bdda-1afb-487c-895e-d01e9e064994",
   "metadata": {},
   "source": [
    "### 1.4.3.Float-data-type\n",
    "- Used to represent decimal values"
   ]
  },
  {
   "cell_type": "code",
   "execution_count": 24,
   "id": "87e8232e-4b77-4299-9876-6f75bf0bff3a",
   "metadata": {},
   "outputs": [
    {
     "data": {
      "text/plain": [
       "float"
      ]
     },
     "execution_count": 24,
     "metadata": {},
     "output_type": "execute_result"
    }
   ],
   "source": [
    "f = 1.234\n",
    "type(f)"
   ]
  },
  {
   "cell_type": "code",
   "execution_count": 25,
   "id": "28dbc79b-227f-464e-8729-9f86e838b57d",
   "metadata": {},
   "outputs": [
    {
     "data": {
      "text/plain": [
       "1200.0"
      ]
     },
     "execution_count": 25,
     "metadata": {},
     "output_type": "execute_result"
    }
   ],
   "source": [
    "f = 1.2e3  # or 1.2E3\n",
    "f"
   ]
  },
  {
   "cell_type": "markdown",
   "id": "246a6fa8-aed0-40c1-8688-398b9b72dde0",
   "metadata": {},
   "source": [
    "We can represent int values in decimal, binary, octal and hexa decimal forms. But we can represent float values only by using decimal form."
   ]
  },
  {
   "cell_type": "markdown",
   "id": "ea849aec-aeb4-4ca7-8b17-44d749a24803",
   "metadata": {},
   "source": [
    "### 1.4.4.Complex-data-type\n",
    "- used to represent complex numbers"
   ]
  },
  {
   "cell_type": "code",
   "execution_count": 28,
   "id": "55b98ead-ad8d-4084-a354-9885dddecd33",
   "metadata": {},
   "outputs": [
    {
     "data": {
      "text/plain": [
       "(complex, (3+5j))"
      ]
     },
     "execution_count": 28,
     "metadata": {},
     "output_type": "execute_result"
    }
   ],
   "source": [
    "a = 3+5j\n",
    "type(a), a"
   ]
  },
  {
   "cell_type": "markdown",
   "id": "697fec1f-ff00-4725-bf69-07367af17f4f",
   "metadata": {},
   "source": [
    "In the real part if we use int value then we can specify that either by decimal,octal,binary or hexa decimal form.\n",
    "But imaginary part should be specified only by using decimal form"
   ]
  },
  {
   "cell_type": "markdown",
   "id": "7e5a02b6-61a4-4907-baa8-6c83be59be9b",
   "metadata": {},
   "source": [
    "We can even perform operations on complex data type"
   ]
  },
  {
   "cell_type": "code",
   "execution_count": 29,
   "id": "89cfc346-2266-495a-bcc3-c6b222cfada1",
   "metadata": {},
   "outputs": [
    {
     "data": {
      "text/plain": [
       "((12.5+2.7j),\n",
       " (7.5+7.3j),\n",
       " (36.5-10.5j),\n",
       " (1.1698440207972272+3.076256499133449j))"
      ]
     },
     "execution_count": 29,
     "metadata": {},
     "output_type": "execute_result"
    }
   ],
   "source": [
    "a = 10+5j\n",
    "b = 2.5-2.3j\n",
    "a+b, a-b, a*b, a/b"
   ]
  },
  {
   "cell_type": "markdown",
   "id": "37bb0b2d-618a-4bf9-bcdd-786a5986fd13",
   "metadata": {},
   "source": [
    "Complex data type has some inbuilt attributes to retrieve the real part and imaginary part"
   ]
  },
  {
   "cell_type": "code",
   "execution_count": 32,
   "id": "12af40a0-b3ee-44c8-bc2d-0d77fa0d4b3f",
   "metadata": {},
   "outputs": [
    {
     "data": {
      "text/plain": [
       "(10.5, 3.6)"
      ]
     },
     "execution_count": 32,
     "metadata": {},
     "output_type": "execute_result"
    }
   ],
   "source": [
    "c = 10.5+3.6j\n",
    "c.real, c.imag"
   ]
  },
  {
   "cell_type": "markdown",
   "id": "e9fff557-9f40-4d5b-83f2-ab767ee4e7d1",
   "metadata": {},
   "source": [
    "### 1.4.5.Bool-data-type\n",
    "- we can use this data type to represent boolean values.\n",
    "- The only allowed values are `True` and `False`.\n",
    "\n",
    "> Internally, Python represents True as 1 and False as 0"
   ]
  },
  {
   "cell_type": "code",
   "execution_count": 35,
   "id": "f0e5b8f3-66c8-48b6-b529-558bf0ce52e9",
   "metadata": {},
   "outputs": [
    {
     "data": {
      "text/plain": [
       "(bool, True)"
      ]
     },
     "execution_count": 35,
     "metadata": {},
     "output_type": "execute_result"
    }
   ],
   "source": [
    "b = True\n",
    "type(b), b"
   ]
  },
  {
   "cell_type": "code",
   "execution_count": 36,
   "id": "bfe09035-9915-4122-a805-535755f6133d",
   "metadata": {},
   "outputs": [
    {
     "data": {
      "text/plain": [
       "False"
      ]
     },
     "execution_count": 36,
     "metadata": {},
     "output_type": "execute_result"
    }
   ],
   "source": [
    "a, b = 10, 20\n",
    "a>b"
   ]
  },
  {
   "cell_type": "code",
   "execution_count": 37,
   "id": "f6dba391-2e48-4af9-a848-49cc1099fde5",
   "metadata": {},
   "outputs": [
    {
     "data": {
      "text/plain": [
       "(2, 1)"
      ]
     },
     "execution_count": 37,
     "metadata": {},
     "output_type": "execute_result"
    }
   ],
   "source": [
    "True+True, True+False"
   ]
  },
  {
   "cell_type": "markdown",
   "id": "084572d0-2b48-4545-94ba-fb8aa17f0eff",
   "metadata": {},
   "source": [
    "### 1.4.6.Str-data-type\n",
    "- str represents string data type\n",
    "- A string is a sequence of characters enclosed within single quotes or double quotes."
   ]
  },
  {
   "cell_type": "code",
   "execution_count": 40,
   "id": "32abb005-38b8-4cb1-9112-d3fb1e708d00",
   "metadata": {},
   "outputs": [
    {
     "data": {
      "text/plain": [
       "('first string', 'second string')"
      ]
     },
     "execution_count": 40,
     "metadata": {},
     "output_type": "execute_result"
    }
   ],
   "source": [
    "s1 = 'first string'\n",
    "s2 = \"second string\"\n",
    "s1, s2"
   ]
  },
  {
   "cell_type": "markdown",
   "id": "fbf080ca-8bf6-4584-a57e-fb51868e0bd9",
   "metadata": {},
   "source": [
    "#### 1.4.6.1.Triple-quotes-string\n",
    "Triple quotes are useful for majorly two reasons\n",
    "- one for representing data in multiline\n",
    "- another when we have single and double quotes in btw and we do not want to use raw string or escape characters"
   ]
  },
  {
   "cell_type": "code",
   "execution_count": 46,
   "id": "32087b4c-a031-4610-979c-ecf335d81a89",
   "metadata": {},
   "outputs": [
    {
     "data": {
      "text/plain": [
       "('This is a \\nmultiline \\nstring', ' string\" that \\'contains\\' \\nmany quotes')"
      ]
     },
     "execution_count": 46,
     "metadata": {},
     "output_type": "execute_result"
    }
   ],
   "source": [
    "s3 = \"\"\"This is a \n",
    "multiline \n",
    "string\"\"\"\n",
    "\n",
    "s4 = \"\"\" string\" that 'contains' \n",
    "many quotes\"\"\"\n",
    "\n",
    "s3, s4"
   ]
  },
  {
   "cell_type": "markdown",
   "id": "ca5fdffb-7cb5-4db4-ad1e-579ac4e74ec1",
   "metadata": {},
   "source": [
    "#### 1.4.6.2.Raw-string\n",
    "when we want our string as it is we use raw string\n",
    "- to use raw string use r before the string"
   ]
  },
  {
   "cell_type": "code",
   "execution_count": 51,
   "id": "7f6ac0a0-ec82-463b-94f6-42fceeedff1e",
   "metadata": {},
   "outputs": [
    {
     "data": {
      "text/plain": [
       "'hello /n world'"
      ]
     },
     "execution_count": 51,
     "metadata": {},
     "output_type": "execute_result"
    }
   ],
   "source": [
    "s1 = r\"hello /n world\"\n",
    "s1"
   ]
  },
  {
   "cell_type": "markdown",
   "id": "31fdbffd-69ec-495b-878c-f1c2755f0211",
   "metadata": {},
   "source": [
    "#### 1.4.6.3.Slicing-of-strings\n",
    "- slice means a piece\n",
    "- [] operator is called slice operator, which can be used to retrieve parts of string.\n",
    "- Python strings follows zero based indexing.\n",
    "- +ve index means left to right\n",
    "- -ve index means right to left"
   ]
  },
  {
   "cell_type": "code",
   "execution_count": 52,
   "id": "609535cd-0d69-4c36-b1e8-eed858f4be5a",
   "metadata": {},
   "outputs": [],
   "source": [
    "s = 'string'"
   ]
  },
  {
   "cell_type": "code",
   "execution_count": 56,
   "id": "ad858629-3332-48de-97ab-2c6c47a027b8",
   "metadata": {},
   "outputs": [
    {
     "data": {
      "text/plain": [
       "('s', 'g', 't')"
      ]
     },
     "execution_count": 56,
     "metadata": {},
     "output_type": "execute_result"
    }
   ],
   "source": [
    "s[0], s[-1], s[1]"
   ]
  },
  {
   "cell_type": "code",
   "execution_count": 58,
   "id": "46d888d7-61a3-46a5-a300-0f7f639ded10",
   "metadata": {},
   "outputs": [],
   "source": [
    "#  s[40] this will throw index out of range error"
   ]
  },
  {
   "cell_type": "markdown",
   "id": "6e2089a3-419e-41a4-8713-4d16a58f9a4a",
   "metadata": {},
   "source": [
    "when using `:` operator left part is starting and right part is ending(exclusive) and when using `[::]` left most part is starting index, and middle part is ending(exclusive) and right most part is step\n",
    "> when nothing is described it means starting=0, end = len(string), step = 1"
   ]
  },
  {
   "cell_type": "code",
   "execution_count": 59,
   "id": "205a8098-badd-4f22-8b8f-7c8932c8d55b",
   "metadata": {},
   "outputs": [
    {
     "data": {
      "text/plain": [
       "('tring', 'tring', 'stri', 'string')"
      ]
     },
     "execution_count": 59,
     "metadata": {},
     "output_type": "execute_result"
    }
   ],
   "source": [
    "s[1:40], s[1:], s[:4], s[:]"
   ]
  },
  {
   "cell_type": "markdown",
   "id": "33e28b7d-a419-4235-a20c-7e91d80b2ead",
   "metadata": {},
   "source": [
    "### 1.4.7.Type-Casting\n",
    "- we can convert one type of value to another type. This conversion is called Typecasting or type coersion.\n",
    "- The following are various inbuilt functions for type casting"
   ]
  },
  {
   "cell_type": "markdown",
   "id": "1ff53a8a-d2b3-49df-9745-6369bd02fa83",
   "metadata": {},
   "source": [
    "#### 1.4.7.1.int()\n",
    "- we can use this to convert other types to int type"
   ]
  },
  {
   "cell_type": "code",
   "execution_count": 61,
   "id": "73b7715f-4bd5-4060-86ad-da469c8f3895",
   "metadata": {},
   "outputs": [
    {
     "data": {
      "text/plain": [
       "(123, 1, 0, 10)"
      ]
     },
     "execution_count": 61,
     "metadata": {},
     "output_type": "execute_result"
    }
   ],
   "source": [
    "int(123.987), int(True), int(False), int(\"10\")"
   ]
  },
  {
   "cell_type": "code",
   "execution_count": 62,
   "id": "1be7710b-ac2c-409c-8d3e-def32aef6d87",
   "metadata": {},
   "outputs": [],
   "source": [
    "# int(10+5j) typeError\n",
    "# int(\"10.5\") ValueError\n",
    "# int(\"ten\") ValueError\n",
    "# int(\"0b1111\") # valueError"
   ]
  },
  {
   "cell_type": "markdown",
   "id": "31d2eff0-a5f4-453f-9210-53fbf763f3e6",
   "metadata": {},
   "source": [
    "**Note**:\n",
    "1. We can convert any type to int except complex type.\n",
    "2. If we want to convert str type to int, compulsory str should contain integral value (in decimal system)"
   ]
  },
  {
   "cell_type": "markdown",
   "id": "a4146262-de61-4416-9a24-876ab1669cdf",
   "metadata": {},
   "source": [
    "#### 1.4.7.2.float()\n",
    "- we can use `float()` to convert other types to float type"
   ]
  },
  {
   "cell_type": "code",
   "execution_count": 63,
   "id": "99880ada-af28-4de6-934e-03f2e19732f9",
   "metadata": {},
   "outputs": [
    {
     "data": {
      "text/plain": [
       "(10.0, 1.0, 0.0, 10.5)"
      ]
     },
     "execution_count": 63,
     "metadata": {},
     "output_type": "execute_result"
    }
   ],
   "source": [
    "float(10), float(True), float(False), float(\"10.5\")"
   ]
  },
  {
   "cell_type": "code",
   "execution_count": 64,
   "id": "29ba15de-077c-4b64-8ee8-682a061cae19",
   "metadata": {},
   "outputs": [],
   "source": [
    "# float(10+5j) TypeError\n",
    "# float(\"ten\") valueError\n",
    "# float(\"0b1111\") valueError"
   ]
  },
  {
   "cell_type": "markdown",
   "id": "1feb54ad-48fa-4aee-bc36-3e8c08a1480e",
   "metadata": {},
   "source": [
    "**Note**:\n",
    "1. We can convert any type of value to float type except complex type\n",
    "2. Whenever we are trying to convert str type to float type compulsory str should be either integral or floating point literal and should be specified only in base-10"
   ]
  },
  {
   "cell_type": "markdown",
   "id": "bdd8c67b-4034-491a-8f40-1af672a37cb4",
   "metadata": {},
   "source": [
    "#### 1.4.7.3.complex()\n",
    "we can use this `complex()` function to convert other types to complex type.\n",
    "\n",
    "##### Form-1: complex(x)\n",
    "We can use this function to convert x into complex number with real part x and imaginary part 0."
   ]
  },
  {
   "cell_type": "code",
   "execution_count": 66,
   "id": "3d782219-6739-46e7-9b25-be832e7f0ade",
   "metadata": {},
   "outputs": [
    {
     "data": {
      "text/plain": [
       "((10+0j), (10.5+0j), (10+0j), (1+0j), (10.5+0j))"
      ]
     },
     "execution_count": 66,
     "metadata": {},
     "output_type": "execute_result"
    }
   ],
   "source": [
    "complex(10), complex(10.5), complex(\"10\"), complex(True), complex(\"10.5\")"
   ]
  },
  {
   "cell_type": "code",
   "execution_count": 68,
   "id": "caf287bd-e3b1-4602-89bc-8c67750ff436",
   "metadata": {},
   "outputs": [],
   "source": [
    "# complex(\"ten\") valueError"
   ]
  },
  {
   "cell_type": "markdown",
   "id": "2b445b75-9add-4def-9886-270b20980045",
   "metadata": {},
   "source": [
    "##### Form-2: complex(x,y)\n",
    "We can use this method to convert x and y into complex number such that x will be real part and y will be imaginary part."
   ]
  },
  {
   "cell_type": "code",
   "execution_count": 69,
   "id": "10b36155-eb72-4448-8088-eb9ced863c4a",
   "metadata": {},
   "outputs": [
    {
     "data": {
      "text/plain": [
       "((10-2j), (1+0j))"
      ]
     },
     "execution_count": 69,
     "metadata": {},
     "output_type": "execute_result"
    }
   ],
   "source": [
    "complex(10,-2), complex(True, False)"
   ]
  },
  {
   "cell_type": "markdown",
   "id": "e1b80f2c-6076-4a97-ad1a-8bacfc1d37b8",
   "metadata": {},
   "source": [
    "#### 1.4.7.4.bool()\n",
    "- We can use this method to convert other type to bool type:"
   ]
  },
  {
   "cell_type": "code",
   "execution_count": 70,
   "id": "dabd4aab-d144-455d-a50f-f304b06524c7",
   "metadata": {},
   "outputs": [
    {
     "data": {
      "text/plain": [
       "(False, True, True, True, True, False, True)"
      ]
     },
     "execution_count": 70,
     "metadata": {},
     "output_type": "execute_result"
    }
   ],
   "source": [
    "bool(0), bool(1), bool(10), bool(10.5), bool(0.178), bool(0.0), bool(10-2j)"
   ]
  },
  {
   "cell_type": "code",
   "execution_count": 71,
   "id": "a4699de0-b94d-4da4-ae37-a1f6446696a5",
   "metadata": {},
   "outputs": [
    {
     "data": {
      "text/plain": [
       "(True, True, False)"
      ]
     },
     "execution_count": 71,
     "metadata": {},
     "output_type": "execute_result"
    }
   ],
   "source": [
    "bool(\"True\"), bool(\"False\"), bool(\"\")"
   ]
  },
  {
   "cell_type": "markdown",
   "id": "befc0e14-4424-4bcf-b3b2-3ff7fd38bf79",
   "metadata": {},
   "source": [
    "conversion rule for bool(x)\n",
    "- If x is int:\n",
    "   - 0 means False\n",
    "   - non-zero means True\n",
    "- If x is a float\n",
    "   - If total numerical value is 0 then result is False otherwise the result is True.\n",
    "- If x is a complex\n",
    "   - if both real and imag are 0 then False else True\n",
    "- If x is a str\n",
    "   - if x is empty the result is False else True"
   ]
  },
  {
   "cell_type": "markdown",
   "id": "5da0ba39-f923-4257-991f-e34479fc2310",
   "metadata": {},
   "source": [
    "#### 1.4.7.5.str()\n",
    "- we can use this method to convert other type values to str type"
   ]
  },
  {
   "cell_type": "code",
   "execution_count": 73,
   "id": "cc610097-cd3c-4e62-8a90-1f8c18241979",
   "metadata": {},
   "outputs": [
    {
     "data": {
      "text/plain": [
       "('10', '10.5', '(10+5j)', 'True')"
      ]
     },
     "execution_count": 73,
     "metadata": {},
     "output_type": "execute_result"
    }
   ],
   "source": [
    "str(10), str(10.5), str(10+5j), str(True)"
   ]
  },
  {
   "cell_type": "markdown",
   "id": "99214d80-b7f2-417c-a1a9-7594b94629b6",
   "metadata": {},
   "source": [
    "### 1.4.8.bytes-data-type\n",
    "- bytes represent a group of byte numbers just like an array"
   ]
  },
  {
   "cell_type": "code",
   "execution_count": 79,
   "id": "91fc3dee-074d-43a5-83eb-e4899ee0a91f",
   "metadata": {},
   "outputs": [
    {
     "data": {
      "text/plain": [
       "bytes"
      ]
     },
     "execution_count": 79,
     "metadata": {},
     "output_type": "execute_result"
    }
   ],
   "source": [
    "x = [10,255,30,40]\n",
    "b = bytes(x)\n",
    "type(b)"
   ]
  },
  {
   "cell_type": "code",
   "execution_count": 80,
   "id": "c67a47d6-6204-4894-ab47-2dc8eb2047e7",
   "metadata": {},
   "outputs": [
    {
     "name": "stdout",
     "output_type": "stream",
     "text": [
      "10\n",
      "255\n",
      "30\n",
      "40\n"
     ]
    }
   ],
   "source": [
    "for i in b: print(i)"
   ]
  },
  {
   "cell_type": "markdown",
   "id": "00b065ff-9227-47ad-8a2b-39ec916b4869",
   "metadata": {},
   "source": [
    "**Conclusion 1:**\n",
    "The only allowed values for byte data type are 0 to 256(excluded). If we are trying to provide any other values then we will get valueError.\n",
    "\n",
    "**Conclusion 2:**\n",
    "Once we creates bytes data type value, we cannot change its values, otherwise we will get TypeError."
   ]
  },
  {
   "cell_type": "code",
   "execution_count": 82,
   "id": "ff7d1799-1d57-4af1-9dcf-372db162ebda",
   "metadata": {},
   "outputs": [],
   "source": [
    "# b[0] = 100 TypeError: 'bytes' object does not support item assignment"
   ]
  },
  {
   "cell_type": "markdown",
   "id": "a93167bc-e879-4c96-83b2-3b96473df477",
   "metadata": {},
   "source": [
    "### 1.4.9.bytearray-data-type\n",
    "- same as bytes except its elements can be modified"
   ]
  },
  {
   "cell_type": "code",
   "execution_count": 83,
   "id": "31dcc4fa-faad-4dde-9bc3-736f99d29053",
   "metadata": {},
   "outputs": [
    {
     "data": {
      "text/plain": [
       "bytearray"
      ]
     },
     "execution_count": 83,
     "metadata": {},
     "output_type": "execute_result"
    }
   ],
   "source": [
    "b = bytearray(x)\n",
    "type(b)"
   ]
  },
  {
   "cell_type": "code",
   "execution_count": 84,
   "id": "1e739202-05ea-48d2-837d-8990f8a97108",
   "metadata": {},
   "outputs": [
    {
     "name": "stdout",
     "output_type": "stream",
     "text": [
      "10\n",
      "255\n",
      "30\n",
      "40\n"
     ]
    }
   ],
   "source": [
    "for i in b: print(i)"
   ]
  },
  {
   "cell_type": "code",
   "execution_count": 86,
   "id": "7d7655e0-3c51-4fe5-8f0b-4b4f73f21523",
   "metadata": {},
   "outputs": [],
   "source": [
    "b[0] = 50"
   ]
  },
  {
   "cell_type": "code",
   "execution_count": 87,
   "id": "3fbf5364-aa0a-4383-9583-f8ccf3b6fd22",
   "metadata": {},
   "outputs": [
    {
     "name": "stdout",
     "output_type": "stream",
     "text": [
      "50\n",
      "255\n",
      "30\n",
      "40\n"
     ]
    }
   ],
   "source": [
    "for i in b: print(i)"
   ]
  },
  {
   "cell_type": "markdown",
   "id": "45bb727e-c7ca-4a7f-97f6-986957908d0a",
   "metadata": {},
   "source": [
    "There are several advanced data structures also, we will discuss them later on in detail like list, tuple, set, dict."
   ]
  },
  {
   "cell_type": "markdown",
   "id": "e6dd498c-4d0b-4e26-b59e-8bfa9c7957be",
   "metadata": {},
   "source": [
    "### 1.4.10.range-data-type\n",
    "range data type represents a sequence of numbers.\n",
    "The elements present in range data type are not modifiable i.e. data type is immutable"
   ]
  },
  {
   "cell_type": "code",
   "execution_count": 89,
   "id": "8a7047fd-15e4-43fe-9d8f-06da6b46a751",
   "metadata": {},
   "outputs": [
    {
     "name": "stdout",
     "output_type": "stream",
     "text": [
      "0\n",
      "1\n",
      "2\n",
      "3\n",
      "4\n",
      "5\n",
      "6\n",
      "7\n",
      "8\n",
      "9\n"
     ]
    }
   ],
   "source": [
    "# form-1: range(10)\n",
    "## generate numbers from 0 to 9\n",
    "r = range(10)\n",
    "for i in r: print(i)"
   ]
  },
  {
   "cell_type": "code",
   "execution_count": 90,
   "id": "d58df22b-1859-426a-964e-8fca0ad6bb9c",
   "metadata": {},
   "outputs": [
    {
     "name": "stdout",
     "output_type": "stream",
     "text": [
      "10\n",
      "11\n",
      "12\n",
      "13\n",
      "14\n",
      "15\n",
      "16\n",
      "17\n",
      "18\n",
      "19\n"
     ]
    }
   ],
   "source": [
    "# form-2: range(10,20)\n",
    "## generate numbers from 10 to 19\n",
    "r = range(10,20)\n",
    "for i in r: print(i)"
   ]
  },
  {
   "cell_type": "code",
   "execution_count": 91,
   "id": "9f2f888d-db97-486d-b3f7-0aec141a560e",
   "metadata": {},
   "outputs": [
    {
     "name": "stdout",
     "output_type": "stream",
     "text": [
      "0\n",
      "2\n",
      "4\n",
      "6\n",
      "8\n"
     ]
    }
   ],
   "source": [
    "# form-3: range(0,10,2)\n",
    "## generate number from 0 to 9 with differenc of 2\n",
    "r = range(0,10,2)\n",
    "for i in r: print(i)"
   ]
  },
  {
   "cell_type": "markdown",
   "id": "4798d662-4e34-4f00-b18e-f5088b32d699",
   "metadata": {},
   "source": [
    "we can access elements present in range data type using index"
   ]
  },
  {
   "cell_type": "code",
   "execution_count": 92,
   "id": "64c55401-c208-4723-9e17-4555e96e40fd",
   "metadata": {},
   "outputs": [
    {
     "data": {
      "text/plain": [
       "4"
      ]
     },
     "execution_count": 92,
     "metadata": {},
     "output_type": "execute_result"
    }
   ],
   "source": [
    "r[2]"
   ]
  },
  {
   "cell_type": "markdown",
   "id": "78207bbc-2b14-4073-a2ac-638aa91cea86",
   "metadata": {},
   "source": [
    "### 1.4.11.frozenset-data-type\n",
    "It is same as set, but immutable\n",
    "hence we cannot use add or remove functions"
   ]
  },
  {
   "cell_type": "code",
   "execution_count": 94,
   "id": "db7de64c-fac6-405b-a17e-c5d2cddb336d",
   "metadata": {},
   "outputs": [
    {
     "data": {
      "text/plain": [
       "(frozenset, frozenset({10, 20, 30, 40}))"
      ]
     },
     "execution_count": 94,
     "metadata": {},
     "output_type": "execute_result"
    }
   ],
   "source": [
    "s = {10,20,30,40}\n",
    "fs = frozenset(s)\n",
    "type(fs), fs"
   ]
  },
  {
   "cell_type": "markdown",
   "id": "3b81a248-bc43-4894-a0f4-d6ca8988264e",
   "metadata": {},
   "source": [
    "### 1.4.12.None-Data-type\n",
    "None means nothing or no value associated"
   ]
  },
  {
   "cell_type": "code",
   "execution_count": 95,
   "id": "f7beecba-5ca9-4370-8119-e0b240c89696",
   "metadata": {},
   "outputs": [
    {
     "name": "stdout",
     "output_type": "stream",
     "text": [
      "None\n"
     ]
    }
   ],
   "source": [
    "def m1():\n",
    "    a=10\n",
    "\n",
    "print(m1())"
   ]
  },
  {
   "cell_type": "markdown",
   "id": "fdde7fd7-e99c-4eb9-8279-55b4249ed39a",
   "metadata": {},
   "source": [
    "### 1.4.13.Escape-Characters\n",
    "- In string literals we can use escape characters to associate a special meaning.\n",
    "\n",
    "| Escape Sequence | Description                          | Example       |\n",
    "|-----------------|--------------------------------------|---------------|\n",
    "| `\\\\`            | Backslash                             | `\\\\`          |\n",
    "| `\\'`            | Single quote                          | `\\'`          |\n",
    "| `\\\"`            | Double quote                          | `\\\"`          |\n",
    "| `\\n`            | Newline                               | `\\n`          |\n",
    "| `\\r`            | Carriage return                       | `\\r`          |\n",
    "| `\\t`            | Horizontal tab                        | `\\t`          |\n",
    "| `\\b`            | Backspace                             | `\\b`          |\n",
    "| `\\f`            | Form feed                             | `\\f`          |\n",
    "| `\\v`            | Vertical tab                          | `\\v`          |\n",
    "| `\\a`            | Bell (alert)                          | `\\a`          |\n",
    "| `\\ooo`          | Octal value (e.g., `\\007` for bell)   | `\\007`        |\n",
    "| `\\xhh`          | Hexadecimal value (e.g., `\\x41` for 'A') | `\\x41`      |\n",
    "| `\\uhhhh`        | Unicode character (e.g., `\\u03A9` for Ω) | `\\u03A9`    |\n",
    "| `\\Uhhhhhhhh`    | Extended Unicode character (e.g., `\\U0001F600` for 😀) | `\\U0001F600` |\n"
   ]
  },
  {
   "cell_type": "markdown",
   "id": "1f86110f-509d-496e-83fc-53cc33b29b31",
   "metadata": {},
   "source": [
    "# 2.Operators"
   ]
  },
  {
   "cell_type": "markdown",
   "id": "3892e41a-ba26-4903-9928-3d99eafddfba",
   "metadata": {},
   "source": [
    "## 2.1.Arithmetic-operators\n",
    "\n",
    "| Operator | Description          | Example                  | Result  |\n",
    "|----------|----------------------|--------------------------|---------|\n",
    "| `+`      | Addition             | `5 + 3`                  | `8`     |\n",
    "| `-`      | Subtraction          | `10 - 4`                 | `6`     |\n",
    "| `*`      | Multiplication       | `7 * 6`                  | `42`    |\n",
    "| `/`      | Division             | `15 / 3`                 | `5.0`   |\n",
    "| `//`     | Floor Division       | `15 // 4`                | `3`     |\n",
    "| `%`      | Modulus (Remainder)  | `17 % 5`                 | `2`     |\n",
    "| `**`     | Exponentiation       | `2 ** 3`                 | `8`     |\n",
    "\n",
    "**Note:**\n",
    "- / operator always performs floating point arithmetic. Hence it will always returns float value.\n",
    "- // (floor division) can perform both floating point and integral arithmetic. If arguments are int type then result is int type. If atleast one argument is of float type then result is float type."
   ]
  },
  {
   "cell_type": "code",
   "execution_count": 96,
   "id": "a9acbf1b-9d51-46a9-a438-eba23ad6f1a8",
   "metadata": {},
   "outputs": [
    {
     "data": {
      "text/plain": [
       "(12, 8, 20, 5.0, 5, 100, 0)"
      ]
     },
     "execution_count": 96,
     "metadata": {},
     "output_type": "execute_result"
    }
   ],
   "source": [
    "a, b = 10, 2\n",
    "a+b, a-b, a*b, a/b, a//b, a**b, a%b"
   ]
  },
  {
   "cell_type": "markdown",
   "id": "aeef1771-f863-452f-9994-aff0cfba54d5",
   "metadata": {},
   "source": [
    "we can also use +, * for string type also.\n",
    "- for + both arg must be string\n",
    "- for * one arg must be int"
   ]
  },
  {
   "cell_type": "code",
   "execution_count": 98,
   "id": "747db5e1-5124-4621-b71d-a321c9a9c169",
   "metadata": {},
   "outputs": [
    {
     "data": {
      "text/plain": [
       "('stringstring2', 'stringstringstring')"
      ]
     },
     "execution_count": 98,
     "metadata": {},
     "output_type": "execute_result"
    }
   ],
   "source": [
    "'string'+'string2', 'string'*3"
   ]
  },
  {
   "cell_type": "markdown",
   "id": "9d9bd7a0-5028-4dda-b4af-40c4b2ce9334",
   "metadata": {},
   "source": [
    "## 2.2.Relational-Operators\n",
    "| Operator | Description           | Example       | Result  |\n",
    "|----------|-----------------------|---------------|---------|\n",
    "| `==`     | Equal to              | `5 == 5`      | `True`  |\n",
    "| `!=`     | Not equal to          | `5 != 3`      | `True`  |\n",
    "| `>`      | Greater than          | `7 > 3`       | `True`  |\n",
    "| `<`      | Less than             | `4 < 9`       | `True`  |\n",
    "| `>=`     | Greater than or equal to | `5 >= 5`   | `True`  |\n",
    "| `<=`     | Less than or equal to | `3 <= 4`      | `True`  |\n"
   ]
  },
  {
   "cell_type": "code",
   "execution_count": 100,
   "id": "3a7fa2d5-881f-42f3-a2f1-ab6aef1816a0",
   "metadata": {},
   "outputs": [
    {
     "data": {
      "text/plain": [
       "(False, True, False, True, False, True)"
      ]
     },
     "execution_count": 100,
     "metadata": {},
     "output_type": "execute_result"
    }
   ],
   "source": [
    "a, b = 10, 20\n",
    "a>b, a<b, a==b, a!=b, a>=b, a<=b"
   ]
  },
  {
   "cell_type": "markdown",
   "id": "41c2e45d-a288-4f1e-97e5-daa74cbb8060",
   "metadata": {},
   "source": [
    "We can apply relational operators for str types also"
   ]
  },
  {
   "cell_type": "code",
   "execution_count": 101,
   "id": "323d9dcd-dee8-4c28-bb6a-8f7699a90a90",
   "metadata": {},
   "outputs": [
    {
     "data": {
      "text/plain": [
       "(False, True, False, True, False, True)"
      ]
     },
     "execution_count": 101,
     "metadata": {},
     "output_type": "execute_result"
    }
   ],
   "source": [
    "a, b = 'str', 'str2'\n",
    "a>b, a<b, a==b, a!=b, a>=b, a<=b"
   ]
  },
  {
   "cell_type": "markdown",
   "id": "f60a9f63-e1fb-4e17-aeba-5181a30d9b67",
   "metadata": {},
   "source": [
    "Chaining of relational operators also possible. In the chain if result is False at any step then the whole result will become False else True"
   ]
  },
  {
   "cell_type": "code",
   "execution_count": 102,
   "id": "95185221-a01a-476c-9457-a445074388de",
   "metadata": {},
   "outputs": [
    {
     "data": {
      "text/plain": [
       "(False, True, True, False)"
      ]
     },
     "execution_count": 102,
     "metadata": {},
     "output_type": "execute_result"
    }
   ],
   "source": [
    "10>20, 10<20<30, 10<20<30<40, 10<20<30>40<50"
   ]
  },
  {
   "cell_type": "markdown",
   "id": "42b4dcfd-d0f9-4998-81d6-e89d31c2ddfc",
   "metadata": {},
   "source": [
    "## 2.3.Logical-Operators\n",
    "- we can apply logical operators for all types\n",
    "\n",
    "This is for Boolean type\n",
    "| Operator | Description         | Example               | Result |\n",
    "|----------|---------------------|-----------------------|--------|\n",
    "| `and`    | Logical AND         | `True and False`      | `False`|\n",
    "| `or`     | Logical OR          | `True or False`       | `True` |\n",
    "| `not`    | Logical NOT         | `not True`            | `False`|\n",
    "\n",
    "\n",
    "This is for Non-Boolean type\n",
    "| Operator | Description         | Example                | Result        |\n",
    "|----------|---------------------|------------------------|---------------|\n",
    "| `and`    | Logical AND         | `0 and 5`              | `0`           |\n",
    "| `or`     | Logical OR          | `0 or 5`               | `5`           |\n",
    "| `not`    | Logical NOT         | `not 0`                | `True`        |\n",
    "\n",
    "**Rules:**\n",
    "- x and y\n",
    "  - if x is false result is x else result is y\n",
    "- x or y\n",
    "  - if x is false result is y else result is x\n",
    "-  not x\n",
    "   - if x is false result is true else true"
   ]
  },
  {
   "cell_type": "markdown",
   "id": "03c46ca5-7767-4a19-b37e-ea4a06cabf59",
   "metadata": {},
   "source": [
    "## 2.4.Bitwise-operators\n",
    "- these are applicable only on boolean and int values.\n",
    "\n",
    "For boolean same as-> logical operators\n",
    "\n",
    "For integers, we have to convert every integer into bits then do the operations for each bit and its corresponding bit\n",
    "\n",
    "| Operator | Description          | Example     | Result |\n",
    "|----------|----------------------|-------------|--------|\n",
    "| `&`      | Bitwise AND          | `5 & 3`     | `1`    |\n",
    "| `|`    | Bitwise OR           | `5 | 3`     | `7`    |\n",
    "| `^`      | Bitwise XOR          | `5 ^ 3`     | `6`    |\n",
    "| `~`      | Bitwise NOT          | `~5`        | `-6`   |\n",
    "| `<<`     | Left Shift           | `5 << 1`    | `10`   |\n",
    "| `>>`     | Right Shift          | `5 >> 1`    | `2`    |\n",
    "\n",
    "bitwise complement uses 2`s complement.\n",
    "```\n",
    "print(~5) ==> -6\n",
    "```"
   ]
  },
  {
   "cell_type": "markdown",
   "id": "8fe80aec-7bc2-48ea-9bda-84a88bb80ac3",
   "metadata": {},
   "source": [
    "## 2.5.Assignment-Operators\n",
    "| Operator | Description                   | Example       | Result   |\n",
    "|----------|-------------------------------|---------------|----------|\n",
    "| `+=`     | Addition assignment           | `a += 3`      | `a = a + 3` |\n",
    "| `-=`     | Subtraction assignment        | `a -= 2`      | `a = a - 2` |\n",
    "| `*=`     | Multiplication assignment     | `a *= 4`      | `a = a * 4` |\n",
    "| `/=`     | Division assignment           | `a /= 2`      | `a = a / 2` |\n",
    "| `//=`    | Floor division assignment     | `a //= 3`     | `a = a // 3`|\n",
    "| `%=`     | Modulus assignment            | `a %= 5`      | `a = a % 5` |\n",
    "| `**=`    | Exponentiation assignment     | `a **= 2`     | `a = a ** 2`|\n",
    "| `&=`     | Bitwise AND assignment         | `a &= 3`      | `a = a & 3` |\n",
    "| `|=`     | Bitwise OR assignment          | `a |= 2`      | `a = a | 2` |\n",
    "| `^=`     | Bitwise XOR assignment         | `a ^= 1`      | `a = a ^ 1` |\n",
    "| `<<=`    | Left shift assignment          | `a <<= 1`     | `a = a << 1`|\n",
    "| `>>=`    | Right shift assignment         | `a >>= 2`     | `a = a >> 2`|\n"
   ]
  },
  {
   "cell_type": "markdown",
   "id": "866aa00d-eedc-43d0-9af2-8222bd49b785",
   "metadata": {},
   "source": [
    "## 2.6.Ternary-operator\n",
    "syntax:\n",
    "```\n",
    "x = first value if condition else second value\n",
    "```\n",
    "Nesting of ternary operator is possible"
   ]
  },
  {
   "cell_type": "code",
   "execution_count": 107,
   "id": "499eb4ff-751c-4788-a617-c47346f146bd",
   "metadata": {},
   "outputs": [
    {
     "data": {
      "text/plain": [
       "20"
      ]
     },
     "execution_count": 107,
     "metadata": {},
     "output_type": "execute_result"
    }
   ],
   "source": [
    "a,b = 10, 20\n",
    "result = a if a>b else b\n",
    "result"
   ]
  },
  {
   "cell_type": "markdown",
   "id": "19cc5655-e083-4a99-9110-b94626c48439",
   "metadata": {},
   "source": [
    "## 2.7.Special-operators\n",
    "#### 2.7.1.Identity-Operators\n",
    "1. is\n",
    "2. is not\n",
    "\n",
    "- r1 is r2 returns True if both r1 and r2 are pointing to the same object.\n",
    "- r1 is not r2 returns True if both r1 and r2 are not pointing to the same objec"
   ]
  },
  {
   "cell_type": "code",
   "execution_count": 108,
   "id": "6ce0225d-1413-4c01-8ed4-2aeb2c2fd9a6",
   "metadata": {},
   "outputs": [
    {
     "data": {
      "text/plain": [
       "(True, False)"
      ]
     },
     "execution_count": 108,
     "metadata": {},
     "output_type": "execute_result"
    }
   ],
   "source": [
    "a,b = 10,10\n",
    "a is b, a is not b"
   ]
  },
  {
   "cell_type": "code",
   "execution_count": 110,
   "id": "0989eea5-2fb2-44d6-a5e2-dac1e1979062",
   "metadata": {},
   "outputs": [
    {
     "data": {
      "text/plain": [
       "(False, True)"
      ]
     },
     "execution_count": 110,
     "metadata": {},
     "output_type": "execute_result"
    }
   ],
   "source": [
    "list1 = [1,2,3]\n",
    "list2 = [1,2,3]\n",
    "list1 is list2, list1 == list2"
   ]
  },
  {
   "cell_type": "markdown",
   "id": "f4a2afc1-840a-41f6-88e1-7932f7cff0c9",
   "metadata": {},
   "source": [
    "we can use is operator for address comparision where as == operator for content comparision."
   ]
  },
  {
   "cell_type": "markdown",
   "id": "55e18e91-0cb5-4111-a577-443401d35566",
   "metadata": {},
   "source": [
    "### 2.7.2.Membership-operators:\n",
    "1. in \n",
    "2. not in\n",
    "\n",
    "- in -> Returns True if the given object present in the specified Collection\n",
    "- not in -> Retruns True if the given object not present in the specified Collection"
   ]
  },
  {
   "cell_type": "code",
   "execution_count": 111,
   "id": "cb38ba04-9c7e-427b-8508-4cf8466b2bbe",
   "metadata": {},
   "outputs": [
    {
     "data": {
      "text/plain": [
       "(True, True)"
      ]
     },
     "execution_count": 111,
     "metadata": {},
     "output_type": "execute_result"
    }
   ],
   "source": [
    "list1 = [1,2,3]\n",
    "1 in list1, 5 not in list1"
   ]
  },
  {
   "cell_type": "markdown",
   "id": "3128f0e0-819d-4751-b575-921e6aba75f9",
   "metadata": {},
   "source": [
    "## 2.8.Operator-Precedence\n",
    "\n",
    "| Precedence | Operator(s)                | Description                                   | Example               |\n",
    "|------------|----------------------------|-----------------------------------------------|-----------------------|\n",
    "| 1          | `()`                       | Parentheses                                   | `(2 + 3) * 4`         |\n",
    "| 2          | `**`                       | Exponentiation                                | `2 ** 3`              |\n",
    "| 3          | `+x, -x, ~x`               | Unary plus, Unary minus, Bitwise NOT          | `-3 ** 2`, `+x`, `~x` |\n",
    "| 4          | `*`, `/`, `//`, `%`        | Multiplication, Division, Floor Division, Modulus | `5 * 2`, `10 / 3`, `10 // 3`, `10 % 3` |\n",
    "| 5          | `+`, `-`                   | Addition, Subtraction                         | `2 + 3`, `5 - 2`      |\n",
    "| 6          | `<<`, `>>`                 | Bitwise Shift Left, Bitwise Shift Right       | `2 << 1`, `8 >> 2`    |\n",
    "| 7          | `&`                        | Bitwise AND                                   | `5 & 3`               |\n",
    "| 8          | `^`                        | Bitwise XOR                                   | `5 ^ 3`               |\n",
    "| 9          | `|`                        | Bitwise OR                                    | `5 | 3`               |\n",
    "| 10         | `==`, `!=`, `>`, `<`, `>=`, `<=` | Equality, Inequality, Greater Than, Less Than, Greater Than or Equal To, Less Than or Equal To | `5 == 5`, `3 < 4`     |\n",
    "| 11         | `and`                      | Logical AND                                   | `True and False`      |\n",
    "| 12         | `or`                       | Logical OR                                    | `True or False`       |\n",
    "| 13         | `not`                      | Logical NOT                                   | `not True`            |\n",
    "| 14         | `=`                        | Assignment                                    | `x = 5`               |\n",
    "| 15         | `+=`, `-=`, `*=`, `/=`, `//=`, `%=` | Augmented Assignment                    | `x += 2`              |\n",
    "| 16         | `,`                        | Comma (used in tuples, lists, and function arguments) | `(1, 2, 3)`, `func(a, b)` |"
   ]
  },
  {
   "cell_type": "markdown",
   "id": "da66c759-79b3-4094-bf8a-ee34dd85cc8f",
   "metadata": {},
   "source": [
    "# 3.Math-Module\n",
    "- A module is a collection of functions, variables and classes, etc.\n",
    "- Math is a module that contains several functions to perform mathematical operations\n",
    "- if we want to use that module then we have to import it first."
   ]
  },
  {
   "cell_type": "code",
   "execution_count": 113,
   "id": "a5961e5d-5949-4c58-ba21-3f0ed54252b9",
   "metadata": {},
   "outputs": [
    {
     "data": {
      "text/plain": [
       "(4.0, 3.141592653589793)"
      ]
     },
     "execution_count": 113,
     "metadata": {},
     "output_type": "execute_result"
    }
   ],
   "source": [
    "import math as m\n",
    "m.sqrt(16), m.pi"
   ]
  },
  {
   "cell_type": "markdown",
   "id": "3139ba2e-6f7d-416e-9804-bdba5c786308",
   "metadata": {},
   "source": [
    "Common functions\n",
    "| Function        | Description                                                                                 |\n",
    "|-----------------|---------------------------------------------------------------------------------------------|\n",
    "| `math.abs(x)`   | Returns the absolute value of `x`.                                                          |\n",
    "| `math.ceil(x)`  | Returns the smallest integer greater than or equal to `x`.                                  |\n",
    "| `math.floor(x)` | Returns the largest integer less than or equal to `x`.                                      |\n",
    "| `math.factorial(x)` | Returns the factorial of `x`, where `x` is a non-negative integer.                        |\n",
    "| `math.fabs(x)`  | Returns the absolute value of `x` as a float.                                               |\n",
    "| `math.sqrt(x)`  | Returns the square root of `x`.                                                              |\n",
    "| `math.pow(x, y)`| Returns `x` raised to the power of `y`.                                                      |\n",
    "| `math.exp(x)`   | Returns `e` raised to the power of `x`.                                                      |\n",
    "| `math.log(x, base)` | Returns the logarithm of `x` to the specified `base`. If `base` is not provided, returns the natural logarithm. |\n",
    "| `math.log10(x)` | Returns the base-10 logarithm of `x`.                                                        |\n",
    "| `math.sin(x)`   | Returns the sine of `x`, where `x` is in radians.                                            |\n",
    "| `math.cos(x)`   | Returns the cosine of `x`, where `x` is in radians.                                          |\n",
    "| `math.tan(x)`   | Returns the tangent of `x`, where `x` is in radians.                                        |\n",
    "| `math.degrees(x)` | Converts angle `x` from radians to degrees.                                                |\n",
    "| `math.radians(x)` | Converts angle `x` from degrees to radians.                                                |\n",
    "| `math.trig(x)`  | Returns the trigonometric function of `x` (e.g., `sin`, `cos`, `tan`).                      |\n",
    "| `math.isqrt(x)` | Returns the integer square root of `x`, where `x` is a non-negative integer.                |\n",
    "| `math.gcd(x, y)`| Returns the greatest common divisor of `x` and `y`.                                         |\n",
    "| `math.hypot(x, y)` | Returns the Euclidean norm, `sqrt(x*x + y*y)`.                                               |\n",
    "| `math.atan2(y, x)` | Returns the arc tangent of `y / x` in radians, handling all quadrants.                     |\n",
    "| `math.asin(x)`  | Returns the arc sine of `x` in radians.                                                      |\n",
    "| `math.acos(x)`  | Returns the arc cosine of `x` in radians.                                                    |\n",
    "| `math.sinh(x)`  | Returns the hyperbolic sine of `x`.                                                           |\n",
    "| `math.cosh(x)`  | Returns the hyperbolic cosine of `x`.                                                         |\n",
    "| `math.tanh(x)`  | Returns the hyperbolic tangent of `x`.                                                        |\n"
   ]
  },
  {
   "cell_type": "markdown",
   "id": "587740d5-db4b-4207-98ca-4c1d88af1d98",
   "metadata": {},
   "source": [
    "Common constants\n",
    "| Constant       | Description                                               | Value                |\n",
    "|----------------|-----------------------------------------------------------|----------------------|\n",
    "| `math.pi`      | The mathematical constant π (pi), approximately 3.14159.  | `3.141592653589793`  |\n",
    "| `math.e`       | The mathematical constant e (Euler's number), approximately 2.71828. | `2.718281828459045`  |\n",
    "| `math.tau`     | The mathematical constant τ (tau), which is 2π, approximately 6.28318. | `6.283185307179586`  |\n",
    "| `math.inf`     | Represents positive infinity.                             | `float('inf')`       |\n",
    "| `math.nan`     | Represents Not-a-Number (NaN).                            | `float('nan')`       |\n",
    "| `math.nan`     | Represents a Not-a-Number (NaN) value.                    | `float('nan')`       |\n"
   ]
  },
  {
   "cell_type": "markdown",
   "id": "575fca47-3a9c-4651-a600-d28d3b1b8d3f",
   "metadata": {},
   "source": [
    "# 4.Flow-Control\n",
    "\n",
    "\n",
    "## 4.1.Conditional-statements\n",
    "- everything is same as java.\n",
    "\n",
    "**Note**:\n",
    "- else part is always optional\n",
    "- hence the various possible syntaxes are:\n",
    "  - if\n",
    "  - if - else\n",
    "  - if - elif - else\n",
    "  - if - elif\n",
    "\n",
    "## 4.2.Iterative-statements\n",
    "1. for loop\n",
    "2. while loop\n",
    "\n",
    "### 4.2.1.for-loop\n",
    "syntax:\n",
    "for x in sequence:\n",
    "    body\n",
    "\n",
    "where sequence can be string or any collection.\n",
    "body will be executed for every element present in the sequence.\n",
    "\n",
    "while loop is exactly same as java.\n",
    "\n",
    "## 4.3.Transfer-Statements\n",
    "### 4.3.1.break\n",
    "same as java\n",
    "\n",
    "### 4.3.2.continue\n",
    "same as java\n",
    "\n",
    "### 4.3.3.loops-with-else-block\n",
    "Inside loop execution, if break statement is not executed then only else part will be executed.\n",
    "> else means loop without break\n",
    "\n",
    "**Questions:**\n",
    "1. What is the difference btw for and while loop?\n",
    "we can use loops to repeat code execution\n",
    "repeat code for every item in sequence --> for loop\n",
    "repeat code as long as condition is true --> while loop\n",
    "\n",
    "2. How to exit from the loop?\n",
    "by using break statement\n",
    "\n",
    "3. How to skip some iteration inside loop?\n",
    "by using continue statement\n",
    "\n",
    "4. when else part will be executed wrt loops?\n",
    "if loop executed without break\n",
    "\n",
    "\n",
    "### 4.3.4.pass-statement\n",
    "- pass is a keyword in python\n",
    "- In our programming syntactically if block is required which won't do anything then we can define that empty block with pass keyword\n"
   ]
  },
  {
   "cell_type": "code",
   "execution_count": 116,
   "id": "96c52f1b-583c-4ab7-a8bd-c102b4969b59",
   "metadata": {},
   "outputs": [],
   "source": [
    "if True:\n",
    "    pass"
   ]
  },
  {
   "cell_type": "code",
   "execution_count": 117,
   "id": "af4d468a-01f1-4310-8504-b6aa3a7f2997",
   "metadata": {},
   "outputs": [],
   "source": [
    "def m1():\n",
    "    pass"
   ]
  },
  {
   "cell_type": "markdown",
   "id": "83aa73da-ce4a-47e0-870c-73672d4686a1",
   "metadata": {},
   "source": [
    "### 4.3.5.del-statement\n",
    "After using a variable, it is highly recommended to delete that variable if it is no longer required,so that the corresponding object is eligible for Garbage Collection. We can delete variable by using del keyword"
   ]
  },
  {
   "cell_type": "code",
   "execution_count": 118,
   "id": "aaca3851-682c-421d-aa82-54217451d608",
   "metadata": {},
   "outputs": [],
   "source": [
    "x = 10\n",
    "del x"
   ]
  },
  {
   "cell_type": "markdown",
   "id": "b390ce65-060b-40da-93e0-44501a5362ab",
   "metadata": {},
   "source": [
    "# 5.String\n",
    "- any sequence of characters within either single quotes or double quotes.\n",
    "\n",
    "**How to define multi-line string literals:**\n",
    "using triple quotes\n",
    "\n",
    "**How to access characters of a string:**\n",
    "1. by using index\n",
    "2. by using slice operator\n",
    "\n",
    "**Built-in Functions**\n",
    "1. len():\n",
    "We can use len() to find the number of characters present in the string.\n",
    "\n",
    "**Checking Membership:**"
   ]
  },
  {
   "cell_type": "code",
   "execution_count": 119,
   "id": "03261708-e8d5-4fc7-b887-0a02fd84747f",
   "metadata": {},
   "outputs": [
    {
     "data": {
      "text/plain": [
       "(True, True, False)"
      ]
     },
     "execution_count": 119,
     "metadata": {},
     "output_type": "execute_result"
    }
   ],
   "source": [
    "s = 'string'\n",
    "'s' in s, 't' in s, 'd' in s"
   ]
  },
  {
   "cell_type": "markdown",
   "id": "21962fff-0308-4e53-a96f-5288d080376d",
   "metadata": {},
   "source": [
    "**Comparsion of strings**\n",
    "- we can use comparision operators ( <, <=, >, >=, ==, != ) for strings\n",
    "- comparision will be performed based on alphabetical order."
   ]
  },
  {
   "cell_type": "markdown",
   "id": "23479afa-eb43-42b8-b743-021c90c68ccb",
   "metadata": {},
   "source": [
    "## 5.1.Removing-spaces\n",
    "We can use the following 3 methods\n",
    "1. rstrip() -> To remove spaces at right hand side\n",
    "2. lstrip() -> To remove spaces at left hand side\n",
    "3. strip()  -> To remove spaces both sides"
   ]
  },
  {
   "cell_type": "markdown",
   "id": "9b672880-88bb-4963-8eed-2820109de1c7",
   "metadata": {},
   "source": [
    "## 5.2.Finding-substrings:\n",
    "We can use the following 4 methods \n",
    "### for forward direction:\n",
    "find()\n",
    "index()\n",
    "\n",
    "### for backward direction:\n",
    "rfind()\n",
    "index()\n",
    "\n",
    "### 1. find()\n",
    "```\n",
    "s.find(substring)\n",
    "```\n",
    "Returns index of first occurence of the given substring. If it is not available then we will get -1."
   ]
  },
  {
   "cell_type": "code",
   "execution_count": 122,
   "id": "4fed7343-259b-4f50-bae0-08a0756264ca",
   "metadata": {},
   "outputs": [
    {
     "data": {
      "text/plain": [
       "(9, -1, 3, 21)"
      ]
     },
     "execution_count": 122,
     "metadata": {},
     "output_type": "execute_result"
    }
   ],
   "source": [
    "s='Learning Python is very easy'\n",
    "s.find(\"Python\"), s.find(\"Java\"), s.find('r'), s.rfind('r')"
   ]
  },
  {
   "cell_type": "markdown",
   "id": "5a250a7f-369f-48db-81fe-c393f60d6c4e",
   "metadata": {},
   "source": [
    "**Note:** By default find() method can search total string. We can also specify the boundaries to search.\n",
    "```\n",
    "s.find(substring, begin_index, end_index)\n",
    "```\n",
    "It will always search from begin index to end-1 index"
   ]
  },
  {
   "cell_type": "code",
   "execution_count": 123,
   "id": "a2d6912a-1774-4b61-bee7-f1e98cf6386f",
   "metadata": {},
   "outputs": [
    {
     "data": {
      "text/plain": [
       "(4, 10, -1)"
      ]
     },
     "execution_count": 123,
     "metadata": {},
     "output_type": "execute_result"
    }
   ],
   "source": [
    "s='durgaravipavanshiva'\n",
    "s.find('a'), s.find('a',7,15), s.find('z',7,15)"
   ]
  },
  {
   "cell_type": "markdown",
   "id": "f59de704-6e58-4104-b7d8-233467e888da",
   "metadata": {},
   "source": [
    "## 5.3.index() method\n",
    "index() method is exactly same as find() method except that if the specified substring is not available then we will get valueError."
   ]
  },
  {
   "cell_type": "code",
   "execution_count": 127,
   "id": "db668a30-1d89-4a99-8177-8027f4910c58",
   "metadata": {},
   "outputs": [
    {
     "data": {
      "text/plain": [
       "9"
      ]
     },
     "execution_count": 127,
     "metadata": {},
     "output_type": "execute_result"
    }
   ],
   "source": [
    "s = \"Learning python is very easy\"\n",
    "subs = 'python'\n",
    "s.index(subs)"
   ]
  },
  {
   "cell_type": "markdown",
   "id": "ec53a70b-b12b-4bad-96ca-4d40e910231c",
   "metadata": {},
   "source": [
    "## 5.4.Count\n",
    "We can find the number of occurences of substring present in the given using count() method.\n",
    "```\n",
    "s.count(substring) -> it will search through out the string\n",
    "s.count(substring, begin_index, end_index) -> it will search from begin index to end-1 index\n",
    "```"
   ]
  },
  {
   "cell_type": "code",
   "execution_count": 128,
   "id": "76e3229a-cd8a-470b-9123-288237181cb1",
   "metadata": {},
   "outputs": [
    {
     "data": {
      "text/plain": [
       "(5, 4, 2)"
      ]
     },
     "execution_count": 128,
     "metadata": {},
     "output_type": "execute_result"
    }
   ],
   "source": [
    "s = \"abcavcavcavcavccc\"\n",
    "s.count('a'), s.count('av'), s.count('a', 3,7)"
   ]
  },
  {
   "cell_type": "markdown",
   "id": "2fdcb871-3e93-425e-a1b7-46ad3310459c",
   "metadata": {},
   "source": [
    "## 5.5.replace\n",
    "```\n",
    "s.replace(oldstring, newstring)\n",
    "```\n",
    "inside s, every occurrence of oldstring will be replaced with newstring."
   ]
  },
  {
   "cell_type": "code",
   "execution_count": 133,
   "id": "c24e7e2a-a1b9-4119-b023-26041ab1ef79",
   "metadata": {},
   "outputs": [
    {
     "data": {
      "text/plain": [
       "'Learning Python is very easy'"
      ]
     },
     "execution_count": 133,
     "metadata": {},
     "output_type": "execute_result"
    }
   ],
   "source": [
    "s = \"Learning Python is very difficult\"\n",
    "s.replace(\"difficult\", \"easy\")"
   ]
  },
  {
   "cell_type": "markdown",
   "id": "d4f0b3ff-4788-43a2-9a64-43d8683b260b",
   "metadata": {},
   "source": [
    "#### Q. String object are immutable then how can we change the content by using replace() method.\n",
    "Once we creates string object, we cannot change the content. This non changeable behaviour is nothing but immutability. If we are trying to change the content by using any method, then with those changes a new object will be created and changes won't be happened in exisiting object.\n",
    "\n",
    "Hence with replace() method also a new object got created but existing object won't changed."
   ]
  },
  {
   "cell_type": "markdown",
   "id": "5d77f4cd-36fc-49f1-940c-23b6556998c1",
   "metadata": {},
   "source": [
    "## 5.6.split()\n",
    "we can split the string according to specified separator by using split() method.\n",
    "```\n",
    "l = s.split(separator)\n",
    "```\n",
    "The default separator is space. The return type of split() method is list."
   ]
  },
  {
   "cell_type": "code",
   "execution_count": 134,
   "id": "9695d640-155a-44d0-b0d1-851821a6f663",
   "metadata": {},
   "outputs": [
    {
     "name": "stdout",
     "output_type": "stream",
     "text": [
      "durga\n",
      "software\n",
      "solutions\n"
     ]
    }
   ],
   "source": [
    "s = \"durga software solutions\"\n",
    "l = s.split()\n",
    "for x in l: print(x)"
   ]
  },
  {
   "cell_type": "markdown",
   "id": "d60d13a9-9e2d-47e6-a787-057c9362d6f3",
   "metadata": {},
   "source": [
    "## 5.7.join()\n",
    "we can join a group of strings(list or tuple) wrt the given separator.\n",
    "```\n",
    "s = separator.join(group of strings)\n",
    "```"
   ]
  },
  {
   "cell_type": "code",
   "execution_count": 135,
   "id": "2f393ddc-ead0-4ea4-a03e-3300cb1d36d6",
   "metadata": {},
   "outputs": [
    {
     "data": {
      "text/plain": [
       "'1:2'"
      ]
     },
     "execution_count": 135,
     "metadata": {},
     "output_type": "execute_result"
    }
   ],
   "source": [
    "list1 = ['1','2']\n",
    "s = ':'.join(list1)\n",
    "s"
   ]
  },
  {
   "cell_type": "markdown",
   "id": "be54342a-f548-4e42-9c87-f29b6de4dfde",
   "metadata": {},
   "source": [
    "## 5.8.Changing-case\n",
    "We can change case of a string by using the following methods.\n",
    "1. `upper()`-> To convert all characters into upper case\n",
    "2. `lower()`-> to convert all characters into lower case\n",
    "3. `swapcase()`-> to change the case\n",
    "4. `title()`-> first character of every word is captial rest are lower case.\n",
    "5. `capitalize()`-> only first character of string is in captial rest are in lower case."
   ]
  },
  {
   "cell_type": "code",
   "execution_count": 137,
   "id": "d439b38a-5555-4ce2-977a-2199fb54d88a",
   "metadata": {},
   "outputs": [
    {
     "data": {
      "text/plain": [
       "('LEARNING PYTHON IS VERY EASY',\n",
       " 'learning python is very easy',\n",
       " 'LEARNING pYTHON IS VERY eASY',\n",
       " 'Learning Python Is Very Easy',\n",
       " 'Learning python is very easy')"
      ]
     },
     "execution_count": 137,
     "metadata": {},
     "output_type": "execute_result"
    }
   ],
   "source": [
    "s = \"learning Python is very Easy\"\n",
    "s.upper(), s.lower(), s.swapcase(), s.title(), s.capitalize()"
   ]
  },
  {
   "cell_type": "markdown",
   "id": "a7001a20-6b10-4d7d-bbee-417aa300f6ba",
   "metadata": {},
   "source": [
    "## 5.9.Checking-starting-and-ending\n",
    "```\n",
    "s.startswith(substring)\n",
    "s.endswith(substring)\n",
    "```"
   ]
  },
  {
   "cell_type": "code",
   "execution_count": 138,
   "id": "b401a628-f6c8-43e9-9dba-1c130f7bd83b",
   "metadata": {},
   "outputs": [
    {
     "data": {
      "text/plain": [
       "(True, True)"
      ]
     },
     "execution_count": 138,
     "metadata": {},
     "output_type": "execute_result"
    }
   ],
   "source": [
    "s = \"learning python is very easy\"\n",
    "s.startswith('learning'), s.endswith('easy')"
   ]
  },
  {
   "cell_type": "markdown",
   "id": "7afcc7e4-965d-4b14-804c-242eba6dc537",
   "metadata": {},
   "source": [
    "## 5.10 Checking-type-of-characters:\n",
    "1. `isalnum()` Returns true if all characters are alphanumeric\n",
    "2. `isalpha()` Returns true if all characters are only alphabets.\n",
    "3. `isdigit()` Returns true if all characters are digits only.\n",
    "4. `islower()` Returns true if all characters are in lower case.\n",
    "5. `isupper()` Returns true if all characters are in upper case.\n",
    "6. `istitle()` Returns true if string is in title case.\n",
    "7. `isspace()` Returns true if string contains only spaces."
   ]
  },
  {
   "cell_type": "markdown",
   "id": "09a71091-a245-4761-9432-fa5f75edf97a",
   "metadata": {},
   "source": [
    "## 5.11.Formatting-the-strings\n",
    "### 5.11.1.Formatting-variables"
   ]
  },
  {
   "cell_type": "code",
   "execution_count": 139,
   "id": "448a8982-af00-47bc-b2cd-66cafe3ef3dc",
   "metadata": {},
   "outputs": [
    {
     "name": "stdout",
     "output_type": "stream",
     "text": [
      "durga's salary is 10000 and his age is 48\n"
     ]
    }
   ],
   "source": [
    "name = 'durga'\n",
    "salary = 10000\n",
    "age = 48\n",
    "print(f\"{name}'s salary is {salary} and his age is {age}\")"
   ]
  },
  {
   "cell_type": "markdown",
   "id": "380596e3-f31f-4bcc-97c9-bacce7b0c381",
   "metadata": {},
   "source": [
    "### 5.11.2.Formatting-numbers\n",
    "- d -> decimal integer\n",
    "- f -> fixed floating point. The default is 6.\n",
    "- b -> binary format\n",
    "- o -> octal format\n",
    "- x -> hexadecimal format (lower-case)\n",
    "- X -> hexadecimal format (upper-case)"
   ]
  },
  {
   "cell_type": "code",
   "execution_count": 3,
   "id": "8526f4f6-6f34-4587-b034-19e065f871ba",
   "metadata": {},
   "outputs": [
    {
     "name": "stdout",
     "output_type": "stream",
     "text": [
      "The integer number is 123\n",
      "The integer number is 123\n",
      "The integer number is   123\n",
      "The integer number is 00123\n"
     ]
    }
   ],
   "source": [
    "# printing Integer values\n",
    "print(f\"The integer number is {123}\") # simple integer\n",
    "print(f\"The integer number is {123:d}\") # integer with default digits\n",
    "print(f\"The integer number is {123:5d}\") # int with 5 digits\n",
    "print(f\"The integer number is {123:05d}\") # int with 5 digits (with 0)"
   ]
  },
  {
   "cell_type": "code",
   "execution_count": 4,
   "id": "12bf803c-ad30-4227-897a-6858b4d72741",
   "metadata": {},
   "outputs": [
    {
     "name": "stdout",
     "output_type": "stream",
     "text": [
      "The float number is 12.34\n",
      "The float number is 12.340000\n",
      "The float number is   12.340\n",
      "The float number is 0012.340\n",
      "The float number is 0123.457\n",
      "The float number is 786786123.450\n"
     ]
    }
   ],
   "source": [
    "# printing decimal values\n",
    "print(f\"The float number is {12.34}\") # simple floating number\n",
    "print(f\"The float number is {12.34:f}\") # default precision (6)\n",
    "print(f\"The float number is {12.34:8.3f}\") # 8 digits with 3 after point\n",
    "print(f\"The float number is {12.34:08.3f}\") # same as above but with 0\n",
    "print(f\"The float number is {123.4567:08.3f}\") # round off \n",
    "print(f\"The float number is {786786123.45:08.3f}\") "
   ]
  },
  {
   "cell_type": "markdown",
   "id": "06838db6-3ac8-496e-9333-6fef0c930d90",
   "metadata": {},
   "source": [
    "**Note**\n",
    "{:08.3f}\n",
    "\n",
    "- total positions should be minimum 8\n",
    "- After the decimal point exactly 3 digits are allowed. If it is less then 0s will be places in the last positions.\n",
    "- If total number is <8 positions then 0 will be places in MSBx\n",
    "- If total number is >8 positions then all integral digits will be considered.\n",
    "- The extra digit we can take is only 0."
   ]
  },
  {
   "cell_type": "code",
   "execution_count": 7,
   "id": "604d0d48-c905-4cc5-8311-8708e7193800",
   "metadata": {},
   "outputs": [
    {
     "name": "stdout",
     "output_type": "stream",
     "text": [
      "Decimal Form: 153\n",
      "Binary Form: 10011001\n",
      "Octal Form: 231\n",
      "Hexadecimal Form: 9a\n",
      "Hexadecimal Form: 9A\n"
     ]
    }
   ],
   "source": [
    "# printing decimal(base-10) values in other number systems\n",
    "print(f\"Decimal Form: {153}\")\n",
    "print(f\"Binary Form: {153:b}\")\n",
    "print(f\"Octal Form: {153:o}\")\n",
    "print(f\"Hexadecimal Form: {154:x}\")\n",
    "print(f\"Hexadecimal Form: {154:X}\")"
   ]
  },
  {
   "cell_type": "markdown",
   "id": "37ee0e09-1409-4652-8a12-8e4a1188f8ba",
   "metadata": {},
   "source": [
    "### 5.11.3.Formatting-Signed-integers"
   ]
  },
  {
   "cell_type": "code",
   "execution_count": 9,
   "id": "71295bb2-4f8c-4b4f-b38b-7adaab26a41e",
   "metadata": {},
   "outputs": [
    {
     "name": "stdout",
     "output_type": "stream",
     "text": [
      "int value with +ve sign +123\n",
      "int value with -ve sign -123\n",
      "float value with +ve sign +123.230000\n",
      "float value with -ve sign -12.340000\n"
     ]
    }
   ],
   "source": [
    "print(f\"int value with +ve sign {123:+d}\")\n",
    "print(f\"int value with -ve sign {-123:+d}\")\n",
    "print(f\"float value with +ve sign {123.23:+f}\")\n",
    "print(f\"float value with -ve sign {-12.34:+f}\")"
   ]
  },
  {
   "cell_type": "markdown",
   "id": "767b0565-2346-4401-9766-15afe7321cfd",
   "metadata": {},
   "source": [
    "# 6.List\n",
    "- If we want to represent a group of individual objects as a single entity, then use List.\n",
    "Properties of List:\n",
    "- Insertion order is preserved\n",
    "- duplicate objects are allowed\n",
    "- heterogenous objects are allowed\n",
    "- List is growable in nature\n",
    "- List supports both +ve and -ve index"
   ]
  },
  {
   "cell_type": "markdown",
   "id": "de1e10c7-9919-4a45-b312-645d37472c4a",
   "metadata": {},
   "source": [
    "## 6.1.Creation-of-list-objects\n",
    "### 6.1.1.Empty-list"
   ]
  },
  {
   "cell_type": "code",
   "execution_count": 4,
   "id": "093548d0-aecd-451d-9d2e-c995fbcc1ec8",
   "metadata": {},
   "outputs": [
    {
     "data": {
      "text/plain": [
       "([], [], list, list)"
      ]
     },
     "execution_count": 4,
     "metadata": {},
     "output_type": "execute_result"
    }
   ],
   "source": [
    "l = []\n",
    "l2 = list()\n",
    "l, l2,  type(l), type(l2)"
   ]
  },
  {
   "cell_type": "markdown",
   "id": "0035921e-d174-4751-990f-a7a4dcf61c82",
   "metadata": {},
   "source": [
    "### 6.1.2.Static-input"
   ]
  },
  {
   "cell_type": "code",
   "execution_count": 2,
   "id": "def57baa-1f99-415e-bab4-c0ecbc66c5db",
   "metadata": {},
   "outputs": [
    {
     "data": {
      "text/plain": [
       "[10, 20, 30, 40]"
      ]
     },
     "execution_count": 2,
     "metadata": {},
     "output_type": "execute_result"
    }
   ],
   "source": [
    "l = [10,20,30,40]\n",
    "l"
   ]
  },
  {
   "cell_type": "markdown",
   "id": "504d9cb1-1e8d-47ea-a2a4-3a2c561d433e",
   "metadata": {},
   "source": [
    "### 6.1.3.Dynamic-input"
   ]
  },
  {
   "cell_type": "code",
   "execution_count": 5,
   "id": "4840839f-b630-43a6-b301-c33b7fea1678",
   "metadata": {},
   "outputs": [
    {
     "name": "stdin",
     "output_type": "stream",
     "text": [
      "Enter list: [10,20,30]\n"
     ]
    },
    {
     "data": {
      "text/plain": [
       "([10, 20, 30], list)"
      ]
     },
     "execution_count": 5,
     "metadata": {},
     "output_type": "execute_result"
    }
   ],
   "source": [
    "l = eval(input(\"Enter list:\"))\n",
    "l, type(l)"
   ]
  },
  {
   "cell_type": "markdown",
   "id": "dbaf809a-2145-45bd-a0c3-b765890bbb3c",
   "metadata": {},
   "source": [
    "### 6.1.4.List-function"
   ]
  },
  {
   "cell_type": "code",
   "execution_count": 6,
   "id": "4907c488-65f0-4609-9c00-f951f9c8468a",
   "metadata": {},
   "outputs": [
    {
     "data": {
      "text/plain": [
       "([0, 2, 4, 6, 8], list)"
      ]
     },
     "execution_count": 6,
     "metadata": {},
     "output_type": "execute_result"
    }
   ],
   "source": [
    "l = list(range(0,10,2))\n",
    "l, type(l)"
   ]
  },
  {
   "cell_type": "code",
   "execution_count": 7,
   "id": "5d0a9593-324c-4fff-bb17-690ca06aa82f",
   "metadata": {},
   "outputs": [
    {
     "data": {
      "text/plain": [
       "(['d', 'u', 'r', 'g', 'a'], list)"
      ]
     },
     "execution_count": 7,
     "metadata": {},
     "output_type": "execute_result"
    }
   ],
   "source": [
    "s = \"durga\"\n",
    "l = list(s)\n",
    "l, type(l)"
   ]
  },
  {
   "cell_type": "markdown",
   "id": "3d0cb7de-df6f-4386-aef7-311afb5f889e",
   "metadata": {},
   "source": [
    "### 6.1.5.With-split-function"
   ]
  },
  {
   "cell_type": "code",
   "execution_count": 8,
   "id": "aed09474-98cd-4049-badc-7ab3f375e73f",
   "metadata": {},
   "outputs": [
    {
     "data": {
      "text/plain": [
       "(['Learning', 'Python', 'is', 'very', 'Easy', '!!!'], list)"
      ]
     },
     "execution_count": 8,
     "metadata": {},
     "output_type": "execute_result"
    }
   ],
   "source": [
    "s = \"Learning Python is very Easy !!!\"\n",
    "l = s.split()\n",
    "l, type(l)"
   ]
  },
  {
   "cell_type": "markdown",
   "id": "bd487cef-0f5f-4752-8139-9b6b30a3d143",
   "metadata": {},
   "source": [
    "**NOTE:**\n",
    ">Sometimes we can take list inside another list, such type of lists are called nested lists."
   ]
  },
  {
   "cell_type": "markdown",
   "id": "ab920c02-00bc-4e75-b1c2-20f982c27277",
   "metadata": {},
   "source": [
    "## 6.2.Accesing-elements-of-list\n",
    "We can access elements of the list either by using index or using slice operator(:)"
   ]
  },
  {
   "cell_type": "markdown",
   "id": "f1e7e454-7512-4bd7-9998-0f7b29c06e59",
   "metadata": {},
   "source": [
    "### 6.2.1.By-using-index:\n",
    "- List follows zero based index (i.e. index of first element is zero.)\n",
    "- List supports both +ve and -ve indices\n",
    "- +ve index meant for left to right\n",
    "- -ve index meant for right to left"
   ]
  },
  {
   "cell_type": "code",
   "execution_count": 11,
   "id": "a4471ac5-3ad2-4f8a-9793-c095d33b4946",
   "metadata": {},
   "outputs": [
    {
     "data": {
      "text/plain": [
       "(10, 40)"
      ]
     },
     "execution_count": 11,
     "metadata": {},
     "output_type": "execute_result"
    }
   ],
   "source": [
    "l = list(range(10,41,10))\n",
    "l[0], l[-1]"
   ]
  },
  {
   "cell_type": "code",
   "execution_count": 12,
   "id": "e034a3c7-defd-4db7-99aa-e07350afc035",
   "metadata": {},
   "outputs": [],
   "source": [
    "# l[10] IndexError: list index out of range"
   ]
  },
  {
   "cell_type": "markdown",
   "id": "309f6536-a17e-47ff-8791-6ead21b84a8e",
   "metadata": {},
   "source": [
    "### 6.2.2.By-using-slice-operator:\n",
    "l2=l1[start:stop:step]\n",
    "\n",
    "```\n",
    "start => it indicates the index where slice has to start.\n",
    "         default value if 0\n",
    "\n",
    "Stop => it idicates the index where slice has to end.\n",
    "        default value is max, allowed index of list i.e. len of the list\n",
    "        \n",
    "Step => increment value.\n",
    "        default is 1\n",
    "```"
   ]
  },
  {
   "cell_type": "code",
   "execution_count": 32,
   "id": "77392602-f155-4082-aef9-64f31f98b564",
   "metadata": {},
   "outputs": [
    {
     "name": "stdout",
     "output_type": "stream",
     "text": [
      "[10, 20, 30, 40, 50, 60, 70, 80, 90]\n",
      "[30, 50, 70]\n",
      "[50, 60, 70, 80, 90]\n"
     ]
    }
   ],
   "source": [
    "l = list(range(10,100,10))\n",
    "print(l)\n",
    "print(l[2:7:2])\n",
    "print(l[4:100])"
   ]
  },
  {
   "cell_type": "markdown",
   "id": "c6df1ef0-5739-4087-834e-29c4d40b229e",
   "metadata": {},
   "source": [
    "## 6.3.List-vs-immutability\n",
    "Once we creates a list object, we can modify its content, Hence, list objects are mutable."
   ]
  },
  {
   "cell_type": "markdown",
   "id": "903e9069-cb23-4eaf-afb3-7c197b7597d5",
   "metadata": {},
   "source": [
    "## 6.4.List-methods"
   ]
  },
  {
   "cell_type": "markdown",
   "id": "4ebdb130-1373-4e4f-bdee-66a31d0b2364",
   "metadata": {},
   "source": [
    "### 6.4.1.len()\n",
    "returns the number of element present in the list"
   ]
  },
  {
   "cell_type": "code",
   "execution_count": 33,
   "id": "58dd97b9-0560-4073-ab9a-229672eecb76",
   "metadata": {},
   "outputs": [
    {
     "data": {
      "text/plain": [
       "9"
      ]
     },
     "execution_count": 33,
     "metadata": {},
     "output_type": "execute_result"
    }
   ],
   "source": [
    "len(l)"
   ]
  },
  {
   "cell_type": "markdown",
   "id": "f67608d0-2dc0-4e7f-b803-424a8bff1c5e",
   "metadata": {},
   "source": [
    "### 6.4.2.count()\n",
    "returns the number of occurence of specified item in the list."
   ]
  },
  {
   "cell_type": "code",
   "execution_count": 34,
   "id": "10973582-841d-4243-8083-122604cfbacb",
   "metadata": {},
   "outputs": [
    {
     "data": {
      "text/plain": [
       "1"
      ]
     },
     "execution_count": 34,
     "metadata": {},
     "output_type": "execute_result"
    }
   ],
   "source": [
    "l.count(20)"
   ]
  },
  {
   "cell_type": "markdown",
   "id": "f41f9ceb-9748-46d5-a161-e2beba205855",
   "metadata": {},
   "source": [
    "### 6.4.3.index()\n",
    "returns the index of first occurance of the specified item"
   ]
  },
  {
   "cell_type": "code",
   "execution_count": 35,
   "id": "78eb2408-2d28-4151-a14f-fef469eec959",
   "metadata": {},
   "outputs": [
    {
     "data": {
      "text/plain": [
       "5"
      ]
     },
     "execution_count": 35,
     "metadata": {},
     "output_type": "execute_result"
    }
   ],
   "source": [
    "l.index(60)"
   ]
  },
  {
   "cell_type": "markdown",
   "id": "d956bb16-062e-4b4f-b4aa-8ebf6a879b9c",
   "metadata": {},
   "source": [
    "If the item not present in list then we will get valueError"
   ]
  },
  {
   "cell_type": "markdown",
   "id": "80909c0b-b22e-4fd9-b324-efa361da473b",
   "metadata": {},
   "source": [
    "### 6.4.4.append()\n",
    "we can use append() function to add item at the end of the list."
   ]
  },
  {
   "cell_type": "code",
   "execution_count": 36,
   "id": "957c4469-8b98-4aef-89a1-ff1749452cfe",
   "metadata": {},
   "outputs": [
    {
     "data": {
      "text/plain": [
       "[10, 20]"
      ]
     },
     "execution_count": 36,
     "metadata": {},
     "output_type": "execute_result"
    }
   ],
   "source": [
    "l = list()\n",
    "l.append(10)\n",
    "l.append(20)\n",
    "l"
   ]
  },
  {
   "cell_type": "markdown",
   "id": "f97cbc7a-87ec-4bd5-92b2-cedd65984849",
   "metadata": {},
   "source": [
    "### 6.4.5.insert()\n",
    "to insert item at specified index position"
   ]
  },
  {
   "cell_type": "code",
   "execution_count": 37,
   "id": "e6156d75-b30b-42ce-8297-fab6b4664d07",
   "metadata": {},
   "outputs": [
    {
     "data": {
      "text/plain": [
       "[10, 888, 20]"
      ]
     },
     "execution_count": 37,
     "metadata": {},
     "output_type": "execute_result"
    }
   ],
   "source": [
    "l.insert(1, 888) # first index, then value\n",
    "l"
   ]
  },
  {
   "cell_type": "markdown",
   "id": "727416ac-2f19-43d5-a758-cb2b8d7e92d1",
   "metadata": {},
   "source": [
    "**NOTE:** If the specified index is greater than max index then element will be inserted at the position. If the specified index is smaller than min index then element will be inserted at first position."
   ]
  },
  {
   "cell_type": "markdown",
   "id": "7091d802-e227-4d2a-a1e2-a27a52fec009",
   "metadata": {},
   "source": [
    "### 6.4.6.extend()\n",
    "to add all items of one list to another list"
   ]
  },
  {
   "cell_type": "code",
   "execution_count": 38,
   "id": "98b0140e-515a-494d-beaf-d05097239fe4",
   "metadata": {},
   "outputs": [
    {
     "data": {
      "text/plain": [
       "[10, 888, 20, 1, 3, 5, 7, 9]"
      ]
     },
     "execution_count": 38,
     "metadata": {},
     "output_type": "execute_result"
    }
   ],
   "source": [
    "tmp_list = list(range(1,10,2))\n",
    "l.extend(tmp_list)\n",
    "l"
   ]
  },
  {
   "cell_type": "markdown",
   "id": "7565629a-3769-433a-a979-69237865476f",
   "metadata": {},
   "source": [
    "### 6.4.7.remove()\n",
    "- to remove specified item from the list\n",
    "- if the item is present multiple times then only first occurance will be removed"
   ]
  },
  {
   "cell_type": "code",
   "execution_count": 39,
   "id": "2ab00fe2-d65f-4a4f-a62e-495c45e62340",
   "metadata": {},
   "outputs": [
    {
     "data": {
      "text/plain": [
       "[10, 888, 1, 3, 5, 7, 9]"
      ]
     },
     "execution_count": 39,
     "metadata": {},
     "output_type": "execute_result"
    }
   ],
   "source": [
    "l.remove(20)\n",
    "l"
   ]
  },
  {
   "cell_type": "markdown",
   "id": "c861e97d-7796-47e3-8c32-5d72cba9fde0",
   "metadata": {},
   "source": [
    "**NOTE:**\n",
    "If the specified item not present in the list then we will get valueError."
   ]
  },
  {
   "cell_type": "markdown",
   "id": "d3057cdb-9ea4-4cd4-a257-0778a774b6c2",
   "metadata": {},
   "source": [
    "### 6.4.8.pop()\n",
    "It removes and returns the last element of the list\n",
    "This is only function which manipulates list and returns some element."
   ]
  },
  {
   "cell_type": "code",
   "execution_count": 40,
   "id": "e5648dd0-f7f9-4ee6-b007-ed80b54ae6ac",
   "metadata": {},
   "outputs": [
    {
     "data": {
      "text/plain": [
       "[10, 888, 1, 3, 5, 7]"
      ]
     },
     "execution_count": 40,
     "metadata": {},
     "output_type": "execute_result"
    }
   ],
   "source": [
    "l.pop()\n",
    "l"
   ]
  },
  {
   "cell_type": "markdown",
   "id": "693b1681-6ae7-444b-ba6a-8782a0610a08",
   "metadata": {},
   "source": [
    "**NOTE**: \n",
    "- If the list is empty then pop will raise error\n",
    "- pop() is the only function which manipulates the list and returns some value\n",
    "- In general, we can use append() and pop() functions to implement stack data structure by using list, which follows LIFO(Last In First Out) order.\n",
    "- In general we can use pop() function to remove last element  of the list. But we can use to remove elements based on index.\n",
    "\n",
    "- n.pop(index) ==> To remove and return element present at specified index.\n",
    "- n.pop() ==> to remove and return last element of the list"
   ]
  },
  {
   "cell_type": "code",
   "execution_count": 41,
   "id": "ce74daef-5e28-4d78-9d31-f2ae151070cc",
   "metadata": {},
   "outputs": [
    {
     "data": {
      "text/plain": [
       "(60, 30)"
      ]
     },
     "execution_count": 41,
     "metadata": {},
     "output_type": "execute_result"
    }
   ],
   "source": [
    "l = [10,20,30,40,50,60]\n",
    "l.pop(), l.pop(2)"
   ]
  },
  {
   "cell_type": "markdown",
   "id": "a6d9d17c-1243-434b-bfaf-5e4ad6d09681",
   "metadata": {},
   "source": [
    "### 6.4.9.reverse()\n",
    "we can use to reverse() order of elements of list"
   ]
  },
  {
   "cell_type": "code",
   "execution_count": 45,
   "id": "0dd60f88-57d8-44af-ba78-17d6d575c3b2",
   "metadata": {},
   "outputs": [
    {
     "name": "stdout",
     "output_type": "stream",
     "text": [
      "[10, 20, 40, 50]\n",
      "Reversed list: [50, 40, 20, 10]\n"
     ]
    }
   ],
   "source": [
    "print(l)\n",
    "l.reverse()\n",
    "print(\"Reversed list:\",l)"
   ]
  },
  {
   "cell_type": "markdown",
   "id": "0320eaf8-06a5-4d7a-aff6-d05fbbf2eb81",
   "metadata": {},
   "source": [
    "### 6.4.10.sort()\n",
    "- In list by default insertion order is preserved. If want to sort the elements of list according to default natural sorting order then we should go for sort() method.\n",
    "- For numbers ==> default natural sorting order is Ascending Order\n",
    "- For strings ==> default natural sorting order is Alphabetical Order"
   ]
  },
  {
   "cell_type": "code",
   "execution_count": 51,
   "id": "1850e3dc-940a-47ee-bc55-4191bdb855e5",
   "metadata": {},
   "outputs": [
    {
     "name": "stdout",
     "output_type": "stream",
     "text": [
      "[10, 20, 40, 50]\n",
      "Sorted numerical list: [10, 20, 40, 50]\n",
      "['dog', 'cat', 'banana', 'apple']\n",
      "sorted string list ['apple', 'banana', 'cat', 'dog']\n"
     ]
    }
   ],
   "source": [
    "print(l)\n",
    "l.sort()\n",
    "print(\"Sorted numerical list:\",l)\n",
    "\n",
    "s = ['dog','cat','banana','apple']\n",
    "print(s)\n",
    "s.sort()\n",
    "print(\"sorted string list\",s)"
   ]
  },
  {
   "cell_type": "markdown",
   "id": "434a73ce-38ad-4456-9de8-4c2bb272a53e",
   "metadata": {},
   "source": [
    "**NOTE:**\n",
    "- to use sort() function, compulsory list should contain only homogeneous elements. Otherwise we will get TypeError."
   ]
  },
  {
   "cell_type": "markdown",
   "id": "519093b0-e73c-4a06-987d-31ced56fb659",
   "metadata": {},
   "source": [
    "To sort in reverse from default natural order:\n",
    "- use attribute `reverse=True`"
   ]
  },
  {
   "cell_type": "code",
   "execution_count": 52,
   "id": "ff34425a-d23c-4bde-a4b2-b51d961a6cd9",
   "metadata": {},
   "outputs": [
    {
     "data": {
      "text/plain": [
       "['dog', 'cat', 'banana', 'apple']"
      ]
     },
     "execution_count": 52,
     "metadata": {},
     "output_type": "execute_result"
    }
   ],
   "source": [
    "s.sort(reverse=True)\n",
    "s"
   ]
  },
  {
   "cell_type": "markdown",
   "id": "2ff69ca1-d71e-4030-a448-4d61783f7fb9",
   "metadata": {},
   "source": [
    "### 6.4.11.clear()\n",
    "we can use clear() function to remove all elements of list"
   ]
  },
  {
   "cell_type": "code",
   "execution_count": 69,
   "id": "b6f606bc-4d38-4d3a-b990-87fdf874e19c",
   "metadata": {},
   "outputs": [
    {
     "data": {
      "text/plain": [
       "[]"
      ]
     },
     "execution_count": 69,
     "metadata": {},
     "output_type": "execute_result"
    }
   ],
   "source": [
    "l = [10,20,30,40]\n",
    "l.clear()\n",
    "l"
   ]
  },
  {
   "cell_type": "markdown",
   "id": "2ee60116-43e1-448b-bba1-fdece725cff5",
   "metadata": {},
   "source": [
    "## 6.5.Aliasing-and-cloning-of-list-objects\n",
    ">The process of giving another reference variable to the existing list is called aliasing."
   ]
  },
  {
   "cell_type": "code",
   "execution_count": 54,
   "id": "d6728aba-cbd6-4d56-8126-1ed940afd7a6",
   "metadata": {},
   "outputs": [
    {
     "data": {
      "text/plain": [
       "True"
      ]
     },
     "execution_count": 54,
     "metadata": {},
     "output_type": "execute_result"
    }
   ],
   "source": [
    "x = [10,20,30,40]\n",
    "y=x\n",
    "id(x) == id(y)"
   ]
  },
  {
   "cell_type": "markdown",
   "id": "c8bf40b3-07f3-4f42-aa08-59ddc30fb4e2",
   "metadata": {},
   "source": [
    "The problem in this approach is by using one reference variable if we are changing content, then those changes will be reflected to the other reference variable."
   ]
  },
  {
   "cell_type": "code",
   "execution_count": 55,
   "id": "9acd8474-b170-4b16-8eef-f5ee07b4a752",
   "metadata": {},
   "outputs": [
    {
     "data": {
      "text/plain": [
       "[888, 20, 30, 40]"
      ]
     },
     "execution_count": 55,
     "metadata": {},
     "output_type": "execute_result"
    }
   ],
   "source": [
    "x[0] =888\n",
    "y"
   ]
  },
  {
   "cell_type": "markdown",
   "id": "5cba4dff-9528-4960-a619-7d7d07157d89",
   "metadata": {},
   "source": [
    "To overcome this problem we should go for cloning.\n",
    ">The process of creating exactly duplicate independent object is called cloning\n",
    "\n",
    "We can implement cloning by using slice operator or by using `copy()` function."
   ]
  },
  {
   "cell_type": "code",
   "execution_count": 56,
   "id": "e21a6e36-e84d-4722-9c1d-f936ae6b8e5d",
   "metadata": {},
   "outputs": [
    {
     "data": {
      "text/plain": [
       "False"
      ]
     },
     "execution_count": 56,
     "metadata": {},
     "output_type": "execute_result"
    }
   ],
   "source": [
    "x = [10,20,30,40]\n",
    "y = x[:]\n",
    "id(x) ==id(y)"
   ]
  },
  {
   "cell_type": "code",
   "execution_count": 57,
   "id": "96cf4962-963a-472c-95ea-f719eb115993",
   "metadata": {},
   "outputs": [
    {
     "data": {
      "text/plain": [
       "False"
      ]
     },
     "execution_count": 57,
     "metadata": {},
     "output_type": "execute_result"
    }
   ],
   "source": [
    "x = [10,20,30,40]\n",
    "y = x.copy()\n",
    "id(x) ==id(y)"
   ]
  },
  {
   "cell_type": "markdown",
   "id": "e57e873b-a90c-4873-a159-37a90534d60c",
   "metadata": {},
   "source": [
    "Q.What is the difference btw = and copy() function?\n",
    "- = meant for aliasing\n",
    "- copy() function meant for cloning"
   ]
  },
  {
   "cell_type": "markdown",
   "id": "ef0e51dd-4d3c-461d-b54b-17f3306c38fc",
   "metadata": {},
   "source": [
    "## 6.6.Operations-on-list\n",
    "### 6.6.1.Concatenation"
   ]
  },
  {
   "cell_type": "code",
   "execution_count": 59,
   "id": "357b1bed-e537-4bcb-a533-893418a9f0f0",
   "metadata": {},
   "outputs": [
    {
     "data": {
      "text/plain": [
       "[10, 20, 30, 40, 50, 60]"
      ]
     },
     "execution_count": 59,
     "metadata": {},
     "output_type": "execute_result"
    }
   ],
   "source": [
    "a = [10,20,30]\n",
    "b = [40,50,60]\n",
    "a+b"
   ]
  },
  {
   "cell_type": "markdown",
   "id": "04e07414-f850-4769-a305-6818493b20f1",
   "metadata": {},
   "source": [
    "**NOTE:**\n",
    "- to use + operator compulsory both arguments should be list objects, otherwise we will get typeError."
   ]
  },
  {
   "cell_type": "code",
   "execution_count": 62,
   "id": "74535319-bc99-4107-bcbc-57f682578fc1",
   "metadata": {},
   "outputs": [
    {
     "data": {
      "text/plain": [
       "[10, 20, 30, 40]"
      ]
     },
     "execution_count": 62,
     "metadata": {},
     "output_type": "execute_result"
    }
   ],
   "source": [
    "# a+40 this will give error\n",
    "# to add some integer in the list first convert it into list\n",
    "a+[40]"
   ]
  },
  {
   "cell_type": "markdown",
   "id": "12d0d64f-0e58-42e0-9dcb-737476e6bbf9",
   "metadata": {},
   "source": [
    "### 6.6.2.Repetition-operator\n",
    "- we can use repetition operator * to repeat element of the list specified number of times."
   ]
  },
  {
   "cell_type": "code",
   "execution_count": 63,
   "id": "2966c608-ba9c-4635-be57-7ad1483f3e6e",
   "metadata": {},
   "outputs": [
    {
     "data": {
      "text/plain": [
       "[10, 20, 30, 10, 20, 30, 10, 20, 30]"
      ]
     },
     "execution_count": 63,
     "metadata": {},
     "output_type": "execute_result"
    }
   ],
   "source": [
    "x = [10,20,30]\n",
    "y = x*3\n",
    "y"
   ]
  },
  {
   "cell_type": "markdown",
   "id": "2757dce2-7b8d-43c4-a6b2-faea4fcf5835",
   "metadata": {},
   "source": [
    "## 6.7.Comparing List Objects"
   ]
  },
  {
   "cell_type": "code",
   "execution_count": 64,
   "id": "34d60df2-7283-4324-9cab-b17f66371a6e",
   "metadata": {},
   "outputs": [
    {
     "data": {
      "text/plain": [
       "(True, False, True)"
      ]
     },
     "execution_count": 64,
     "metadata": {},
     "output_type": "execute_result"
    }
   ],
   "source": [
    "x = ['Dog', 'Cat', 'Rat']\n",
    "y = ['Dog', 'Cat', 'Rat']\n",
    "z = ['DOG', 'CAT', 'RAT']\n",
    "x==y, x==z, x!=z"
   ]
  },
  {
   "cell_type": "markdown",
   "id": "7af4d32c-d584-414e-843e-9b254d548b5d",
   "metadata": {},
   "source": [
    "**NOTE:**\n",
    "Whenever we are using comparision operators (==, !=) for list objects then the following should be considered.\n",
    "1. The number of elements.\n",
    "2. The order of elements.\n",
    "3. The content of elements (case sensitive)"
   ]
  },
  {
   "cell_type": "markdown",
   "id": "eba66de5-e023-46aa-aa6d-0a5a64e39979",
   "metadata": {},
   "source": [
    "**NOTE:**\n",
    "- whenever we are using relational operators (<, <=, >, >=) between list objects, only first element comparision will be performed. "
   ]
  },
  {
   "cell_type": "code",
   "execution_count": 67,
   "id": "04321662-22d5-46d2-b922-3d3221119d7e",
   "metadata": {},
   "outputs": [
    {
     "data": {
      "text/plain": [
       "(True, True, False)"
      ]
     },
     "execution_count": 67,
     "metadata": {},
     "output_type": "execute_result"
    }
   ],
   "source": [
    "x = [80,20,30]\n",
    "y = [70,80,90]\n",
    "x>y, x>=y, x<y"
   ]
  },
  {
   "cell_type": "markdown",
   "id": "b3d4d7a5-d407-4307-8e45-9ed5ad544e25",
   "metadata": {},
   "source": [
    "## 6.8.Membership-operator\n",
    "- we can check whether element is a member of the list or not by using membership operators.\n",
    "    - in\n",
    "    - not in"
   ]
  },
  {
   "cell_type": "code",
   "execution_count": 68,
   "id": "9fca1d09-b294-4d5f-8bbc-f4b09f7faa2b",
   "metadata": {},
   "outputs": [
    {
     "data": {
      "text/plain": [
       "(True, False)"
      ]
     },
     "execution_count": 68,
     "metadata": {},
     "output_type": "execute_result"
    }
   ],
   "source": [
    "l = [10,50,60,30,20]\n",
    "10 in l, 90 in l"
   ]
  },
  {
   "cell_type": "markdown",
   "id": "cfd90ba5-1299-4eb9-955c-bd3a3ad70e3e",
   "metadata": {},
   "source": [
    "## 6.9.List-comprehensions\n",
    "- It is very easy and compact way of creating list objects from any iterable objects(like list, tuple, dict, range, etc) based on some condition.\n",
    "Syntax\n",
    "```\n",
    "list=[expression for item in list if condition]\n",
    "```"
   ]
  },
  {
   "cell_type": "code",
   "execution_count": 70,
   "id": "30f98950-9e2c-4c43-9670-d07af9d52f1e",
   "metadata": {},
   "outputs": [
    {
     "data": {
      "text/plain": [
       "[1, 4, 9, 16, 25, 36, 49, 64, 81, 100]"
      ]
     },
     "execution_count": 70,
     "metadata": {},
     "output_type": "execute_result"
    }
   ],
   "source": [
    "s = [x*x for x in range(1,11)]\n",
    "s"
   ]
  },
  {
   "cell_type": "code",
   "execution_count": 73,
   "id": "33e7386d-a63a-48b6-a340-cf9e735fbdb8",
   "metadata": {},
   "outputs": [
    {
     "data": {
      "text/plain": [
       "[1.0, 3.0, 5.0, 7.0, 9.0]"
      ]
     },
     "execution_count": 73,
     "metadata": {},
     "output_type": "execute_result"
    }
   ],
   "source": [
    "m = [x**0.5 for x in s if x%2==1]\n",
    "m"
   ]
  },
  {
   "cell_type": "code",
   "execution_count": 74,
   "id": "be569e16-aa1c-48aa-b9eb-a3d4bf4ab572",
   "metadata": {},
   "outputs": [
    {
     "data": {
      "text/plain": [
       "['h', 'h', 'C', 'N']"
      ]
     },
     "execution_count": 74,
     "metadata": {},
     "output_type": "execute_result"
    }
   ],
   "source": [
    "words = [\"hello\", \"hi\", \"Chiranjeevi\", \"Nageshwar\"]\n",
    "l = [w[0] for w in words]\n",
    "l"
   ]
  },
  {
   "cell_type": "markdown",
   "id": "87fa2d8b-b2d9-4746-aa37-dc68a8995b5b",
   "metadata": {},
   "source": [
    "# 7.Tuple\n",
    "Tuple is exactly same as List except that it is immutable. i.e. once we creates Tuple object, we cannot perform any changes in that object.\n",
    "- tuple is read version of list\n",
    "- If our data is fixed and never changes then we should go for tuple.\n",
    "- Insertion order is preserved\n",
    "- Duplicates are allowed\n",
    "- Heterogeneous objects are allowed\n",
    "- we can preserve insertion order and we can differentiate duplicate objects by using index. Hence, index will play important role in Tuple also.\n",
    "- Tuple supports both +ve and -ve index. +ve index means forward direction and -ve index backward direction.\n",
    "- We can represent tuple elements within paranthesis and with comma separator `parenthesis are optional` but recommended to use."
   ]
  },
  {
   "cell_type": "code",
   "execution_count": 1,
   "id": "48c0dcbf-989e-45d7-8c73-c84a41610dfd",
   "metadata": {},
   "outputs": [
    {
     "data": {
      "text/plain": [
       "((10, 20, 30, 40), tuple)"
      ]
     },
     "execution_count": 1,
     "metadata": {},
     "output_type": "execute_result"
    }
   ],
   "source": [
    "t = 10,20,30,40\n",
    "t, type(t)"
   ]
  },
  {
   "cell_type": "markdown",
   "id": "321fb20a-11f0-41ac-8cde-ac781d5538ca",
   "metadata": {},
   "source": [
    "**NOTE:**\n",
    "- we have to take special care about single valued tuple.\n",
    "- compulsary the value should ends with comma, otherwise it is treated as tuple."
   ]
  },
  {
   "cell_type": "code",
   "execution_count": 2,
   "id": "61e5da90-391f-4231-971c-dceb19a79611",
   "metadata": {},
   "outputs": [
    {
     "data": {
      "text/plain": [
       "((10,), tuple)"
      ]
     },
     "execution_count": 2,
     "metadata": {},
     "output_type": "execute_result"
    }
   ],
   "source": [
    "t = (10,)\n",
    "t, type(t)"
   ]
  },
  {
   "cell_type": "markdown",
   "id": "fa597be6-af7d-4f3e-aef7-ffd6633edaa0",
   "metadata": {},
   "source": [
    "## 7.1.Tuple-creation\n",
    "### 7.1.1.Empty-tuple"
   ]
  },
  {
   "cell_type": "code",
   "execution_count": 8,
   "id": "19e2f04d-dc5e-4b8c-b209-c52a70320034",
   "metadata": {},
   "outputs": [
    {
     "data": {
      "text/plain": [
       "((), tuple)"
      ]
     },
     "execution_count": 8,
     "metadata": {},
     "output_type": "execute_result"
    }
   ],
   "source": [
    "t = ()\n",
    "t, type(t)"
   ]
  },
  {
   "cell_type": "code",
   "execution_count": 9,
   "id": "8443bf1e-ff50-4103-9f00-1dea6cdba428",
   "metadata": {},
   "outputs": [
    {
     "data": {
      "text/plain": [
       "((), tuple)"
      ]
     },
     "execution_count": 9,
     "metadata": {},
     "output_type": "execute_result"
    }
   ],
   "source": [
    "t = tuple()\n",
    "t, type(t)"
   ]
  },
  {
   "cell_type": "markdown",
   "id": "b3c0024d-2b6f-4640-8d10-35b28daeb88a",
   "metadata": {},
   "source": [
    "### 7.1.2.Static-input"
   ]
  },
  {
   "cell_type": "code",
   "execution_count": 5,
   "id": "b92b929d-6ed4-4fa5-9826-a8777870fd9e",
   "metadata": {},
   "outputs": [
    {
     "data": {
      "text/plain": [
       "((10,), tuple)"
      ]
     },
     "execution_count": 5,
     "metadata": {},
     "output_type": "execute_result"
    }
   ],
   "source": [
    "t = (10,)\n",
    "t, type(t)"
   ]
  },
  {
   "cell_type": "code",
   "execution_count": 6,
   "id": "2a7a02bc-acf5-4019-b430-ee21792b8a3f",
   "metadata": {},
   "outputs": [
    {
     "data": {
      "text/plain": [
       "((10, 20, 30), (10, 20, 30), tuple, tuple)"
      ]
     },
     "execution_count": 6,
     "metadata": {},
     "output_type": "execute_result"
    }
   ],
   "source": [
    "t = 10,20,30\n",
    "t1 = (10,20,30)\n",
    "t, t1, type(t), type(t1)"
   ]
  },
  {
   "cell_type": "markdown",
   "id": "217ecf4d-7401-4b9a-93a3-ddf6d0ac1f10",
   "metadata": {},
   "source": [
    "### 7.1.2.By-sequences\n",
    "we can create from any seq like list, range, set with the help of `tuple()` function."
   ]
  },
  {
   "cell_type": "code",
   "execution_count": 11,
   "id": "ca62e0fe-2ad0-489d-8e6c-0b899336d99b",
   "metadata": {},
   "outputs": [
    {
     "data": {
      "text/plain": [
       "((10, 20, 30, 40), tuple)"
      ]
     },
     "execution_count": 11,
     "metadata": {},
     "output_type": "execute_result"
    }
   ],
   "source": [
    "l = [10,20,30,40]\n",
    "t = tuple(l)\n",
    "t, type(t)"
   ]
  },
  {
   "cell_type": "code",
   "execution_count": 13,
   "id": "1641346e-370a-4596-b22e-3f6a8cf5a62d",
   "metadata": {},
   "outputs": [
    {
     "data": {
      "text/plain": [
       "(10, 20, 30, 40, 50, 60, 70, 80, 90)"
      ]
     },
     "execution_count": 13,
     "metadata": {},
     "output_type": "execute_result"
    }
   ],
   "source": [
    "t = tuple(range(10,100,10))\n",
    "t"
   ]
  },
  {
   "cell_type": "markdown",
   "id": "25e9a778-a9fa-4715-8e40-e8ba5fcd42b7",
   "metadata": {},
   "source": [
    "## 7.2.Accessing-elements-of-tuple\n",
    "we can access either by index or by slice operator."
   ]
  },
  {
   "cell_type": "markdown",
   "id": "8a0cfd04-d756-4791-8953-9eb57d0d70ad",
   "metadata": {},
   "source": [
    "### 7.2.1.By-using-index"
   ]
  },
  {
   "cell_type": "code",
   "execution_count": 16,
   "id": "dcdcb3d2-9bb7-4723-be81-03d8a62aa3c4",
   "metadata": {},
   "outputs": [
    {
     "data": {
      "text/plain": [
       "(10, 40)"
      ]
     },
     "execution_count": 16,
     "metadata": {},
     "output_type": "execute_result"
    }
   ],
   "source": [
    "t = (10,20,30,40)\n",
    "t[0], t[-1]"
   ]
  },
  {
   "cell_type": "code",
   "execution_count": 17,
   "id": "34c34867-8547-48a8-aa4e-80f1f71a834b",
   "metadata": {},
   "outputs": [],
   "source": [
    "# t[100] IndexError: tuple index out of range"
   ]
  },
  {
   "cell_type": "markdown",
   "id": "09d2211f-38ae-4366-ace3-ca82d923141d",
   "metadata": {},
   "source": [
    "### 7.2.2.By-using-slice-operator"
   ]
  },
  {
   "cell_type": "code",
   "execution_count": 18,
   "id": "6d55a4f9-b5bd-4278-a319-a03f7a3ef004",
   "metadata": {},
   "outputs": [
    {
     "data": {
      "text/plain": [
       "((30, 40, 50), (30, 40, 50))"
      ]
     },
     "execution_count": 18,
     "metadata": {},
     "output_type": "execute_result"
    }
   ],
   "source": [
    "t = (10,20,30,40,50)\n",
    "\n",
    "t[2:5], t[2:100]"
   ]
  },
  {
   "cell_type": "markdown",
   "id": "dc9805e7-e6c2-42d3-8ff2-2a540d6c02b0",
   "metadata": {},
   "source": [
    "**Tuple vs immutability**\n",
    "Once we creates tuple, we cannot change its content.\n",
    "Hence tuple objects are immutable."
   ]
  },
  {
   "cell_type": "code",
   "execution_count": 27,
   "id": "7dc4c693-e526-46d0-a763-10214269183b",
   "metadata": {},
   "outputs": [
    {
     "data": {
      "text/plain": [
       "array([[ 58,  64],\n",
       "       [139, 154]])"
      ]
     },
     "execution_count": 27,
     "metadata": {},
     "output_type": "execute_result"
    }
   ],
   "source": [
    "import numpy as np\n",
    "a = np.array([[1,2,3],[4,5,6]])\n",
    "b = np.array([[7,8],[9,10],[11,12]])\n",
    "np.matmul(a,b)"
   ]
  },
  {
   "cell_type": "code",
   "execution_count": null,
   "id": "cc66a991-558c-4953-810b-740186dc9419",
   "metadata": {},
   "outputs": [],
   "source": []
  }
 ],
 "metadata": {
  "kernelspec": {
   "display_name": "Python 3 (ipykernel)",
   "language": "python",
   "name": "python3"
  },
  "language_info": {
   "codemirror_mode": {
    "name": "ipython",
    "version": 3
   },
   "file_extension": ".py",
   "mimetype": "text/x-python",
   "name": "python",
   "nbconvert_exporter": "python",
   "pygments_lexer": "ipython3",
   "version": "3.12.5"
  }
 },
 "nbformat": 4,
 "nbformat_minor": 5
}
